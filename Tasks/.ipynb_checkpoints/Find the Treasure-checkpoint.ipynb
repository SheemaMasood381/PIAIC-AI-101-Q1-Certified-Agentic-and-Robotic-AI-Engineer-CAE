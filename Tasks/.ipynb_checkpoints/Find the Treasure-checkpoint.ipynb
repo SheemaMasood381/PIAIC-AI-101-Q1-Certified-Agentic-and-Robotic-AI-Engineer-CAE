{
 "cells": [
  {
   "cell_type": "code",
   "execution_count": 3,
   "id": "1b3efb80-857a-4ddd-be82-bac7b247530b",
   "metadata": {},
   "outputs": [
    {
     "name": "stdout",
     "output_type": "stream",
     "text": [
      "Welcome to the 'Find the Treasure' game!\n",
      "Choose a number between 1 and 20 as the treasure location.\n",
      "The computer will try to find the treasure using the least possible steps.\n"
     ]
    },
    {
     "name": "stdin",
     "output_type": "stream",
     "text": [
      "Enter the treasure's location (1-20):  17\n"
     ]
    },
    {
     "name": "stdout",
     "output_type": "stream",
     "text": [
      "The computer will now try to find the treasure...\n",
      "Step 1: Checking clue at number 10...\n",
      "Too low!\n",
      "Step 2: Checking clue at number 15...\n",
      "Too low!\n",
      "Step 3: Checking clue at number 18...\n",
      "Too high!\n",
      "Step 4: Checking clue at number 16...\n",
      "Too low!\n",
      "Step 5: Checking clue at number 17...\n",
      "The computer found the treasure!\n",
      "It took 5 guesses to find the treasure.\n",
      "Thank you for playing 'Find the Treasure'!\n"
     ]
    }
   ],
   "source": [
    "# Python program for the \"Find the Treasure\" game\n",
    "\n",
    "def find_the_treasure():\n",
    "    print(\"Welcome to the 'Find the Treasure' game!\")\n",
    "    print(\"Choose a number between 1 and 20 as the treasure location.\")\n",
    "    print(\"The computer will try to find the treasure using the least possible steps.\")\n",
    "\n",
    "    # Ask the user to set the treasure location\n",
    "    while True:\n",
    "        try:\n",
    "            treasure_location = int(input(\"Enter the treasure's location (1-20): \"))\n",
    "            if 1 <= treasure_location <= 20:\n",
    "                break\n",
    "            else:\n",
    "                print(\"Please enter a number between 1 and 20.\")\n",
    "        except ValueError:\n",
    "            print(\"Invalid input. Please enter a number between 1 and 20.\")\n",
    "\n",
    "    print(\"The computer will now try to find the treasure...\")\n",
    "\n",
    "    # Computer uses binary search to guess the treasure location\n",
    "    low = 1\n",
    "    high = 20\n",
    "    guesses = 0\n",
    "\n",
    "    while low <= high:\n",
    "        guesses += 1\n",
    "        guess = (low + high) // 2\n",
    "        print(f\"Step {guesses}: Checking clue at number {guess}...\")\n",
    "\n",
    "        if guess < treasure_location:\n",
    "            print(\"Too low!\")\n",
    "            low = guess + 1\n",
    "        elif guess > treasure_location:\n",
    "            print(\"Too high!\")\n",
    "            high = guess - 1\n",
    "        else:\n",
    "            print(\"The computer found the treasure!\")\n",
    "            print(f\"It took {guesses} guesses to find the treasure.\")\n",
    "            break\n",
    "\n",
    "    print(\"Thank you for playing 'Find the Treasure'!\")\n",
    "\n",
    "# Run the game\n",
    "if __name__ == \"__main__\":\n",
    "    find_the_treasure()\n"
   ]
  },
  {
   "cell_type": "code",
   "execution_count": 4,
   "id": "e5d5115d-87d8-4ceb-859f-e74f09dc5bf7",
   "metadata": {},
   "outputs": [
    {
     "name": "stdout",
     "output_type": "stream",
     "text": [
      "Welcome to the 'Find the Treasure' game!\n",
      "Choose a number between 1 and 20 as the treasure location.\n",
      "The computer will try to find the treasure using the least possible steps.\n"
     ]
    },
    {
     "name": "stdin",
     "output_type": "stream",
     "text": [
      "Enter the treasure's location (1-20):  20\n"
     ]
    },
    {
     "name": "stdout",
     "output_type": "stream",
     "text": [
      "The computer will now try to find the treasure...\n",
      "Step 1: Checking clue at number 10...\n",
      "Too low!\n",
      "Step 2: Checking clue at number 15...\n",
      "Too low!\n",
      "Step 3: Checking clue at number 18...\n",
      "Too low!\n",
      "Step 4: Checking clue at number 19...\n",
      "Too low!\n",
      "Step 5: Checking clue at number 20...\n",
      "The computer found the treasure!\n",
      "It took 5 guesses to find the treasure.\n",
      "Thank you for playing 'Find the Treasure'!\n"
     ]
    }
   ],
   "source": [
    "# Run the game\n",
    "if __name__ == \"__main__\":\n",
    "    find_the_treasure()"
   ]
  },
  {
   "cell_type": "code",
   "execution_count": null,
   "id": "73fe126e-f92d-44f4-95d9-1c0b17dff7e2",
   "metadata": {},
   "outputs": [],
   "source": []
  }
 ],
 "metadata": {
  "kernelspec": {
   "display_name": "Python 3 (ipykernel)",
   "language": "python",
   "name": "python3"
  },
  "language_info": {
   "codemirror_mode": {
    "name": "ipython",
    "version": 3
   },
   "file_extension": ".py",
   "mimetype": "text/x-python",
   "name": "python",
   "nbconvert_exporter": "python",
   "pygments_lexer": "ipython3",
   "version": "3.12.4"
  }
 },
 "nbformat": 4,
 "nbformat_minor": 5
}
