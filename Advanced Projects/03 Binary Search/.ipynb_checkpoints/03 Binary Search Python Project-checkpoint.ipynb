{
 "cells": [
  {
   "cell_type": "markdown",
   "id": "7dfc4d72-3c78-4f06-836d-536d244c4529",
   "metadata": {},
   "source": [
    "# Project 5: Binary Search Python Project\n",
    "\n",
    "Binary search works by repeatedly dividing the sorted array into halves until the target value is found or the search interval is empty.\n",
    "\n",
    "## Step 1: Implement the Binary Search Function\n",
    "### Iteractive approach\n"
   ]
  },
  {
   "cell_type": "code",
   "execution_count": 1,
   "id": "286ee2fe-a835-492e-a230-e3c3a3ca4dbc",
   "metadata": {},
   "outputs": [],
   "source": [
    "def binary_search_iterative(arr, target):\n",
    "    left, right = 0, len(arr) - 1\n",
    "\n",
    "    while left <= right:\n",
    "        mid = (left + right) // 2\n",
    "        if arr[mid] == target:\n",
    "            return mid  # Target found\n",
    "        elif arr[mid] < target:\n",
    "            left = mid + 1  # Ignore left half\n",
    "        else:\n",
    "            right = mid - 1  # Ignore right half\n",
    "\n",
    "    return -1  # Target not found"
   ]
  },
  {
   "cell_type": "markdown",
   "id": "74e7b72d-9057-4206-bc57-e4272e3bdd1a",
   "metadata": {},
   "source": [
    "### Recursive approach"
   ]
  },
  {
   "cell_type": "code",
   "execution_count": 2,
   "id": "3ea39371-990e-48d7-8320-1699f5e9dd2a",
   "metadata": {},
   "outputs": [],
   "source": [
    "def binary_search_recursive(arr, target, left, right):\n",
    "    if left > right:\n",
    "        return -1  # Target not found\n",
    "\n",
    "    mid = (left + right) // 2\n",
    "    if arr[mid] == target:\n",
    "        return mid  # Target found\n",
    "    elif arr[mid] < target:\n",
    "        return binary_search_recursive(arr, target, mid + 1, right)  # Search right half\n",
    "    else:\n",
    "        return binary_search_recursive(arr, target, left, mid - 1)  # Search left half"
   ]
  },
  {
   "cell_type": "markdown",
   "id": "73500629-fb6f-45a4-bf92-28c7e95e94a9",
   "metadata": {},
   "source": [
    "## Step 2: Test the Binary Search Function"
   ]
  },
  {
   "cell_type": "code",
   "execution_count": 5,
   "id": "93f9de3e-718b-4266-a910-d79ad1cd936e",
   "metadata": {},
   "outputs": [],
   "source": [
    "def test_binary_search():\n",
    "    arr = [2, 3, 4, 10, 40]\n",
    "    target = 10\n",
    "\n",
    "    print(\"Testing Iterative Binary Search:\")\n",
    "    result = binary_search_iterative(arr, target)\n",
    "    if result != -1:\n",
    "        print(f\"Element is present at index {result}\")\n",
    "    else:\n",
    "        print(\"Element is not present in array\")\n",
    "\n",
    "    print(\"\\nTesting Recursive Binary Search:\")\n",
    "    result = binary_search_recursive(arr, target, 0, len(arr) - 1)\n",
    "    if result != -1:\n",
    "        print(f\"Element is present at index {result}\")\n",
    "    else:\n",
    "        print(\"Element is not present in array\")"
   ]
  },
  {
   "cell_type": "code",
   "execution_count": 9,
   "id": "d70b4121-adf0-48ba-be3e-f3e38387d228",
   "metadata": {},
   "outputs": [
    {
     "name": "stdout",
     "output_type": "stream",
     "text": [
      "Testing Iterative Binary Search:\n",
      "Element is present at index 3\n",
      "\n",
      "Testing Recursive Binary Search:\n",
      "Element is present at index 3\n"
     ]
    }
   ],
   "source": [
    "if __name__ == \"__main__\":\n",
    "    test_binary_search()"
   ]
  },
  {
   "cell_type": "markdown",
   "id": "1d15ad7e-69cd-47d8-aedc-221359db255a",
   "metadata": {},
   "source": [
    "-------------"
   ]
  },
  {
   "cell_type": "code",
   "execution_count": null,
   "id": "f207c9c5-cd66-403d-85c9-f58fbf29b042",
   "metadata": {},
   "outputs": [],
   "source": []
  }
 ],
 "metadata": {
  "kernelspec": {
   "display_name": "Python 3 (ipykernel)",
   "language": "python",
   "name": "python3"
  },
  "language_info": {
   "codemirror_mode": {
    "name": "ipython",
    "version": 3
   },
   "file_extension": ".py",
   "mimetype": "text/x-python",
   "name": "python",
   "nbconvert_exporter": "python",
   "pygments_lexer": "ipython3",
   "version": "3.12.4"
  }
 },
 "nbformat": 4,
 "nbformat_minor": 5
}
