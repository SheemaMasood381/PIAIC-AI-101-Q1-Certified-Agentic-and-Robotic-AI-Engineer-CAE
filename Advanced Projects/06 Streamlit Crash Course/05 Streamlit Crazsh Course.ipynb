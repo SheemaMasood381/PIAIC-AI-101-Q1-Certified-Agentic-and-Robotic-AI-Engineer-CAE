{
  "nbformat": 4,
  "nbformat_minor": 0,
  "metadata": {
    "colab": {
      "provenance": []
    },
    "kernelspec": {
      "name": "python3",
      "display_name": "Python 3"
    },
    "language_info": {
      "name": "python"
    }
  },
  "cells": [
    {
      "cell_type": "markdown",
      "source": [
        "# Project 9: Build a Python Website in 15 Minutes With Streamlit\n",
        "Let's create a simple website using Streamlit. We'll choose the niche of \"Travel Blog\". This website will have the following features:\n",
        "\n",
        "A homepage with a welcome message and an introduction to the blog.\n",
        "A page listing some travel destinations with images and descriptions.\n",
        "A contact page where users can submit their information."
      ],
      "metadata": {
        "id": "kBgbNoEAZU3u"
      }
    },
    {
      "cell_type": "markdown",
      "source": [
        "## Step 1: Set up the Environment\n"
      ],
      "metadata": {
        "id": "lfBQk5-0Zd1u"
      }
    },
    {
      "cell_type": "code",
      "execution_count": 3,
      "metadata": {
        "colab": {
          "base_uri": "https://localhost:8080/"
        },
        "id": "UgV9Xd1LZO_3",
        "outputId": "f0d78c88-035d-47b5-8ada-ac26942392b5"
      },
      "outputs": [
        {
          "output_type": "stream",
          "name": "stdout",
          "text": [
            "\u001b[2K     \u001b[90m━━━━━━━━━━━━━━━━━━━━━━━━━━━━━━━━━━━━━━━━\u001b[0m \u001b[32m44.3/44.3 kB\u001b[0m \u001b[31m2.8 MB/s\u001b[0m eta \u001b[36m0:00:00\u001b[0m\n",
            "\u001b[2K   \u001b[90m━━━━━━━━━━━━━━━━━━━━━━━━━━━━━━━━━━━━━━━━\u001b[0m \u001b[32m9.1/9.1 MB\u001b[0m \u001b[31m90.3 MB/s\u001b[0m eta \u001b[36m0:00:00\u001b[0m\n",
            "\u001b[2K   \u001b[90m━━━━━━━━━━━━━━━━━━━━━━━━━━━━━━━━━━━━━━━━\u001b[0m \u001b[32m6.9/6.9 MB\u001b[0m \u001b[31m92.1 MB/s\u001b[0m eta \u001b[36m0:00:00\u001b[0m\n",
            "\u001b[2K   \u001b[90m━━━━━━━━━━━━━━━━━━━━━━━━━━━━━━━━━━━━━━━━\u001b[0m \u001b[32m79.1/79.1 kB\u001b[0m \u001b[31m5.8 MB/s\u001b[0m eta \u001b[36m0:00:00\u001b[0m\n",
            "\u001b[?25h"
          ]
        }
      ],
      "source": [
        "!pip install streamlit pyngrok -q"
      ]
    },
    {
      "cell_type": "markdown",
      "source": [
        "## Step 2: Write the Streamlit App Code"
      ],
      "metadata": {
        "id": "fc-I5RMOZoyl"
      }
    },
    {
      "cell_type": "code",
      "source": [
        "%%writefile portfolio.py\n",
        "import streamlit as st\n",
        "\n",
        "# Configure the layout of the page to use the full page width\n",
        "st.set_page_config(layout=\"wide\")\n",
        "\n",
        "# Set the title of the web app\n",
        "st.title('My Portfolio')\n",
        "\n",
        "# Introduction or bio\n",
        "st.image('images/DataScientist Sheema Masood.GIF', caption='Sheema Masood - Data Scientist')  # Adjust the path if necessary\n",
        "\n",
        "# Enhanced professional title and description\n",
        "st.header('🌟 Data Scientist | Certified Agentic and Robotic AI Engineer | Aspiring Innovator')\n",
        "st.subheader('Bridging data-driven insights and cutting-edge AI innovation 🚀 ')\n",
        "\n",
        "st.markdown(\"\"\"\n",
        "As a passionate technologist, I specialize in leveraging **machine learning**, **data analysis**, and **AI engineering** to craft impactful solutions.\n",
        "\"\"\")\n",
        "\n",
        "st.write(\"\"\"\n",
        "Passionate Data Scientist with expertise in machine learning, Generative AI, and data visualization. I excel at transforming complex data into actionable insights and building scalable, AI-driven solutions. My recent work focuses on leveraging advanced AI techniques like LangChain and API integrations to automate workflows and enhance efficiency. Dedicated to pushing technological boundaries, I aim to create innovative solutions that drive value for businesses and society\n",
        "\"\"\")\n",
        "\n",
        "# Create columns for the main content and the simulated right sidebar\n",
        "col1, col2 = st.columns([3, 1])\n",
        "\n",
        "with col1:\n",
        "    # Main content with project listings\n",
        "    st.header('Projects')\n",
        "    st.write(\"\"\"\n",
        "    1. **Virtual Navigation Assistant**: An assistive program combining object detection, depth analysis, and audio instructions for visually impaired individuals.\n",
        "    2. **Streamlit Portfolio Website**: This very website showcasing my projects and skills.\n",
        "    3. **AI Agent Development (Ongoing)**: Built an AI agent using LangChain and APIs, automating client workflows by integrating various systems for streamlined operations.\n",
        "    4. **BrisT1D Blood Glucose Levels Prediction (Kaggle)**: Achieved RMSE of 0.09 and ranked 51st on the leaderboard.\n",
        "    5. **Problematic Internet Use Prediction (Kaggle)**: Top 10% ranking with a 0.49 accuracy score.\n",
        "    6. **RSNA Spine Disease Classification (Kaggle)**: Achieved 70% accuracy in medical image classification, securing a top 10% leaderboard position.\n",
        "    7. **Digit Recognition (Kaggle)**: Achieved 100% accuracy using a CNN.\n",
        "    8. **Object Detection (Kaggle)**: Designed an advanced CNN achieving 92% test accuracy, paired with a user-friendly web interface for intuitive image uploads and instant classification results.\n",
        "    \"\"\"\n",
        "   )\n",
        "\n",
        "with col2:\n",
        "    # Simulated right sidebar for Professional Highlights and Let's Connect\n",
        "    st.header('Professional Highlights')\n",
        "    st.markdown(\"\"\"\n",
        "    - 💡 Certified in **Agentic and Robotics AI Engineering** with expertise in advanced technologies.\n",
        "    - 💻 Proficient in developing AI agents using **LangChain**, competing in **Kaggle challenges**, and building scalable, data-driven solutions.\n",
        "    - 🌱 Continuously exploring emerging technologies and working on **transformative projects**.\n",
        "    \"\"\")\n",
        "\n",
        "    st.header(\"Let's Connect\")\n",
        "    st.write(\"\"\"\n",
        "    - 🌐 [LinkedIn](https://www.linkedin.com/in/sheema-masood/)\n",
        "    - ✉️ [Email Me](mailto:sheemamasood381@gmail.com)\n",
        "    - 📊 [Kaggle](https://www.kaggle.com/sheemamasood)\n",
        "    - 🖥️ [GitHub](https://github.com/sheemamasood381/)\n",
        "    \"\"\")\n",
        "\n",
        "# Footer\n",
        "st.markdown(\"\"\"\n",
        "---\n",
        "#### Powered by Streamlit | Developed by SHEEMA MASOOD\n",
        "\"\"\", unsafe_allow_html=True)\n"
      ],
      "metadata": {
        "colab": {
          "base_uri": "https://localhost:8080/"
        },
        "id": "xpp5sMMpZkV8",
        "outputId": "0ec006fd-cec4-4e53-8b66-8164079a86f4"
      },
      "execution_count": 1,
      "outputs": [
        {
          "output_type": "stream",
          "name": "stdout",
          "text": [
            "Writing portfolio.py\n"
          ]
        }
      ]
    },
    {
      "cell_type": "markdown",
      "source": [
        "## Step 3: Run the Streamlit App"
      ],
      "metadata": {
        "id": "2et7d7jUZvnF"
      }
    },
    {
      "cell_type": "code",
      "source": [
        "!ngrok config add-authtoken 2qT4YIqwlelf8GbqEVE1574K8X2_4KjznkyN4hQdxqiApsvQc"
      ],
      "metadata": {
        "colab": {
          "base_uri": "https://localhost:8080/"
        },
        "id": "Mn61EX8YpF8O",
        "outputId": "7df9eb35-70e9-48fb-928f-3b1358813c2f"
      },
      "execution_count": 10,
      "outputs": [
        {
          "output_type": "stream",
          "name": "stdout",
          "text": [
            "Authtoken saved to configuration file: /root/.config/ngrok/ngrok.yml\n"
          ]
        }
      ]
    },
    {
      "cell_type": "code",
      "source": [
        "tunnels = ngrok.get_tunnels()\n",
        "print(tunnels)\n"
      ],
      "metadata": {
        "colab": {
          "base_uri": "https://localhost:8080/"
        },
        "id": "8PgHFfDApw2t",
        "outputId": "9f65f554-ac6a-454f-b5dc-bb5046bd0313"
      },
      "execution_count": 16,
      "outputs": [
        {
          "output_type": "stream",
          "name": "stdout",
          "text": [
            "[<NgrokTunnel: \"https://a15e-34-86-207-184.ngrok-free.app\" -> \"http://localhost:8501\">]\n"
          ]
        }
      ]
    },
    {
      "source": [
        "from pyngrok import ngrok\n",
        "\n",
        "# Ensure to terminate all existing ngrok instances\n",
        "ngrok.kill()\n",
        "\n",
        "# Set your auth token\n",
        "ngrok.set_auth_token(\"2qT4YIqwlelf8GbqEVE1574K8X2_4KjznkyN4hQdxqiApsvQc\")\n",
        "\n",
        "# Now start the tunnel\n",
        "public_url = ngrok.connect(8501)\n",
        "print(\"ngrok tunnel URL:\", public_url)"
      ],
      "cell_type": "code",
      "metadata": {
        "colab": {
          "base_uri": "https://localhost:8080/"
        },
        "id": "g6unm_STqWiu",
        "outputId": "33cb0774-7761-48ab-816a-0ea48b2cc23b"
      },
      "execution_count": 15,
      "outputs": [
        {
          "output_type": "stream",
          "name": "stdout",
          "text": [
            "ngrok tunnel URL: NgrokTunnel: \"https://a15e-34-86-207-184.ngrok-free.app\" -> \"http://localhost:8501\"\n"
          ]
        }
      ]
    },
    {
      "cell_type": "code",
      "source": [
        "!streamlit run portfolio.py"
      ],
      "metadata": {
        "colab": {
          "base_uri": "https://localhost:8080/"
        },
        "id": "YiYlu2hzra91",
        "outputId": "4320a91e-6943-4879-8b49-b8523ff73a9b"
      },
      "execution_count": null,
      "outputs": [
        {
          "output_type": "stream",
          "name": "stdout",
          "text": [
            "\n",
            "Collecting usage statistics. To deactivate, set browser.gatherUsageStats to false.\n",
            "\u001b[0m\n",
            "\u001b[0m\n",
            "\u001b[34m\u001b[1m  You can now view your Streamlit app in your browser.\u001b[0m\n",
            "\u001b[0m\n",
            "\u001b[34m  Local URL: \u001b[0m\u001b[1mhttp://localhost:8501\u001b[0m\n",
            "\u001b[34m  Network URL: \u001b[0m\u001b[1mhttp://172.28.0.12:8501\u001b[0m\n",
            "\u001b[34m  External URL: \u001b[0m\u001b[1mhttp://34.86.207.184:8501\u001b[0m\n",
            "\u001b[0m\n"
          ]
        }
      ]
    },
    {
      "cell_type": "markdown",
      "source": [
        "-----------------------"
      ],
      "metadata": {
        "id": "3rovUfc2g1O9"
      }
    }
  ]
}