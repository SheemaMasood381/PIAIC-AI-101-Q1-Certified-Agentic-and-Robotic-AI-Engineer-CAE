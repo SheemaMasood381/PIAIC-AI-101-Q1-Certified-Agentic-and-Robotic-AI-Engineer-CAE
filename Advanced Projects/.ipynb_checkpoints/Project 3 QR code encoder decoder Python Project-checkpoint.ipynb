{
 "cells": [
  {
   "cell_type": "code",
   "execution_count": 5,
   "id": "1bbf70f2-c418-4442-854e-0e768549409d",
   "metadata": {},
   "outputs": [
    {
     "data": {
      "image/png": "[encoded data removed]",
      "text/plain": [
       "<Figure size 500x500 with 1 Axes>"
      ]
     },
     "metadata": {},
     "output_type": "display_data"
    }
   ],
   "source": [
    "import qrcode\n",
    "import matplotlib.pyplot as plt\n",
    "\n",
    "def generate_qr_code(data):\n",
    "    # Create an instance of QRCode\n",
    "    qr = qrcode.QRCode(\n",
    "        version=1,\n",
    "        error_correction=qrcode.constants.ERROR_CORRECT_L,\n",
    "        box_size=10,\n",
    "        border=4,\n",
    "    )\n",
    "    \n",
    "    # Add data to the QR code\n",
    "    qr.add_data(data)\n",
    "    qr.make(fit=True)\n",
    "\n",
    "    # Create an image from the QR Code instance\n",
    "    img = qr.make_image(fill='black', back_color='white')\n",
    "    \n",
    "    return img\n",
    "\n",
    "# Data to encode in the QR code\n",
    "data = \"https://github.com\"\n",
    "\n",
    "# Generate the QR code\n",
    "img = generate_qr_code(data)\n",
    "\n",
    "# Display the QR code\n",
    "plt.figure(figsize=(5, 5))\n",
    "plt.imshow(img, cmap='gray')\n",
    "plt.axis('off')  # Hide the axes\n",
    "plt.show()"
   ]
  },
  {
   "cell_type": "markdown",
   "id": "ccc95c44-4e4d-40de-91ef-192ba4a6dff8",
   "metadata": {},
   "source": [
    "-----------"
   ]
  },
  {
   "cell_type": "code",
   "execution_count": null,
   "id": "63268bf2-e785-47f9-9f0c-28e7e5b36f3a",
   "metadata": {},
   "outputs": [],
   "source": []
  }
 ],
 "metadata": {
  "kernelspec": {
   "display_name": "Python 3 (ipykernel)",
   "language": "python",
   "name": "python3"
  },
  "language_info": {
   "codemirror_mode": {
    "name": "ipython",
    "version": 3
   },
   "file_extension": ".py",
   "mimetype": "text/x-python",
   "name": "python",
   "nbconvert_exporter": "python",
   "pygments_lexer": "ipython3",
   "version": "3.12.4"
  }
 },
 "nbformat": 4,
 "nbformat_minor": 5
}
