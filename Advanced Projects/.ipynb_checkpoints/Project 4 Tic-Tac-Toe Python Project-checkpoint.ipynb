{
 "cells": [
  {
   "cell_type": "code",
   "execution_count": 6,
   "id": "a9ed086d-e9ad-4992-b286-7a572cf07e99",
   "metadata": {},
   "outputs": [],
   "source": [
    "def initialize_board():\n",
    "    return [[\" \" for _ in range(3)] for _ in range(3)]"
   ]
  },
  {
   "cell_type": "code",
   "execution_count": 7,
   "id": "769fbc4e-8c5a-40b6-91bf-9c54314cb9fe",
   "metadata": {},
   "outputs": [],
   "source": [
    "def print_board(board):\n",
    "    for row in board:\n",
    "        print(\"|\".join(row))\n",
    "        print(\"-\" * 5)"
   ]
  },
  {
   "cell_type": "code",
   "execution_count": 8,
   "id": "3315b5f9-7e74-4953-8848-8e1dc20748ef",
   "metadata": {},
   "outputs": [],
   "source": [
    "def check_win(board, player):\n",
    "    # Check rows\n",
    "    for row in board:\n",
    "        if all([spot == player for spot in row]):\n",
    "            return True\n",
    "\n",
    "    # Check columns\n",
    "    for col in range(3):\n",
    "        if all([board[row][col] == player for row in range(3)]):\n",
    "            return True\n",
    "\n",
    "    # Check diagonals\n",
    "    if all([board[i][i] == player for i in range(3)]) or all([board[i][2 - i] == player for i in range(3)]):\n",
    "        return True\n",
    "\n",
    "    return False"
   ]
  },
  {
   "cell_type": "code",
   "execution_count": 9,
   "id": "6f2a049e-1c4e-4f96-9f99-2e020bc5d334",
   "metadata": {},
   "outputs": [],
   "source": [
    "def check_draw(board):\n",
    "    return all([cell != \" \" for row in board for cell in row])"
   ]
  },
  {
   "cell_type": "code",
   "execution_count": 10,
   "id": "faf8e65f-0c71-45e9-9712-cae1592c3836",
   "metadata": {},
   "outputs": [],
   "source": [
    "def get_player_move(player):\n",
    "    while True:\n",
    "        try:\n",
    "            row = int(input(f\"Player {player}, enter the row (0, 1, 2): \"))\n",
    "            col = int(input(f\"Player {player}, enter the column (0, 1, 2): \"))\n",
    "            if row in range(3) and col in range(3):\n",
    "                return row, col\n",
    "            else:\n",
    "                print(\"Invalid input. Please enter numbers between 0 and 2.\")\n",
    "        except ValueError:\n",
    "            print(\"Invalid input. Please enter numbers.\")"
   ]
  },
  {
   "cell_type": "code",
   "execution_count": 11,
   "id": "028f985a-8598-4feb-a805-1c24c5a9e5ca",
   "metadata": {},
   "outputs": [],
   "source": [
    "def update_board(board, row, col, player):\n",
    "    if board[row][col] == \" \":\n",
    "        board[row][col] = player\n",
    "        return True\n",
    "    else:\n",
    "        print(\"Cell already taken. Try again.\")\n",
    "        return False"
   ]
  },
  {
   "cell_type": "code",
   "execution_count": 12,
   "id": "e8a8f5d5-e92b-4ac6-b358-1127aca783e6",
   "metadata": {},
   "outputs": [
    {
     "name": "stdout",
     "output_type": "stream",
     "text": [
      " | | \n",
      "-----\n",
      " | | \n",
      "-----\n",
      " | | \n",
      "-----\n"
     ]
    },
    {
     "name": "stdin",
     "output_type": "stream",
     "text": [
      "Player X, enter the row (0, 1, 2):  1\n",
      "Player X, enter the column (0, 1, 2):  2\n"
     ]
    },
    {
     "name": "stdout",
     "output_type": "stream",
     "text": [
      " | | \n",
      "-----\n",
      " | |X\n",
      "-----\n",
      " | | \n",
      "-----\n"
     ]
    },
    {
     "name": "stdin",
     "output_type": "stream",
     "text": [
      "Player O, enter the row (0, 1, 2):  1\n",
      "Player O, enter the column (0, 1, 2):  0\n"
     ]
    },
    {
     "name": "stdout",
     "output_type": "stream",
     "text": [
      " | | \n",
      "-----\n",
      "O| |X\n",
      "-----\n",
      " | | \n",
      "-----\n"
     ]
    },
    {
     "name": "stdin",
     "output_type": "stream",
     "text": [
      "Player X, enter the row (0, 1, 2):  1\n",
      "Player X, enter the column (0, 1, 2):  1\n"
     ]
    },
    {
     "name": "stdout",
     "output_type": "stream",
     "text": [
      " | | \n",
      "-----\n",
      "O|X|X\n",
      "-----\n",
      " | | \n",
      "-----\n"
     ]
    },
    {
     "name": "stdin",
     "output_type": "stream",
     "text": [
      "Player O, enter the row (0, 1, 2):  0\n",
      "Player O, enter the column (0, 1, 2):  1\n"
     ]
    },
    {
     "name": "stdout",
     "output_type": "stream",
     "text": [
      " |O| \n",
      "-----\n",
      "O|X|X\n",
      "-----\n",
      " | | \n",
      "-----\n"
     ]
    },
    {
     "name": "stdin",
     "output_type": "stream",
     "text": [
      "Player X, enter the row (0, 1, 2):  0\n",
      "Player X, enter the column (0, 1, 2):  0\n"
     ]
    },
    {
     "name": "stdout",
     "output_type": "stream",
     "text": [
      "X|O| \n",
      "-----\n",
      "O|X|X\n",
      "-----\n",
      " | | \n",
      "-----\n"
     ]
    },
    {
     "name": "stdin",
     "output_type": "stream",
     "text": [
      "Player O, enter the row (0, 1, 2):  0\n",
      "Player O, enter the column (0, 1, 2):  2\n"
     ]
    },
    {
     "name": "stdout",
     "output_type": "stream",
     "text": [
      "X|O|O\n",
      "-----\n",
      "O|X|X\n",
      "-----\n",
      " | | \n",
      "-----\n"
     ]
    },
    {
     "name": "stdin",
     "output_type": "stream",
     "text": [
      "Player X, enter the row (0, 1, 2):  2\n",
      "Player X, enter the column (0, 1, 2):  2\n"
     ]
    },
    {
     "name": "stdout",
     "output_type": "stream",
     "text": [
      "X|O|O\n",
      "-----\n",
      "O|X|X\n",
      "-----\n",
      " | |X\n",
      "-----\n",
      "Player X wins!\n"
     ]
    }
   ],
   "source": [
    "def tic_tac_toe():\n",
    "    board = initialize_board()\n",
    "    current_player = \"X\"\n",
    "\n",
    "    while True:\n",
    "        print_board(board)\n",
    "        row, col = get_player_move(current_player)\n",
    "        if update_board(board, row, col, current_player):\n",
    "            if check_win(board, current_player):\n",
    "                print_board(board)\n",
    "                print(f\"Player {current_player} wins!\")\n",
    "                break\n",
    "            elif check_draw(board):\n",
    "                print_board(board)\n",
    "                print(\"It's a draw!\")\n",
    "                break\n",
    "            current_player = \"O\" if current_player == \"X\" else \"X\"\n",
    "\n",
    "if __name__ == \"__main__\":\n",
    "    tic_tac_toe()"
   ]
  },
  {
   "cell_type": "markdown",
   "id": "4f3861e7-64a6-4efb-964f-0de733929d8c",
   "metadata": {},
   "source": [
    "--------"
   ]
  }
 ],
 "metadata": {
  "kernelspec": {
   "display_name": "Python 3 (ipykernel)",
   "language": "python",
   "name": "python3"
  },
  "language_info": {
   "codemirror_mode": {
    "name": "ipython",
    "version": 3
   },
   "file_extension": ".py",
   "mimetype": "text/x-python",
   "name": "python",
   "nbconvert_exporter": "python",
   "pygments_lexer": "ipython3",
   "version": "3.12.4"
  }
 },
 "nbformat": 4,
 "nbformat_minor": 5
}
