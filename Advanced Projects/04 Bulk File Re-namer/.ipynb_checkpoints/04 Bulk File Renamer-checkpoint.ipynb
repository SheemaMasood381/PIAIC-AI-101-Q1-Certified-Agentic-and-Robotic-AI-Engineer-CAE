{
 "cells": [
  {
   "cell_type": "markdown",
   "id": "c1b6ac2c-e6a3-42e7-b36c-0c6a6712fbd1",
   "metadata": {},
   "source": [
    "## build a program that can go into any folder on your computer and rename all of the files based on the conditions set in your Python code."
   ]
  },
  {
   "cell_type": "code",
   "execution_count": 4,
   "id": "845a0976-34a6-454e-9a56-46ca9e0249f9",
   "metadata": {},
   "outputs": [
    {
     "name": "stdout",
     "output_type": "stream",
     "text": [
      "Renamed 'file_1_renamed.docx' to 'file_1_renamed.docx'\n"
     ]
    }
   ],
   "source": [
    "import os\n",
    "\n",
    "def bulk_rename_files(target_directory, prefix, suffix, start_index=1):\n",
    "    # Change the working directory to the target directory\n",
    "    os.chdir(target_directory)\n",
    "    \n",
    "    # Get a list of all files in the directory\n",
    "    files = os.listdir(target_directory)\n",
    "    \n",
    "    # Filter out directories from the list\n",
    "    files = [f for f in files if os.path.isfile(f)]\n",
    "    \n",
    "    # Loop through each file and rename it\n",
    "    for index, filename in enumerate(files, start=start_index):\n",
    "        # Extract the file extension\n",
    "        file_extension = os.path.splitext(filename)[1]\n",
    "        \n",
    "        # Construct the new name\n",
    "        new_name = f\"{prefix}{index}{suffix}{file_extension}\"\n",
    "        \n",
    "        # Rename the file\n",
    "        os.rename(filename, new_name)\n",
    "        \n",
    "        # Print the old and new names\n",
    "        print(f\"Renamed '{filename}' to '{new_name}'\")\n",
    "\n",
    "# Example usage\n",
    "target_directory = '/'\n",
    "prefix = 'file_'\n",
    "suffix = '_renamed'\n",
    "start_index = 1\n",
    "\n",
    "bulk_rename_files(target_directory, prefix, suffix, start_index)"
   ]
  },
  {
   "cell_type": "markdown",
   "id": "9adf8d56-89ba-4443-a3b5-22a92877b721",
   "metadata": {},
   "source": [
    "-------"
   ]
  },
  {
   "cell_type": "code",
   "execution_count": null,
   "id": "7a26cee0-24e3-4df1-b869-14a9cc2121be",
   "metadata": {},
   "outputs": [],
   "source": []
  }
 ],
 "metadata": {
  "kernelspec": {
   "display_name": "Python 3 (ipykernel)",
   "language": "python",
   "name": "python3"
  },
  "language_info": {
   "codemirror_mode": {
    "name": "ipython",
    "version": 3
   },
   "file_extension": ".py",
   "mimetype": "text/x-python",
   "name": "python",
   "nbconvert_exporter": "python",
   "pygments_lexer": "ipython3",
   "version": "3.12.4"
  }
 },
 "nbformat": 4,
 "nbformat_minor": 5
}
