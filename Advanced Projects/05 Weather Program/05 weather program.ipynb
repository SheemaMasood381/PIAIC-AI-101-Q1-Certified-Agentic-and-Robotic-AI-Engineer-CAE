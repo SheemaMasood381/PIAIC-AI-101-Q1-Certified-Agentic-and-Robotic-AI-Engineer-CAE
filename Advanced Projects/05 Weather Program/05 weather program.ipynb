{
 "cells": [
  {
   "cell_type": "markdown",
   "id": "0fad72d7-5939-4c4d-bbbd-3b76ff38188c",
   "metadata": {},
   "source": [
    "## build a program that collects user data on a specific location and outputs the weather details of that provided location. This is a great project to start learning how to get data from API's."
   ]
  },
  {
   "cell_type": "code",
   "execution_count": 1,
   "id": "aa9e3072-645c-4ce6-aae9-5dcfe46337c3",
   "metadata": {},
   "outputs": [
    {
     "name": "stdin",
     "output_type": "stream",
     "text": [
      "Enter the location:  karachi\n"
     ]
    },
    {
     "name": "stdout",
     "output_type": "stream",
     "text": [
      "Error: Invalid API key. Please see https://openweathermap.org/faq#error401 for more info.\n"
     ]
    }
   ],
   "source": [
    "import requests\n",
    "\n",
    "def get_weather(api_key, location):\n",
    "    base_url = \"http://api.openweathermap.org/data/2.5/weather\"\n",
    "    params = {\n",
    "        'q': location,\n",
    "        'appid': api_key,\n",
    "        'units': 'metric'  # Use 'imperial' for Fahrenheit\n",
    "    }\n",
    "    response = requests.get(base_url, params=params)\n",
    "    return response.json()\n",
    "\n",
    "def display_weather(data):\n",
    "    if data['cod'] != 200:\n",
    "        print(f\"Error: {data['message']}\")\n",
    "        return\n",
    "    \n",
    "    location = data['name']\n",
    "    weather = data['weather'][0]['description']\n",
    "    temp = data['main']['temp']\n",
    "    feels_like = data['main']['feels_like']\n",
    "    humidity = data['main']['humidity']\n",
    "    wind_speed = data['wind']['speed']\n",
    "\n",
    "    print(f\"Weather in {location}:\")\n",
    "    print(f\"Description: {weather}\")\n",
    "    print(f\"Temperature: {temp}°C\")\n",
    "    print(f\"Feels like: {feels_like}°C\")\n",
    "    print(f\"Humidity: {humidity}%\")\n",
    "    print(f\"Wind speed: {wind_speed} m/s\")\n",
    "\n",
    "def main():\n",
    "    api_key = \"YOUR_API_KEY\"  # Replace with your OpenWeatherMap API key\n",
    "    location = input(\"Enter the location: \")\n",
    "    weather_data = get_weather(api_key, location)\n",
    "    display_weather(weather_data)\n",
    "\n",
    "if __name__ == \"__main__\":\n",
    "    main()"
   ]
  }
 ],
 "metadata": {
  "kernelspec": {
   "display_name": "Python 3 (ipykernel)",
   "language": "python",
   "name": "python3"
  },
  "language_info": {
   "codemirror_mode": {
    "name": "ipython",
    "version": 3
   },
   "file_extension": ".py",
   "mimetype": "text/x-python",
   "name": "python",
   "nbconvert_exporter": "python",
   "pygments_lexer": "ipython3",
   "version": "3.12.4"
  }
 },
 "nbformat": 4,
 "nbformat_minor": 5
}
