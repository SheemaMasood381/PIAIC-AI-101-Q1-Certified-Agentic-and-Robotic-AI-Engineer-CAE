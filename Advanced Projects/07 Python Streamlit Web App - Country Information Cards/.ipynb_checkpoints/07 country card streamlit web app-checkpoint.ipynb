{
 "cells": [
  {
   "cell_type": "code",
   "execution_count": 1,
   "id": "166365bc-9ce9-475f-92ba-56a1cf7c3c38",
   "metadata": {},
   "outputs": [],
   "source": [
    "import streamlit as st\n",
    "import requests"
   ]
  },
  {
   "cell_type": "code",
   "execution_count": 2,
   "id": "d44edd55-f879-49cc-892a-c08676ff2880",
   "metadata": {},
   "outputs": [],
   "source": [
    "def get_country_data(country_name):\n",
    "    response = requests.get(f\"https://restcountries.com/v3.1/name/{country_name}\")\n",
    "    if response.status_code == 200:\n",
    "        return response.json()[0]\n",
    "    else:\n",
    "        return None"
   ]
  },
  {
   "cell_type": "code",
   "execution_count": 4,
   "id": "60e39863-4b33-4caa-bc92-cab78082ba41",
   "metadata": {},
   "outputs": [
    {
     "name": "stderr",
     "output_type": "stream",
     "text": [
      "2024-12-21 19:15:47.355 Thread 'MainThread': missing ScriptRunContext! This warning can be ignored when running in bare mode.\n",
      "2024-12-21 19:15:47.356 Thread 'MainThread': missing ScriptRunContext! This warning can be ignored when running in bare mode.\n",
      "2024-12-21 19:15:47.358 Thread 'MainThread': missing ScriptRunContext! This warning can be ignored when running in bare mode.\n",
      "2024-12-21 19:15:47.360 Thread 'MainThread': missing ScriptRunContext! This warning can be ignored when running in bare mode.\n",
      "2024-12-21 19:15:47.362 Thread 'MainThread': missing ScriptRunContext! This warning can be ignored when running in bare mode.\n",
      "2024-12-21 19:15:47.363 Thread 'MainThread': missing ScriptRunContext! This warning can be ignored when running in bare mode.\n",
      "2024-12-21 19:15:47.365 Thread 'MainThread': missing ScriptRunContext! This warning can be ignored when running in bare mode.\n",
      "2024-12-21 19:15:47.366 Thread 'MainThread': missing ScriptRunContext! This warning can be ignored when running in bare mode.\n",
      "2024-12-21 19:15:47.369 Thread 'MainThread': missing ScriptRunContext! This warning can be ignored when running in bare mode.\n",
      "2024-12-21 19:15:47.370 Thread 'MainThread': missing ScriptRunContext! This warning can be ignored when running in bare mode.\n",
      "2024-12-21 19:15:47.372 Thread 'MainThread': missing ScriptRunContext! This warning can be ignored when running in bare mode.\n",
      "2024-12-21 19:15:47.373 Thread 'MainThread': missing ScriptRunContext! This warning can be ignored when running in bare mode.\n",
      "2024-12-21 19:15:47.374 Thread 'MainThread': missing ScriptRunContext! This warning can be ignored when running in bare mode.\n"
     ]
    }
   ],
   "source": [
    "# Title of the web app\n",
    "st.title(\"Country Information Cards\")\n",
    "\n",
    "# Input box for the user to enter the country name\n",
    "country_name = st.text_input(\"Enter a country name:\")\n",
    "\n",
    "# Button to fetch the country data\n",
    "if st.button(\"Get Country Info\"):\n",
    "    if country_name:\n",
    "        country_data = get_country_data(country_name)\n",
    "        if country_data:\n",
    "            # Display country information\n",
    "            st.header(country_data[\"name\"][\"common\"])\n",
    "            st.image(country_data[\"flags\"][\"png\"], width=200)\n",
    "            st.write(f\"**Capital:** {country_data['capital'][0]}\")\n",
    "            st.write(f\"**Region:** {country_data['region']}\")\n",
    "            st.write(f\"**Subregion:** {country_data['subregion']}\")\n",
    "            st.write(f\"**Population:** {country_data['population']}\")\n",
    "            st.write(f\"**Area (sq km):** {country_data['area']}\")\n",
    "            st.write(f\"**Timezones:** {', '.join(country_data['timezones'])}\")\n",
    "        else:\n",
    "            st.error(\"Country not found. Please check the spelling or try another country.\")\n",
    "    else:\n",
    "        st.warning(\"Please enter a country name.\")"
   ]
  },
  {
   "cell_type": "code",
   "execution_count": null,
   "id": "fe893083-8539-4e19-bb52-3d2360122612",
   "metadata": {},
   "outputs": [],
   "source": []
  }
 ],
 "metadata": {
  "kernelspec": {
   "display_name": "Python 3 (ipykernel)",
   "language": "python",
   "name": "python3"
  },
  "language_info": {
   "codemirror_mode": {
    "name": "ipython",
    "version": 3
   },
   "file_extension": ".py",
   "mimetype": "text/x-python",
   "name": "python",
   "nbconvert_exporter": "python",
   "pygments_lexer": "ipython3",
   "version": "3.12.4"
  }
 },
 "nbformat": 4,
 "nbformat_minor": 5
}
