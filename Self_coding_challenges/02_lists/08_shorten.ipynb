{
 "cells": [
  {
   "cell_type": "markdown",
   "id": "beb34349-0738-4841-a109-8251a1a0d17d",
   "metadata": {},
   "source": [
    "## Fill out the function shorten(lst) which removes elements from the end of lst, which is a list, and prints each item it removes until lst is MAX_LENGTH items long. If lst is already shorter than MAX_LENGTH you should leave it unchanged. We've written a main() function for you which gets a list and passes it into your function once you run the program. For the autograder to pass you will need MAX_LENGTH to be 3, but feel free to change it around to test your program."
   ]
  },
  {
   "cell_type": "code",
   "execution_count": 1,
   "id": "f3faefd4-71ae-4d5e-9594-82a299ef0773",
   "metadata": {},
   "outputs": [
    {
     "name": "stdin",
     "output_type": "stream",
     "text": [
      "Please enter an element of the list or press enter to stop:  5\n",
      "Please enter an element of the list or press enter to stop:  4\n",
      "Please enter an element of the list or press enter to stop:  4\n",
      "Please enter an element of the list or press enter to stop:  7\n",
      "Please enter an element of the list or press enter to stop:  7\n",
      "Please enter an element of the list or press enter to stop:  87\n",
      "Please enter an element of the list or press enter to stop:  7\n",
      "Please enter an element of the list or press enter to stop:  \n"
     ]
    },
    {
     "name": "stdout",
     "output_type": "stream",
     "text": [
      "7\n",
      "87\n",
      "7\n",
      "7\n"
     ]
    }
   ],
   "source": [
    "MAX_LENGTH = 3\n",
    "\n",
    "def shorten(lst):\n",
    "    \"\"\"\n",
    "    Removes elements from the end of lst until lst is MAX_LENGTH items long.\n",
    "    Prints each item it removes.\n",
    "    \"\"\"\n",
    "    while len(lst) > MAX_LENGTH:\n",
    "        last_elem = lst.pop()\n",
    "        print(last_elem)\n",
    "\n",
    "# There is no need to edit code beyond this point\n",
    "\n",
    "def get_lst():\n",
    "    \"\"\"\n",
    "    Prompts the user to enter one element of the list at a time and returns the resulting list.\n",
    "    \"\"\"\n",
    "    lst = []\n",
    "    elem = input(\"Please enter an element of the list or press enter to stop: \")\n",
    "    while elem != \"\":\n",
    "        lst.append(elem)\n",
    "        elem = input(\"Please enter an element of the list or press enter to stop: \")\n",
    "    return lst\n",
    "\n",
    "def main():\n",
    "    lst = get_lst()\n",
    "    shorten(lst)\n",
    "\n",
    "# This provided line is required at the end of the Python file to call the main() function.\n",
    "if __name__ == '__main__':\n",
    "    main()"
   ]
  },
  {
   "cell_type": "markdown",
   "id": "d15131ed-a1d1-4051-8437-b3053157c458",
   "metadata": {},
   "source": [
    "----------"
   ]
  },
  {
   "cell_type": "code",
   "execution_count": null,
   "id": "6b224a0e-a2a1-48b2-a4f2-68d0a3fe477b",
   "metadata": {},
   "outputs": [],
   "source": []
  }
 ],
 "metadata": {
  "kernelspec": {
   "display_name": "Python 3 (ipykernel)",
   "language": "python",
   "name": "python3"
  },
  "language_info": {
   "codemirror_mode": {
    "name": "ipython",
    "version": 3
   },
   "file_extension": ".py",
   "mimetype": "text/x-python",
   "name": "python",
   "nbconvert_exporter": "python",
   "pygments_lexer": "ipython3",
   "version": "3.12.4"
  }
 },
 "nbformat": 4,
 "nbformat_minor": 5
}
