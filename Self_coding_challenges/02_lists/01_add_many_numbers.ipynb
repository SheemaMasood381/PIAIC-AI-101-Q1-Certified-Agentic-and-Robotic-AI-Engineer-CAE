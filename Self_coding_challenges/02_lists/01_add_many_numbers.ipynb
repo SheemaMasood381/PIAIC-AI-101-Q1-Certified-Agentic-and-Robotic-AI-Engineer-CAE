{
 "cells": [
  {
   "cell_type": "markdown",
   "id": "795f5197-73f7-43f1-8f8b-2be20a3a59d1",
   "metadata": {},
   "source": [
    "## Write a function that takes a list of numbers and returns the sum of those numbers."
   ]
  },
  {
   "cell_type": "code",
   "execution_count": 2,
   "id": "6a2f40f3-5426-4f81-9bdc-01befd009097",
   "metadata": {},
   "outputs": [
    {
     "name": "stdout",
     "output_type": "stream",
     "text": [
      "Enter numbers one by one. Type 'done' when you are finished:\n"
     ]
    },
    {
     "name": "stdin",
     "output_type": "stream",
     "text": [
      "Enter a number:  5\n",
      "Enter a number:  5\n",
      "Enter a number:  5\n",
      "Enter a number:  5\n",
      "Enter a number:  458\n",
      "Enter a number:  45\n",
      "Enter a number:  55\n",
      "Enter a number:  done\n"
     ]
    },
    {
     "name": "stdout",
     "output_type": "stream",
     "text": [
      "The sum of the numbers you entered is: 578\n"
     ]
    }
   ],
   "source": [
    "def add_many_numbers(numbers: list[int]) -> int:\n",
    "    \"\"\"\n",
    "    Takes in a list of numbers and returns the sum of those numbers.\n",
    "    \"\"\"\n",
    "    total_so_far = 0\n",
    "    for number in numbers:\n",
    "        total_so_far += number\n",
    "    return total_so_far\n",
    "\n",
    "# There is no need to edit code beyond this point\n",
    "\n",
    "def main():\n",
    "    numbers = []  # Initialize an empty list to store the numbers\n",
    "    print(\"Enter numbers one by one. Type 'done' when you are finished:\")\n",
    "    \n",
    "    while True:\n",
    "        user_input = input(\"Enter a number: \")\n",
    "        if user_input.lower() == 'done':\n",
    "            break\n",
    "        try:\n",
    "            number = int(user_input)  # Convert the input to an integer\n",
    "            numbers.append(number)  # Add the number to the list\n",
    "        except ValueError:\n",
    "            print(\"Invalid input. Please enter a valid number.\")\n",
    "    \n",
    "    sum_of_numbers = add_many_numbers(numbers)  # Find the sum of the list\n",
    "    print(f\"The sum of the numbers you entered is: {sum_of_numbers}\")\n",
    "\n",
    "if __name__ == '__main__':\n",
    "    main()"
   ]
  },
  {
   "cell_type": "markdown",
   "id": "93f5aa0c-d40a-4604-81d0-8e8708a57eeb",
   "metadata": {},
   "source": [
    "-------"
   ]
  },
  {
   "cell_type": "code",
   "execution_count": null,
   "id": "9d7ffe37-6bf0-43c2-a211-d9e7abab165a",
   "metadata": {},
   "outputs": [],
   "source": []
  }
 ],
 "metadata": {
  "kernelspec": {
   "display_name": "Python 3 (ipykernel)",
   "language": "python",
   "name": "python3"
  },
  "language_info": {
   "codemirror_mode": {
    "name": "ipython",
    "version": 3
   },
   "file_extension": ".py",
   "mimetype": "text/x-python",
   "name": "python",
   "nbconvert_exporter": "python",
   "pygments_lexer": "ipython3",
   "version": "3.12.4"
  }
 },
 "nbformat": 4,
 "nbformat_minor": 5
}
