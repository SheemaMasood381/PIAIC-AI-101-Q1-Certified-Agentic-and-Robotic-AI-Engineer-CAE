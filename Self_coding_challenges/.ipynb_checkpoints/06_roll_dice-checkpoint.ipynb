{
 "cells": [
  {
   "cell_type": "markdown",
   "id": "52fe1716-c270-4645-a952-11bd9db6de4c",
   "metadata": {},
   "source": [
    "## Simulate rolling two dice, and prints results of each roll as well as the total"
   ]
  },
  {
   "cell_type": "code",
   "execution_count": 1,
   "id": "5cc032e1-a86c-4fce-9caf-3fc1280c8371",
   "metadata": {},
   "outputs": [
    {
     "name": "stdout",
     "output_type": "stream",
     "text": [
      "Dice have 6 sides each.\n",
      "First die: 3\n",
      "Second die: 4\n",
      "Total of two dice: 7\n"
     ]
    }
   ],
   "source": [
    "\"\"\"\n",
    "Simulate rolling two dice, and prints results of each\n",
    "roll as well as the total.\n",
    "\"\"\"\n",
    "\n",
    "# Import the random library which lets us simulate random things like dice!\n",
    "import random\n",
    "\n",
    "# Number of sides on each die to roll\n",
    "NUM_SIDES = 6\n",
    "\n",
    "def main():\n",
    "    # Setting a seed is useful for debugging (uncomment the line below to do so!)\n",
    "    # random.seed(1)\n",
    "    \n",
    "    # Roll the first die\n",
    "    die1 = random.randint(1, NUM_SIDES)\n",
    "    \n",
    "    # Roll the second die\n",
    "    die2 = random.randint(1, NUM_SIDES)\n",
    "    \n",
    "    # Calculate the total of the two dice\n",
    "    total = die1 + die2\n",
    "    \n",
    "    # Print out the results\n",
    "    print(f\"Dice have {NUM_SIDES} sides each.\")\n",
    "    print(f\"First die: {die1}\")\n",
    "    print(f\"Second die: {die2}\")\n",
    "    print(f\"Total of two dice: {total}\")\n",
    "\n",
    "# This provided line is required at the end of a Python file to call the main() function.\n",
    "if __name__ == '__main__':\n",
    "    main()"
   ]
  },
  {
   "cell_type": "markdown",
   "id": "eda50684-3799-453f-ad3d-f24e87eb73ad",
   "metadata": {},
   "source": [
    "--------------"
   ]
  },
  {
   "cell_type": "code",
   "execution_count": null,
   "id": "27cb351c-f059-4e2d-955a-8cfb72d8b09f",
   "metadata": {},
   "outputs": [],
   "source": []
  }
 ],
 "metadata": {
  "kernelspec": {
   "display_name": "Python 3 (ipykernel)",
   "language": "python",
   "name": "python3"
  },
  "language_info": {
   "codemirror_mode": {
    "name": "ipython",
    "version": 3
   },
   "file_extension": ".py",
   "mimetype": "text/x-python",
   "name": "python",
   "nbconvert_exporter": "python",
   "pygments_lexer": "ipython3",
   "version": "3.12.4"
  }
 },
 "nbformat": 4,
 "nbformat_minor": 5
}
