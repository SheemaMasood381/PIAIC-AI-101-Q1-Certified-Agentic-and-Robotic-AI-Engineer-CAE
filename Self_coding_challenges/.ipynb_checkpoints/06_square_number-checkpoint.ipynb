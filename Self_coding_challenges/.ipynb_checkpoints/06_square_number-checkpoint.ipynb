{
 "cells": [
  {
   "cell_type": "markdown",
   "id": "5921a980-dd58-4b51-8fb9-d59ee9341666",
   "metadata": {},
   "source": [
    "## Ask the user for a number and print its square (the product of the number times itself)."
   ]
  },
  {
   "cell_type": "code",
   "execution_count": 3,
   "id": "4c4c40c5-0e34-4376-8947-57484282f014",
   "metadata": {},
   "outputs": [
    {
     "name": "stdin",
     "output_type": "stream",
     "text": [
      "Type a number to see its square:  5\n"
     ]
    },
    {
     "name": "stdout",
     "output_type": "stream",
     "text": [
      "5.0 squared is 25.0\n"
     ]
    }
   ],
   "source": [
    "def main():\n",
    "    # Prompt the user to enter a number\n",
    "    num = float(input(\"Type a number to see its square: \"))\n",
    "    \n",
    "    # Calculate the square of the number\n",
    "    square = num * num\n",
    "    \n",
    "    # Print the result with an appropriate message\n",
    "    print(f\"{num} squared is {square}\")\n",
    "\n",
    "# This provided line is required at the end of the Python file to call the main() function.\n",
    "if __name__ == '__main__':\n",
    "    main()"
   ]
  },
  {
   "cell_type": "markdown",
   "id": "c3ac1dee-29ae-4355-87d6-94abf3b6769e",
   "metadata": {},
   "source": [
    "-----------"
   ]
  },
  {
   "cell_type": "code",
   "execution_count": null,
   "id": "bd326c4f-486a-47c2-858c-ae0fce617a2a",
   "metadata": {},
   "outputs": [],
   "source": []
  }
 ],
 "metadata": {
  "kernelspec": {
   "display_name": "Python 3 (ipykernel)",
   "language": "python",
   "name": "python3"
  },
  "language_info": {
   "codemirror_mode": {
    "name": "ipython",
    "version": 3
   },
   "file_extension": ".py",
   "mimetype": "text/x-python",
   "name": "python",
   "nbconvert_exporter": "python",
   "pygments_lexer": "ipython3",
   "version": "3.12.4"
  }
 },
 "nbformat": 4,
 "nbformat_minor": 5
}
