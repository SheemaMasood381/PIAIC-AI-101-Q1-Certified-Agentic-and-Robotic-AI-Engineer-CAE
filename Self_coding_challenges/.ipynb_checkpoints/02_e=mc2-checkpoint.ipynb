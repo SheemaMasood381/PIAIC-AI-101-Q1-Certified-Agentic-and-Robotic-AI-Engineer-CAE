{
 "cells": [
  {
   "cell_type": "markdown",
   "id": "ef210806-6ff5-4581-9035-74b69517d388",
   "metadata": {},
   "source": [
    "## Write a program that continually reads in mass from the user and then outputs the equivalent energy using Einstein's mass-energy equivalence formula (E stands for energy, m stands for mass, and C is the speed of light:\n",
    "\n",
    "# **E = m * c**2"
   ]
  },
  {
   "cell_type": "code",
   "execution_count": 1,
   "id": "50df2297-fdeb-4ac3-b285-fbcd1f079504",
   "metadata": {},
   "outputs": [
    {
     "name": "stdin",
     "output_type": "stream",
     "text": [
      "Enter kilos of mass (or type 'exit' to quit):  264595\n"
     ]
    },
    {
     "name": "stdout",
     "output_type": "stream",
     "text": [
      "e = m * C^2...\n",
      "m = 264595.0 kg\n",
      "C = 299792458 m/s\n",
      "2.3780612651786825e+22 joules of energy!\n",
      "\n"
     ]
    },
    {
     "name": "stdin",
     "output_type": "stream",
     "text": [
      "Enter kilos of mass (or type 'exit' to quit):  exit\n"
     ]
    },
    {
     "name": "stdout",
     "output_type": "stream",
     "text": [
      "Exiting the program.\n"
     ]
    }
   ],
   "source": [
    "# Constant for the speed of light in m/s\n",
    "C = 299792458\n",
    "\n",
    "def main():\n",
    "    while True:\n",
    "        try:\n",
    "            # Ask the user for the mass in kilograms\n",
    "            mass_in_kg = float(input(\"Enter kilos of mass (or type 'exit' to quit): \"))\n",
    "            \n",
    "            # Calculate energy using Einstein's formula E = m * c^2\n",
    "            energy_in_joules = mass_in_kg * (C ** 2)\n",
    "            \n",
    "            # Display the calculations and result\n",
    "            print(\"e = m * C^2...\")\n",
    "            print(f\"m = {mass_in_kg} kg\")\n",
    "            print(f\"C = {C} m/s\")\n",
    "            print(f\"{energy_in_joules} joules of energy!\\n\")\n",
    "        \n",
    "        except ValueError:\n",
    "            # Handle the exit case or invalid input\n",
    "            print(\"Exiting the program.\")\n",
    "            break\n",
    "\n",
    "# This provided line is required at the end of the Python file to call the main() function.\n",
    "if __name__ == '__main__':\n",
    "    main()"
   ]
  },
  {
   "cell_type": "markdown",
   "id": "6ccaa5f3-76ee-4e00-905f-bdf985971f1f",
   "metadata": {},
   "source": [
    "--------------"
   ]
  },
  {
   "cell_type": "code",
   "execution_count": null,
   "id": "8ed6d8bb-8c5a-4bb8-9d74-15391803a12b",
   "metadata": {},
   "outputs": [],
   "source": []
  }
 ],
 "metadata": {
  "kernelspec": {
   "display_name": "Python 3 (ipykernel)",
   "language": "python",
   "name": "python3"
  },
  "language_info": {
   "codemirror_mode": {
    "name": "ipython",
    "version": 3
   },
   "file_extension": ".py",
   "mimetype": "text/x-python",
   "name": "python",
   "nbconvert_exporter": "python",
   "pygments_lexer": "ipython3",
   "version": "3.12.4"
  }
 },
 "nbformat": 4,
 "nbformat_minor": 5
}
