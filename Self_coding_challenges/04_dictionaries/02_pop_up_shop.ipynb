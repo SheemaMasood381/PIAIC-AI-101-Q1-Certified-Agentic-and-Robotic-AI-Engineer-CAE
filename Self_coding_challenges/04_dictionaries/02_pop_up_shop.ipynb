{
 "cells": [
  {
   "cell_type": "markdown",
   "id": "81047d44-2937-45fd-802b-ea9c4f2d47cc",
   "metadata": {},
   "source": [
    "## There's a small fruit shop nearby your house that you like to buy from. Since you buy several fruit at a time, you want to keep track of how much the fruit will cost before you go. Luckily you wrote down what fruits were available and how much one of each fruit costs.\n",
    "\n",
    "## Write a program that loops through a dictionary of fruits, prompting the user to see how many of each fruit they want to buy, and then prints out the total combined cost of all of the fruits."
   ]
  },
  {
   "cell_type": "code",
   "execution_count": 1,
   "id": "00162e42-3521-4abc-9253-f36a9dd2299f",
   "metadata": {},
   "outputs": [
    {
     "name": "stdin",
     "output_type": "stream",
     "text": [
      "How many (apple) do you want to buy?:  1\n",
      "How many (durian) do you want to buy?:  12\n",
      "How many (jackfruit) do you want to buy?:  5\n",
      "How many (kiwi) do you want to buy?:  0\n",
      "How many (rambutan) do you want to buy?:  0\n",
      "How many (mango) do you want to buy?:  12\n"
     ]
    },
    {
     "name": "stdout",
     "output_type": "stream",
     "text": [
      "Your total is $1061.50\n"
     ]
    }
   ],
   "source": [
    "def main():\n",
    "    # Dictionary containing the fruits and their prices\n",
    "    fruits = {\n",
    "        'apple': 1.5,\n",
    "        'durian': 50,\n",
    "        'jackfruit': 80,\n",
    "        'kiwi': 1,\n",
    "        'rambutan': 1.5,\n",
    "        'mango': 5\n",
    "    }\n",
    "    \n",
    "    total_cost = 0  # Initialize total cost to 0\n",
    "    \n",
    "    # Loop through each fruit in the dictionary\n",
    "    for fruit_name, price in fruits.items():\n",
    "        # Ask user how many of each fruit they want to buy\n",
    "        amount_bought = int(input(f\"How many ({fruit_name}) do you want to buy?: \"))\n",
    "        # Calculate the cost for this fruit and add to the total cost\n",
    "        total_cost += price * amount_bought\n",
    "    \n",
    "    # Print the total cost\n",
    "    print(f\"Your total is ${total_cost:.2f}\")\n",
    "\n",
    "# This provided line is required at the end of the Python file to call the main() function.\n",
    "if __name__ == '__main__':\n",
    "    main()\n",
    "    "
   ]
  },
  {
   "cell_type": "markdown",
   "id": "ccf210eb-1389-42ba-9f3f-d39cb7aeaa82",
   "metadata": {},
   "source": [
    "------------"
   ]
  },
  {
   "cell_type": "code",
   "execution_count": null,
   "id": "35ad309b-8884-460b-99e9-4015d629f16c",
   "metadata": {},
   "outputs": [],
   "source": []
  }
 ],
 "metadata": {
  "kernelspec": {
   "display_name": "Python 3 (ipykernel)",
   "language": "python",
   "name": "python3"
  },
  "language_info": {
   "codemirror_mode": {
    "name": "ipython",
    "version": 3
   },
   "file_extension": ".py",
   "mimetype": "text/x-python",
   "name": "python",
   "nbconvert_exporter": "python",
   "pygments_lexer": "ipython3",
   "version": "3.12.4"
  }
 },
 "nbformat": 4,
 "nbformat_minor": 5
}
