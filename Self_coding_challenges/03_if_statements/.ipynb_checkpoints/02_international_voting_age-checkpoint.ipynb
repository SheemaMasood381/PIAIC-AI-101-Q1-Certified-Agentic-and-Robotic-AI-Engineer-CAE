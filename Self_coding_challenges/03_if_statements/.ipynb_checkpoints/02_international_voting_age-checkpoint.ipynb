{
 "cells": [
  {
   "cell_type": "markdown",
   "id": "f148110e-4232-48ac-a79e-3c9c6c8aff7e",
   "metadata": {},
   "source": [
    "## write a program which asks a user for their age and lets them know if they can or can't vote in the following three fictional countries.\r\n",
    "\r\n",
    "Around the world, different countries have different voting ages. In the fictional countries of Peturksbouipo, Stanlau, and Mayengua, the voting ages are very different:\r\n",
    "\r\n",
    "the voting age in Peturksbouipo is 16 (in real life, this is the voting age in, for example, Scotland, Ethiopia, and Austria)\r\n",
    "\r\n",
    "the voting age in Stanlau is 25 (in real life this is the voting age in the United Arab Emirates)\r\n",
    "\r\n",
    "the voting age in Mayengua is 48 (in real life, as far as we can tell, this isn't the voting age anywhere)\r\n",
    "\r\n",
    "Your code should prompt the for their age and print whether or not they can vote in Peturksbouipo, Stanlau, or Mayengua.\r\n",
    "\r\n",
    "Here's a sample run of the program (user input is in blue):\r\n",
    "\r\n",
    "How old are you? 20 You can vote in Peturksbouipo where the voting age is 16. You cannot vote in Stanlau where the voting age is 25. You cannot vote in Mayengua where the voting age is 48."
   ]
  },
  {
   "cell_type": "code",
   "execution_count": 1,
   "id": "79d6117b-72c5-4f6b-abaf-e62892a9dd9a",
   "metadata": {},
   "outputs": [
    {
     "name": "stdin",
     "output_type": "stream",
     "text": [
      "How old are you?  32\n"
     ]
    },
    {
     "name": "stdout",
     "output_type": "stream",
     "text": [
      "You can vote in Peturksbouipo where the voting age is 16.\n",
      "You can vote in Stanlau where the voting age is 25.\n",
      "You cannot vote in Mayengua where the voting age is 48.\n"
     ]
    }
   ],
   "source": [
    "# Define the voting ages for the fictional countries\n",
    "PETURKSBOUIPO_AGE = 16\n",
    "STANLAU_AGE = 25\n",
    "MAYENGUA_AGE = 48\n",
    "\n",
    "def main():\n",
    "    # Get the user's age\n",
    "    user_age = int(input(\"How old are you? \"))\n",
    "\n",
    "    # Check if the user can vote in Peturksbouipo\n",
    "    if user_age >= PETURKSBOUIPO_AGE:\n",
    "        print(f\"You can vote in Peturksbouipo where the voting age is {PETURKSBOUIPO_AGE}.\")\n",
    "    else:\n",
    "        print(f\"You cannot vote in Peturksbouipo where the voting age is {PETURKSBOUIPO_AGE}.\")\n",
    "    \n",
    "    # Check if the user can vote in Stanlau\n",
    "    if user_age >= STANLAU_AGE:\n",
    "        print(f\"You can vote in Stanlau where the voting age is {STANLAU_AGE}.\")\n",
    "    else:\n",
    "        print(f\"You cannot vote in Stanlau where the voting age is {STANLAU_AGE}.\")\n",
    "    \n",
    "    # Check if the user can vote in Mayengua\n",
    "    if user_age >= MAYENGUA_AGE:\n",
    "        print(f\"You can vote in Mayengua where the voting age is {MAYENGUA_AGE}.\")\n",
    "    else:\n",
    "        print(f\"You cannot vote in Mayengua where the voting age is {MAYENGUA_AGE}.\")\n",
    "\n",
    "# This provided line is required at the end of the Python file to call the main() function.\n",
    "if __name__ == '__main__':\n",
    "    main()"
   ]
  },
  {
   "cell_type": "markdown",
   "id": "4676b65a-fae1-4c47-ba52-4e8462248adb",
   "metadata": {},
   "source": [
    "----------"
   ]
  },
  {
   "cell_type": "code",
   "execution_count": null,
   "id": "74c42580-c1c0-4d28-a266-6bc52ca4a44b",
   "metadata": {},
   "outputs": [],
   "source": []
  }
 ],
 "metadata": {
  "kernelspec": {
   "display_name": "Python 3 (ipykernel)",
   "language": "python",
   "name": "python3"
  },
  "language_info": {
   "codemirror_mode": {
    "name": "ipython",
    "version": 3
   },
   "file_extension": ".py",
   "mimetype": "text/x-python",
   "name": "python",
   "nbconvert_exporter": "python",
   "pygments_lexer": "ipython3",
   "version": "3.12.4"
  }
 },
 "nbformat": 4,
 "nbformat_minor": 5
}
