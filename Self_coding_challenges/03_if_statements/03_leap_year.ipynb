{
 "cells": [
  {
   "cell_type": "markdown",
   "id": "0074d386-b0fb-40cf-9cec-b82b6c7b26f9",
   "metadata": {},
   "source": [
    "## Write a program that reads a year from the user and tells whether a given year is a leap year or not.\r\n",
    "\r\n",
    "A leap year (also known as an intercalary year or bissextile year) is a calendar year that contains an additional day (or, in the case of a lunisolar calendar, a month) added to keep the calendar year synchronized with the astronomical year or seasonal year. In the Gregorian calendar, each leap year has 366 days instead of 365, by extending February to 29 days rather than the common 28.\r\n",
    "\r\n",
    "In the Gregorian calendar, three criteria must be checked to identify leap years:\r\n",
    "\r\n",
    "The given year must be evenly divisible by 4;\r\n",
    "If the year can also be evenly divided by 100, it is NOT a leap year; unless:\r\n",
    "The year is also evenly divisible by 400. Then it is a leap year.\r\n",
    "Your code should use the above criteria to check for a leap year and then print either \"That's a leap year!\" or \"That's not a leap year.\""
   ]
  },
  {
   "cell_type": "code",
   "execution_count": 1,
   "id": "21dab35b-966e-4ea0-a38b-a637b4a71e98",
   "metadata": {},
   "outputs": [
    {
     "name": "stdin",
     "output_type": "stream",
     "text": [
      "Please input a year:  2000\n"
     ]
    },
    {
     "name": "stdout",
     "output_type": "stream",
     "text": [
      "That's a leap year!\n"
     ]
    }
   ],
   "source": [
    "def main():\n",
    "    # Get the year to check from the user\n",
    "    year = int(input('Please input a year: '))\n",
    "\n",
    "    # Check the conditions for a leap year\n",
    "    if year % 4 == 0:  # Check if the year is divisible by 4\n",
    "        if year % 100 == 0:  # Check if the year is divisible by 100\n",
    "            if year % 400 == 0:  # Check if the year is divisible by 400\n",
    "                print(\"That's a leap year!\")\n",
    "            else:\n",
    "                print(\"That's not a leap year.\")\n",
    "        else:\n",
    "            print(\"That's a leap year!\")\n",
    "    else:\n",
    "        print(\"That's not a leap year.\")\n",
    "\n",
    "# This provided line is required at the end of the Python file to call the main() function.\n",
    "if __name__ == '__main__':\n",
    "    main()"
   ]
  },
  {
   "cell_type": "markdown",
   "id": "86d61313-d2db-4cc8-8378-7bd9b7100dd2",
   "metadata": {},
   "source": [
    "-------------------"
   ]
  },
  {
   "cell_type": "code",
   "execution_count": null,
   "id": "3a71dba6-c4eb-4201-98ce-45c6f42f397b",
   "metadata": {},
   "outputs": [],
   "source": []
  }
 ],
 "metadata": {
  "kernelspec": {
   "display_name": "Python 3 (ipykernel)",
   "language": "python",
   "name": "python3"
  },
  "language_info": {
   "codemirror_mode": {
    "name": "ipython",
    "version": 3
   },
   "file_extension": ".py",
   "mimetype": "text/x-python",
   "name": "python",
   "nbconvert_exporter": "python",
   "pygments_lexer": "ipython3",
   "version": "3.12.4"
  }
 },
 "nbformat": 4,
 "nbformat_minor": 5
}
