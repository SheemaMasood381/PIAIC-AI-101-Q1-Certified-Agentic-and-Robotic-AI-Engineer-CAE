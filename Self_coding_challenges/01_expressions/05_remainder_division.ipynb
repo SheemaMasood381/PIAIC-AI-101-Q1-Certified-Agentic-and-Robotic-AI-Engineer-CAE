{
 "cells": [
  {
   "cell_type": "markdown",
   "id": "8c57148a-19b4-4d7a-8c6c-45914506a47a",
   "metadata": {},
   "source": [
    "## ask the user for two numbers, one at a time, and then print the result of dividing the first number by the second and also the remainder of the division.\n",
    "\n"
   ]
  },
  {
   "cell_type": "code",
   "execution_count": 1,
   "id": "24aef192-40eb-4b0b-9fbb-054c78a5826b",
   "metadata": {},
   "outputs": [
    {
     "name": "stdin",
     "output_type": "stream",
     "text": [
      "Please enter an integer to be divided:  5\n",
      "Please enter an integer to divide by:  10\n"
     ]
    },
    {
     "name": "stdout",
     "output_type": "stream",
     "text": [
      "The result of this division is 0 with a remainder of 5\n"
     ]
    }
   ],
   "source": [
    "def main():\n",
    "    # Prompt the user to enter the first integer (the dividend)\n",
    "    dividend = int(input(\"Please enter an integer to be divided: \"))\n",
    "    \n",
    "    # Prompt the user to enter the second integer (the divisor)\n",
    "    divisor = int(input(\"Please enter an integer to divide by: \"))\n",
    "    \n",
    "    # Calculate the quotient using integer division\n",
    "    quotient = dividend // divisor\n",
    "    \n",
    "    # Calculate the remainder using the modulo operator\n",
    "    remainder = dividend % divisor\n",
    "    \n",
    "    # Print the result of the division and the remainder\n",
    "    print(f\"The result of this division is {quotient} with a remainder of {remainder}\")\n",
    "\n",
    "# This provided line is required at the end of the Python file to call the main() function.\n",
    "if __name__ == '__main__':\n",
    "    main()"
   ]
  },
  {
   "cell_type": "markdown",
   "id": "ec50cdd3-228c-431e-ab26-a115616f9cfb",
   "metadata": {},
   "source": [
    "----------"
   ]
  },
  {
   "cell_type": "code",
   "execution_count": null,
   "id": "00a6b8c5-450c-4404-9efa-1cf4552e4c44",
   "metadata": {},
   "outputs": [],
   "source": []
  }
 ],
 "metadata": {
  "kernelspec": {
   "display_name": "Python 3 (ipykernel)",
   "language": "python",
   "name": "python3"
  },
  "language_info": {
   "codemirror_mode": {
    "name": "ipython",
    "version": 3
   },
   "file_extension": ".py",
   "mimetype": "text/x-python",
   "name": "python",
   "nbconvert_exporter": "python",
   "pygments_lexer": "ipython3",
   "version": "3.12.4"
  }
 },
 "nbformat": 4,
 "nbformat_minor": 5
}
