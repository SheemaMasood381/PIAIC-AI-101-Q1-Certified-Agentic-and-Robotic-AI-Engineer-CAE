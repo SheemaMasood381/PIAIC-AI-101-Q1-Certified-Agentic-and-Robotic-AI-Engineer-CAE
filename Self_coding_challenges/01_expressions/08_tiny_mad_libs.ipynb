{
 "cells": [
  {
   "cell_type": "markdown",
   "id": "82bee8fc-760c-47d5-ac57-c026a9b733e1",
   "metadata": {},
   "source": [
    "## Write a program which prompts the user for an adjective, then a noun, then a verb, and then prints a fun sentence with those words!\n",
    "\n",
    "Mad Libs is a word game where players are prompted for one word at a time, and the words are eventually filled into the blanks of a word template to make an entertaining story! We've provided you with the beginning of a sentence (the SENTENCE_START constant) which will end in a user-inputted adjective, noun, and then verb.\n",
    "\n",
    "Here's a sample run (user input is in bold italics):\n",
    "\n",
    "Please type an adjective and press enter. tiny\n",
    "\n",
    "Please type a noun and press enter. plant\n",
    "\n",
    "Please type a verb and press enter. fly\n",
    "\n",
    "Code in Place is fun. I learned to program and used Python to make my tiny plant fly!"
   ]
  },
  {
   "cell_type": "code",
   "execution_count": 2,
   "id": "b4b4f37a-334f-4a5e-b292-8f59e137d5a5",
   "metadata": {},
   "outputs": [
    {
     "name": "stdin",
     "output_type": "stream",
     "text": [
      "Please type an adjective and press enter:  fun\n",
      "Please type a noun and press enter:  programming\n",
      "Please type a verb and press enter:  fast\n"
     ]
    },
    {
     "name": "stdout",
     "output_type": "stream",
     "text": [
      "Panaversity is fun. I learned to program and used Python to make my fun programming fast!\n"
     ]
    }
   ],
   "source": [
    "SENTENCE_START = \"Panaversity is fun. I learned to program and used Python to make my \"  # adjective noun verb\n",
    "\n",
    "def main():\n",
    "    # Get the three inputs from the user to make the Mad Libs sentence\n",
    "    adjective = input(\"Please type an adjective and press enter: \")\n",
    "    noun = input(\"Please type a noun and press enter: \")\n",
    "    verb = input(\"Please type a verb and press enter: \")\n",
    "\n",
    "    # Join the inputs together with the sentence starter\n",
    "    print(SENTENCE_START + adjective + \" \" + noun + \" \" + verb + \"!\")\n",
    "\n",
    "# This provided line is required at the end of the Python file to call the main() function.\n",
    "if __name__ == '__main__':\n",
    "    main()"
   ]
  },
  {
   "cell_type": "markdown",
   "id": "9e47ff54-6421-4432-97cf-5aad2f6f4d4c",
   "metadata": {},
   "source": [
    "-----------"
   ]
  },
  {
   "cell_type": "code",
   "execution_count": null,
   "id": "21826077-62c5-4c8b-b2be-5197c62f205a",
   "metadata": {},
   "outputs": [],
   "source": []
  }
 ],
 "metadata": {
  "kernelspec": {
   "display_name": "Python 3 (ipykernel)",
   "language": "python",
   "name": "python3"
  },
  "language_info": {
   "codemirror_mode": {
    "name": "ipython",
    "version": 3
   },
   "file_extension": ".py",
   "mimetype": "text/x-python",
   "name": "python",
   "nbconvert_exporter": "python",
   "pygments_lexer": "ipython3",
   "version": "3.12.4"
  }
 },
 "nbformat": 4,
 "nbformat_minor": 5
}
