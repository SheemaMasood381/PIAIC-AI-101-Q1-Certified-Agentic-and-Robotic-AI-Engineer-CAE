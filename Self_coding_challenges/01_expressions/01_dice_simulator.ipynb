{
 "cells": [
  {
   "cell_type": "markdown",
   "id": "061f8083-c2b8-41b9-bacc-21d02d2aeb08",
   "metadata": {},
   "source": [
    "## Simulate rolling two dice, three times. Prints the results of each die roll. This program is used to show how variable scope works"
   ]
  },
  {
   "cell_type": "code",
   "execution_count": 3,
   "id": "a8353878-d2cd-4d03-9c55-d8fc02b64fdc",
   "metadata": {},
   "outputs": [
    {
     "name": "stdout",
     "output_type": "stream",
     "text": [
      "die1 in main() starts as: 10\n",
      "Rolled dice: 5 and 4, Total: 9\n",
      "Rolled dice: 4 and 1, Total: 5\n",
      "Rolled dice: 4 and 6, Total: 10\n",
      "die1 in main() ends as: 10\n"
     ]
    }
   ],
   "source": [
    "\"\"\"\n",
    "Program: dicesimulator\n",
    "----------------------\n",
    "Simulate rolling two dice, three times. Prints\n",
    "the results of each die roll. This program is used\n",
    "to show how variable scope works.\n",
    "\"\"\"\n",
    "\n",
    "# Import the random library which lets us simulate random things like dice!\n",
    "import random\n",
    "\n",
    "# Number of sides on each die to roll\n",
    "NUM_SIDES = 6\n",
    "\n",
    "def roll_dice():\n",
    "    \"\"\"\n",
    "    Simulates rolling two dice and prints their total\n",
    "    \"\"\"\n",
    "    # Generate random numbers between 1 and NUM_SIDES for each die\n",
    "    die1 = random.randint(1, NUM_SIDES)\n",
    "    die2 = random.randint(1, NUM_SIDES)\n",
    "    total = die1 + die2\n",
    "    print(f\"Rolled dice: {die1} and {die2}, Total: {total}\")\n",
    "\n",
    "def main():\n",
    "    # This die1 variable is in the main function's scope\n",
    "    die1 = 10\n",
    "    print(f\"die1 in main() starts as: {die1}\")\n",
    "    \n",
    "    # Call roll_dice() three times\n",
    "    roll_dice()\n",
    "    roll_dice()\n",
    "    roll_dice()\n",
    "    \n",
    "    # The value of die1 in main() is unchanged\n",
    "    print(f\"die1 in main() ends as: {die1}\")\n",
    "\n",
    "# This provided line is required at the end of a Python file to call the main() function.\n",
    "if __name__ == '__main__':\n",
    "    main()"
   ]
  },
  {
   "cell_type": "code",
   "execution_count": 2,
   "id": "5e5c4577-77f4-46e2-9d88-4e19615c4015",
   "metadata": {},
   "outputs": [
    {
     "name": "stdout",
     "output_type": "stream",
     "text": [
      "die1 in main() starts as: 10\n",
      "Rolled dice: 4 and 6, Total: 10\n",
      "Rolled dice: 4 and 4, Total: 8\n",
      "Rolled dice: 3 and 3, Total: 6\n",
      "die1 in main() ends as: 10\n"
     ]
    }
   ],
   "source": [
    "if __name__ == '__main__':\n",
    "    main()"
   ]
  },
  {
   "cell_type": "markdown",
   "id": "51a79685-6fda-471c-b633-c3572520013d",
   "metadata": {},
   "source": [
    "-------------"
   ]
  },
  {
   "cell_type": "code",
   "execution_count": null,
   "id": "92dc9b7c-87ff-43ba-9b7a-ca57034d8c22",
   "metadata": {},
   "outputs": [],
   "source": []
  }
 ],
 "metadata": {
  "kernelspec": {
   "display_name": "Python 3 (ipykernel)",
   "language": "python",
   "name": "python3"
  },
  "language_info": {
   "codemirror_mode": {
    "name": "ipython",
    "version": 3
   },
   "file_extension": ".py",
   "mimetype": "text/x-python",
   "name": "python",
   "nbconvert_exporter": "python",
   "pygments_lexer": "ipython3",
   "version": "3.12.4"
  }
 },
 "nbformat": 4,
 "nbformat_minor": 5
}
