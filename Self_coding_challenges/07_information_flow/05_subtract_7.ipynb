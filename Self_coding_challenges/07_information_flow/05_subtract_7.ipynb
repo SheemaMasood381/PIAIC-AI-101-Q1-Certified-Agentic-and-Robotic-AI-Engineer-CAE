{
 "cells": [
  {
   "cell_type": "markdown",
   "id": "c2f53d0d-dfb0-4113-9837-7e1d9129c720",
   "metadata": {},
   "source": [
    "## Fill out the subtract_seven helper function to subtract 7 from num, and fill out the main() method to call the subtract_seven helper function! If you're stuck, revisit the add_five example from lecture."
   ]
  },
  {
   "cell_type": "code",
   "execution_count": 2,
   "id": "f8966000-52fc-4535-bf1c-5256cbd3033c",
   "metadata": {},
   "outputs": [
    {
     "name": "stdin",
     "output_type": "stream",
     "text": [
      "Enter a number:  15\n"
     ]
    },
    {
     "name": "stdout",
     "output_type": "stream",
     "text": [
      "The result after subtracting 7 is: 8\n"
     ]
    }
   ],
   "source": [
    "def subtract_seven(num: int) -> int:\n",
    "    \"\"\"\n",
    "    Subtracts 7 from the given number and returns the result.\n",
    "    \"\"\"\n",
    "    return num - 7\n",
    "\n",
    "def main():\n",
    "    # Prompt the user to enter a number\n",
    "    num = int(input(\"Enter a number: \"))\n",
    "    # Call the subtract_seven function to subtract 7 from the number\n",
    "    result = subtract_seven(num)\n",
    "    # Print the result\n",
    "    print(\"The result after subtracting 7 is:\", result)\n",
    "\n",
    "# This provided line is required at the end of the Python file to call the main() function.\n",
    "if __name__ == '__main__':\n",
    "    main()"
   ]
  },
  {
   "cell_type": "markdown",
   "id": "7a07ad63-bbe2-409b-8f0f-9c7a541c2e3c",
   "metadata": {},
   "source": [
    "--------"
   ]
  },
  {
   "cell_type": "code",
   "execution_count": null,
   "id": "6e593163-089e-4907-a8b0-efe382986317",
   "metadata": {},
   "outputs": [],
   "source": []
  }
 ],
 "metadata": {
  "kernelspec": {
   "display_name": "Python 3 (ipykernel)",
   "language": "python",
   "name": "python3"
  },
  "language_info": {
   "codemirror_mode": {
    "name": "ipython",
    "version": 3
   },
   "file_extension": ".py",
   "mimetype": "text/x-python",
   "name": "python",
   "nbconvert_exporter": "python",
   "pygments_lexer": "ipython3",
   "version": "3.12.4"
  }
 },
 "nbformat": 4,
 "nbformat_minor": 5
}
