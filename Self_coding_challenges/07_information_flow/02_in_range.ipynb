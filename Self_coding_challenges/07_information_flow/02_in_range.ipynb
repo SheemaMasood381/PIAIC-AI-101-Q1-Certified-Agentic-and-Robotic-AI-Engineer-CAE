{
 "cells": [
  {
   "cell_type": "markdown",
   "id": "ec1f075b-e8ed-456c-902e-b4446500e853",
   "metadata": {},
   "source": [
    "## Implement the following function which takes in 3 integers as parameters:\n",
    "\n",
    "def in_range(n, low, high) \"\"\" Returns True if n is between low and high, inclusive. high is guaranteed to be greater than low. \"\"\""
   ]
  },
  {
   "cell_type": "code",
   "execution_count": 1,
   "id": "decdd081-70ba-4172-ab55-d95b7e7163ec",
   "metadata": {},
   "outputs": [
    {
     "name": "stdin",
     "output_type": "stream",
     "text": [
      "Enter a number:  50\n",
      "Enter the lower bound:  100\n",
      "Enter the upper bound:  200\n"
     ]
    },
    {
     "name": "stdout",
     "output_type": "stream",
     "text": [
      "False\n"
     ]
    }
   ],
   "source": [
    "def in_range(n: int, low: int, high: int) -> bool:\n",
    "    \"\"\"\n",
    "    Returns True if n is between low and high, inclusive.\n",
    "    high is guaranteed to be greater than low.\n",
    "    \"\"\"\n",
    "    return low <= n <= high\n",
    "\n",
    "def main():\n",
    "    # Prompt the user to enter the values for n, low, and high\n",
    "    n = int(input(\"Enter a number: \"))\n",
    "    low = int(input(\"Enter the lower bound: \"))\n",
    "    high = int(input(\"Enter the upper bound: \"))\n",
    "    \n",
    "    # Call the in_range function and print the result\n",
    "    print(in_range(n, low, high))\n",
    "\n",
    "# This provided line is required at the end of the Python file to call the main() function.\n",
    "if __name__ == '__main__':\n",
    "    main()"
   ]
  },
  {
   "cell_type": "markdown",
   "id": "9ea26b2c-e0ec-4e0a-91fa-f43dcc3e01ea",
   "metadata": {},
   "source": [
    "-----"
   ]
  },
  {
   "cell_type": "code",
   "execution_count": null,
   "id": "3c01acd4-bdc9-42c3-be29-8c11f8fa7602",
   "metadata": {},
   "outputs": [],
   "source": []
  }
 ],
 "metadata": {
  "kernelspec": {
   "display_name": "Python 3 (ipykernel)",
   "language": "python",
   "name": "python3"
  },
  "language_info": {
   "codemirror_mode": {
    "name": "ipython",
    "version": 3
   },
   "file_extension": ".py",
   "mimetype": "text/x-python",
   "name": "python",
   "nbconvert_exporter": "python",
   "pygments_lexer": "ipython3",
   "version": "3.12.4"
  }
 },
 "nbformat": 4,
 "nbformat_minor": 5
}
