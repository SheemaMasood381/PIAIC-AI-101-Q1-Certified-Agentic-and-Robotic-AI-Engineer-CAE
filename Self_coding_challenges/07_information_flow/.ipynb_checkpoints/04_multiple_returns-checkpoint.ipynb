{
 "cells": [
  {
   "cell_type": "markdown",
   "id": "e8319a37-c6c8-4723-ad91-63c81d5b34e7",
   "metadata": {},
   "source": [
    "## There are times where you are working with lots of different data within a function that you want to return. While generally, we want to keep functions to have a precise purpose, sometimes that purpose just deals with multiple bits of data.\n",
    "\n",
    "To practice this, imagine we are working on a program where the user needs to enters data to sign up for a website. Fill out the get_user_data() function which:\n",
    "\n",
    "Asks the user for their first name and stores it in a variable\n",
    "\n",
    "Asks the user for their last name and stores it in a variable\n",
    "\n",
    "Asks the user for their email address and stores it in a variable\n",
    "\n",
    "Returns all three of these pieces of data in the order it was asked\n",
    "\n",
    "You can return multiple pieces of data by separating each piece with a comma in the return line."
   ]
  },
  {
   "cell_type": "code",
   "execution_count": 2,
   "id": "d8db0e46-7c13-475d-b1f5-76bb53d2e2e7",
   "metadata": {},
   "outputs": [
    {
     "name": "stdin",
     "output_type": "stream",
     "text": [
      "What is your first name?:  Sheema \n",
      "What is your last name?:  Masood\n",
      "What is your email address?:  sheema_masood381@gmail.com\n"
     ]
    },
    {
     "name": "stdout",
     "output_type": "stream",
     "text": [
      "Received the following user data: ('Sheema ', 'Masood', 'sheema_masood381@gmail.com')\n"
     ]
    }
   ],
   "source": [
    "def get_user_info():\n",
    "    \"\"\"\n",
    "    Asks the user for their first name, last name, and email address,\n",
    "    and returns these pieces of data as a tuple.\n",
    "    \"\"\"\n",
    "    first_name = input(\"What is your first name?: \")\n",
    "    last_name = input(\"What is your last name?: \")\n",
    "    email_address = input(\"What is your email address?: \")\n",
    "    \n",
    "    return first_name, last_name, email_address\n",
    "\n",
    "def main():\n",
    "    # Call the get_user_info function to get user data\n",
    "    user_data = get_user_info()\n",
    "    # Print the received user data\n",
    "    print(\"Received the following user data:\", user_data)\n",
    "\n",
    "# This provided line is required at the end of the Python file to call the main() function.\n",
    "if __name__ == '__main__':\n",
    "    main()"
   ]
  },
  {
   "cell_type": "markdown",
   "id": "9c987c2e-7438-40b8-b63e-55a2a8e17182",
   "metadata": {},
   "source": [
    "----------"
   ]
  },
  {
   "cell_type": "code",
   "execution_count": null,
   "id": "c6b70a5f-9243-4556-b3c2-4c1efab1b39f",
   "metadata": {},
   "outputs": [],
   "source": []
  }
 ],
 "metadata": {
  "kernelspec": {
   "display_name": "Python 3 (ipykernel)",
   "language": "python",
   "name": "python3"
  },
  "language_info": {
   "codemirror_mode": {
    "name": "ipython",
    "version": 3
   },
   "file_extension": ".py",
   "mimetype": "text/x-python",
   "name": "python",
   "nbconvert_exporter": "python",
   "pygments_lexer": "ipython3",
   "version": "3.12.4"
  }
 },
 "nbformat": 4,
 "nbformat_minor": 5
}
