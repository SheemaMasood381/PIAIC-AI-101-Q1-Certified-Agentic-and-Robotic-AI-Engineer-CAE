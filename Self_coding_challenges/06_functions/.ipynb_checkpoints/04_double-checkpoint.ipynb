{
 "cells": [
  {
   "cell_type": "markdown",
   "id": "7f17dd0d-a547-47f8-acf7-b9d87294525e",
   "metadata": {},
   "source": [
    "## Fill out the double(num) function to return the result of multiplying num by 2. We've written a main() function for you which asks the user for a number, calls your code for double(num) , and prints the result."
   ]
  },
  {
   "cell_type": "code",
   "execution_count": 1,
   "id": "f03c09a6-cdac-49e3-ad8e-a2b41aacb3ae",
   "metadata": {},
   "outputs": [
    {
     "name": "stdin",
     "output_type": "stream",
     "text": [
      "Enter a number:  5\n"
     ]
    },
    {
     "name": "stdout",
     "output_type": "stream",
     "text": [
      "Double that is 10\n"
     ]
    }
   ],
   "source": [
    "def double(num: int) -> int:\n",
    "    \"\"\"\n",
    "    Returns the result of multiplying num by 2.\n",
    "    \"\"\"\n",
    "    return num * 2\n",
    "\n",
    "def main():\n",
    "    # Prompt the user to enter a number\n",
    "    num = int(input(\"Enter a number: \"))\n",
    "    # Call the double function to get the result of num * 2\n",
    "    num_times_2 = double(num)\n",
    "    # Print the result\n",
    "    print(\"Double that is\", num_times_2)\n",
    "\n",
    "# This provided line is required at the end of the Python file to call the main() function.\n",
    "if __name__ == '__main__':\n",
    "    main()"
   ]
  },
  {
   "cell_type": "markdown",
   "id": "fb005148-0f98-4c36-b183-391880830766",
   "metadata": {},
   "source": [
    "------"
   ]
  },
  {
   "cell_type": "code",
   "execution_count": null,
   "id": "4bca018a-cdad-4032-9d8c-69fec349031d",
   "metadata": {},
   "outputs": [],
   "source": []
  }
 ],
 "metadata": {
  "kernelspec": {
   "display_name": "Python 3 (ipykernel)",
   "language": "python",
   "name": "python3"
  },
  "language_info": {
   "codemirror_mode": {
    "name": "ipython",
    "version": 3
   },
   "file_extension": ".py",
   "mimetype": "text/x-python",
   "name": "python",
   "nbconvert_exporter": "python",
   "pygments_lexer": "ipython3",
   "version": "3.12.4"
  }
 },
 "nbformat": 4,
 "nbformat_minor": 5
}
