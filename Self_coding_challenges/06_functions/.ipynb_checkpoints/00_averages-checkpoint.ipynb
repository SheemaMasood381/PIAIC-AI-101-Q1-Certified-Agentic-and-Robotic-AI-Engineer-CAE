{
 "cells": [
  {
   "cell_type": "markdown",
   "id": "8e865c36-737b-43e4-b9e1-4b96ed2bf1e3",
   "metadata": {},
   "source": [
    "## Write a function that takes two numbers and finds the average between the two."
   ]
  },
  {
   "cell_type": "code",
   "execution_count": 2,
   "id": "efeb8629-5303-4bf6-b0cd-dad275c4366b",
   "metadata": {},
   "outputs": [
    {
     "name": "stdin",
     "output_type": "stream",
     "text": [
      "Enter the first number:  50\n",
      "Enter the second number:  30\n"
     ]
    },
    {
     "name": "stdout",
     "output_type": "stream",
     "text": [
      "The average of 50.0 and 30.0 is 40.0\n"
     ]
    }
   ],
   "source": [
    "def average(a: float, b: float) -> float:\n",
    "    \"\"\"\n",
    "    Returns the number which is halfway between a and b.\n",
    "    \"\"\"\n",
    "    return (a + b) / 2\n",
    "\n",
    "def main():\n",
    "    # Prompt the user to input two numbers\n",
    "    num1 = float(input(\"Enter the first number: \"))\n",
    "    num2 = float(input(\"Enter the second number: \"))\n",
    "    \n",
    "    # Calculate the average of the two numbers\n",
    "    avg = average(num1, num2)\n",
    "    \n",
    "    # Print the average\n",
    "    print(f\"The average of {num1} and {num2} is {avg}\")\n",
    "\n",
    "# This provided line is required at the end of the Python file to call the main() function.\n",
    "if __name__ == '__main__':\n",
    "    main()"
   ]
  },
  {
   "cell_type": "markdown",
   "id": "b61734d9-7502-4055-a84d-40e350dee9ea",
   "metadata": {},
   "source": [
    "--------"
   ]
  },
  {
   "cell_type": "code",
   "execution_count": null,
   "id": "e5042f97-2556-4976-88f7-b846ef7d776b",
   "metadata": {},
   "outputs": [],
   "source": []
  }
 ],
 "metadata": {
  "kernelspec": {
   "display_name": "Python 3 (ipykernel)",
   "language": "python",
   "name": "python3"
  },
  "language_info": {
   "codemirror_mode": {
    "name": "ipython",
    "version": 3
   },
   "file_extension": ".py",
   "mimetype": "text/x-python",
   "name": "python",
   "nbconvert_exporter": "python",
   "pygments_lexer": "ipython3",
   "version": "3.12.4"
  }
 },
 "nbformat": 4,
 "nbformat_minor": 5
}
