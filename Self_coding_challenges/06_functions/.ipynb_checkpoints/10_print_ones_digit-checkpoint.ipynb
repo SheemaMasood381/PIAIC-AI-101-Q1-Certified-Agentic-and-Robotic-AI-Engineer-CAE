{
 "cells": [
  {
   "cell_type": "markdown",
   "id": "b661d18a-d580-4092-9848-aaf340b0b8d1",
   "metadata": {},
   "source": [
    "## Write a function called print_ones_digit , which takes as a parameter an integer num and prints its ones digit. The modulo (remainder) operator, %, should be helpful to you here. Call your function from main()!"
   ]
  },
  {
   "cell_type": "code",
   "execution_count": 1,
   "id": "5a3c8d11-ad89-4559-ba64-dcde036a4619",
   "metadata": {},
   "outputs": [
    {
     "name": "stdin",
     "output_type": "stream",
     "text": [
      "Enter a number:  52\n"
     ]
    },
    {
     "name": "stdout",
     "output_type": "stream",
     "text": [
      "The ones digit is 2\n"
     ]
    }
   ],
   "source": [
    "def print_ones_digit(num: int):\n",
    "    \"\"\"\n",
    "    Prints the ones digit of the given number.\n",
    "    \"\"\"\n",
    "    ones_digit = num % 10\n",
    "    print(\"The ones digit is\", ones_digit)\n",
    "\n",
    "def main():\n",
    "    # Prompt the user to enter a number\n",
    "    num = int(input(\"Enter a number: \"))\n",
    "    # Call the function to print the ones digit of the entered number\n",
    "    print_ones_digit(num)\n",
    "\n",
    "# This provided line is required at the end of the Python file to call the main() function.\n",
    "if __name__ == '__main__':\n",
    "    main()"
   ]
  },
  {
   "cell_type": "markdown",
   "id": "02f3e7b2-46f9-4310-950d-559fb20be2ee",
   "metadata": {},
   "source": [
    "---------"
   ]
  },
  {
   "cell_type": "code",
   "execution_count": null,
   "id": "d8e3d218-8833-487f-9047-72312110428d",
   "metadata": {},
   "outputs": [],
   "source": []
  }
 ],
 "metadata": {
  "kernelspec": {
   "display_name": "Python 3 (ipykernel)",
   "language": "python",
   "name": "python3"
  },
  "language_info": {
   "codemirror_mode": {
    "name": "ipython",
    "version": 3
   },
   "file_extension": ".py",
   "mimetype": "text/x-python",
   "name": "python",
   "nbconvert_exporter": "python",
   "pygments_lexer": "ipython3",
   "version": "3.12.4"
  }
 },
 "nbformat": 4,
 "nbformat_minor": 5
}
