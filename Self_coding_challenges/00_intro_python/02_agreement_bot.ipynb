{
 "cells": [
  {
   "cell_type": "markdown",
   "id": "41e575c9-c3c9-4884-ae1e-c073976fe005",
   "metadata": {},
   "source": [
    "## Write a program which asks the user what their favorite animal is, and then always responds with \"My favorite animal is also ___!\" (the blank should be filled in with the user-inputted animal, of course)."
   ]
  },
  {
   "cell_type": "code",
   "execution_count": 1,
   "id": "9d9e6646-525f-4eae-854c-6a8d6fdbf75c",
   "metadata": {},
   "outputs": [
    {
     "name": "stdin",
     "output_type": "stream",
     "text": [
      "What's your favorite animal?  rabbit\n"
     ]
    },
    {
     "name": "stdout",
     "output_type": "stream",
     "text": [
      "My favorite animal is also rabbit!\n"
     ]
    }
   ],
   "source": [
    "def main():\n",
    "    # Prompt the user to enter their favorite animal\n",
    "    favorite_animal = input(\"What's your favorite animal? \")\n",
    "\n",
    "    # Respond with the favorite animal\n",
    "    print(\"My favorite animal is also \" + favorite_animal + \"!\")\n",
    "\n",
    "\n",
    "# This provided line is required at the end of the Python file to call the main() function.\n",
    "if __name__ == '__main__':\n",
    "    main()"
   ]
  },
  {
   "cell_type": "markdown",
   "id": "32c6c51b-7c3a-470b-8b6e-d19bac02816c",
   "metadata": {},
   "source": [
    "------------"
   ]
  },
  {
   "cell_type": "code",
   "execution_count": null,
   "id": "dc36449b-d063-410b-907d-5fcd5c285eb6",
   "metadata": {},
   "outputs": [],
   "source": []
  }
 ],
 "metadata": {
  "kernelspec": {
   "display_name": "Python 3 (ipykernel)",
   "language": "python",
   "name": "python3"
  },
  "language_info": {
   "codemirror_mode": {
    "name": "ipython",
    "version": 3
   },
   "file_extension": ".py",
   "mimetype": "text/x-python",
   "name": "python",
   "nbconvert_exporter": "python",
   "pygments_lexer": "ipython3",
   "version": "3.12.4"
  }
 },
 "nbformat": 4,
 "nbformat_minor": 5
}
