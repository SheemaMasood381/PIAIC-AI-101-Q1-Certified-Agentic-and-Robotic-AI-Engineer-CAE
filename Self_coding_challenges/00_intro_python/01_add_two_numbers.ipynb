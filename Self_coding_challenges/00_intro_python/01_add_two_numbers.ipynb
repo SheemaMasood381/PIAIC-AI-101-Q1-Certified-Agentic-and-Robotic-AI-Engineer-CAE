{
 "cells": [
  {
   "cell_type": "code",
   "execution_count": 1,
   "id": "0973ed99-7366-4737-9dcb-53acd99133ff",
   "metadata": {},
   "outputs": [
    {
     "name": "stdout",
     "output_type": "stream",
     "text": [
      "This program adds two numbers.\n"
     ]
    },
    {
     "name": "stdin",
     "output_type": "stream",
     "text": [
      "Enter the first number:  5\n",
      "Enter the second number:  5\n"
     ]
    },
    {
     "name": "stdout",
     "output_type": "stream",
     "text": [
      "The total is 10.\n"
     ]
    }
   ],
   "source": [
    "\"\"\"\n",
    "Program: add2numbers\n",
    "--------------------\n",
    "This program asks the user for two integers and prints their sum.\n",
    "\"\"\"\n",
    "\n",
    "def main():\n",
    "    # Print a message indicating what the program does\n",
    "    print(\"This program adds two numbers.\")\n",
    "\n",
    "    # Prompt the user to enter the first number\n",
    "    num1 = input(\"Enter the first number: \")\n",
    "    # Convert the input to an integer\n",
    "    num1 = int(num1)\n",
    "\n",
    "    # Prompt the user to enter the second number\n",
    "    num2 = input(\"Enter the second number: \")\n",
    "    # Convert the input to an integer\n",
    "    num2 = int(num2)\n",
    "\n",
    "    # Calculate the sum of the two numbers\n",
    "    total = num1 + num2\n",
    "\n",
    "    # Print the total sum with an appropriate message\n",
    "    print(\"The total is \" + str(total) + \".\")\n",
    "\n",
    "# This provided line is required at the end of the Python file to call the main() function.\n",
    "if __name__ == '__main__':\n",
    "    main()"
   ]
  },
  {
   "cell_type": "markdown",
   "id": "3177b72a-c0af-4bc1-b3a7-9d95ca1a71c5",
   "metadata": {},
   "source": [
    "-------------------"
   ]
  },
  {
   "cell_type": "code",
   "execution_count": null,
   "id": "3b57c46e-e5e2-4d9d-b38d-cfbbe17ebbc4",
   "metadata": {},
   "outputs": [],
   "source": []
  }
 ],
 "metadata": {
  "kernelspec": {
   "display_name": "Python 3 (ipykernel)",
   "language": "python",
   "name": "python3"
  },
  "language_info": {
   "codemirror_mode": {
    "name": "ipython",
    "version": 3
   },
   "file_extension": ".py",
   "mimetype": "text/x-python",
   "name": "python",
   "nbconvert_exporter": "python",
   "pygments_lexer": "ipython3",
   "version": "3.12.4"
  }
 },
 "nbformat": 4,
 "nbformat_minor": 5
}
