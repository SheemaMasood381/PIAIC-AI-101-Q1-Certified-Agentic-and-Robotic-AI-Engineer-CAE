{
 "cells": [
  {
   "cell_type": "markdown",
   "id": "66c51853-f596-4ea4-8664-974fc9c5babc",
   "metadata": {},
   "source": [
    "## Write a program which prompts the user to type an affirmation of your choice (we'll use \"I am capable of doing anything I put my mind to.\") until they type it correctly. Sometimes, especially in the midst of such uncertain times, we just need to be reminded that we are resilient, capable, and strong; this little Python program may be able to help!"
   ]
  },
  {
   "cell_type": "code",
   "execution_count": 1,
   "id": "b5116e0d-fa6a-4917-b057-1acebfb9f6e6",
   "metadata": {},
   "outputs": [
    {
     "name": "stdout",
     "output_type": "stream",
     "text": [
      "Please type the following affirmation: I am capable of doing anything I put my mind to.\n"
     ]
    },
    {
     "name": "stdin",
     "output_type": "stream",
     "text": [
      " i am capable of doing anything\n"
     ]
    },
    {
     "name": "stdout",
     "output_type": "stream",
     "text": [
      "Hmmm. That was not the affirmation.\n",
      "Please type the following affirmation: I am capable of doing anything I put my mind to.\n"
     ]
    },
    {
     "name": "stdin",
     "output_type": "stream",
     "text": [
      "  I am capable of doing anything I put my mind to\n"
     ]
    },
    {
     "name": "stdout",
     "output_type": "stream",
     "text": [
      "Hmmm. That was not the affirmation.\n",
      "Please type the following affirmation: I am capable of doing anything I put my mind to.\n"
     ]
    },
    {
     "name": "stdin",
     "output_type": "stream",
     "text": [
      " I am capable of doing anything I put my mind to.\n"
     ]
    },
    {
     "name": "stdout",
     "output_type": "stream",
     "text": [
      "That's right! :)\n"
     ]
    }
   ],
   "source": [
    "AFFIRMATION = \"I am capable of doing anything I put my mind to.\"\n",
    "\n",
    "def main():\n",
    "    print(\"Please type the following affirmation: \" + AFFIRMATION)\n",
    "\n",
    "    user_feedback = input()  # Get user's input\n",
    "    while user_feedback != AFFIRMATION:  # While the user's input isn't the affirmation\n",
    "        # Tell the user that they did not type the affirmation correctly\n",
    "        print(\"Hmmm. That was not the affirmation.\")\n",
    "        \n",
    "        # Ask the user to type the affirmation again\n",
    "        print(\"Please type the following affirmation: \" + AFFIRMATION)\n",
    "        user_feedback = input()\n",
    "\n",
    "    print(\"That's right! :)\")\n",
    "\n",
    "# This provided line is required at the end of the Python file to call the main() function.\n",
    "if __name__ == '__main__':\n",
    "    main()"
   ]
  },
  {
   "cell_type": "markdown",
   "id": "2b6ce142-61c9-4b46-b0d4-9f49c7e59331",
   "metadata": {},
   "source": [
    "------------"
   ]
  },
  {
   "cell_type": "code",
   "execution_count": null,
   "id": "64e72685-1592-4485-8c4e-d1779bdfa9b9",
   "metadata": {},
   "outputs": [],
   "source": []
  }
 ],
 "metadata": {
  "kernelspec": {
   "display_name": "Python 3 (ipykernel)",
   "language": "python",
   "name": "python3"
  },
  "language_info": {
   "codemirror_mode": {
    "name": "ipython",
    "version": 3
   },
   "file_extension": ".py",
   "mimetype": "text/x-python",
   "name": "python",
   "nbconvert_exporter": "python",
   "pygments_lexer": "ipython3",
   "version": "3.12.4"
  }
 },
 "nbformat": 4,
 "nbformat_minor": 5
}
