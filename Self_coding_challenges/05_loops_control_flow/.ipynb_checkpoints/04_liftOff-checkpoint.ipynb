{
 "cells": [
  {
   "cell_type": "markdown",
   "id": "38b6c460-4672-4db2-ad9f-3302d58293b9",
   "metadata": {},
   "source": [
    "## write a program that prints out the calls for a spaceship that is about to launch. Countdown from 10 to 1 and then output Liftoff!\n"
   ]
  },
  {
   "cell_type": "code",
   "execution_count": 1,
   "id": "75d30743-dfc2-47ab-9664-cf1319fd289c",
   "metadata": {},
   "outputs": [
    {
     "name": "stdout",
     "output_type": "stream",
     "text": [
      "10 9 8 7 6 5 4 3 2 1 Liftoff!\n"
     ]
    }
   ],
   "source": [
    "def main():\n",
    "    # Loop from 10 to 1\n",
    "    for i in range(10, 0, -1):\n",
    "        print(i, end=' ')\n",
    "    \n",
    "    # Print \"Liftoff!\" after the countdown\n",
    "    print(\"Liftoff!\")\n",
    "\n",
    "# This provided line is required at the end of the Python file to call the main() function.\n",
    "if __name__ == '__main__':\n",
    "    main()\n",
    "    "
   ]
  },
  {
   "cell_type": "markdown",
   "id": "6039d7e6-c933-4e95-b7d8-b9a6e6bac368",
   "metadata": {},
   "source": [
    "--------"
   ]
  },
  {
   "cell_type": "code",
   "execution_count": null,
   "id": "97c78d6f-6345-4de3-b6c1-28b1aeb66b89",
   "metadata": {},
   "outputs": [],
   "source": []
  }
 ],
 "metadata": {
  "kernelspec": {
   "display_name": "Python 3 (ipykernel)",
   "language": "python",
   "name": "python3"
  },
  "language_info": {
   "codemirror_mode": {
    "name": "ipython",
    "version": 3
   },
   "file_extension": ".py",
   "mimetype": "text/x-python",
   "name": "python",
   "nbconvert_exporter": "python",
   "pygments_lexer": "ipython3",
   "version": "3.12.4"
  }
 },
 "nbformat": 4,
 "nbformat_minor": 5
}
