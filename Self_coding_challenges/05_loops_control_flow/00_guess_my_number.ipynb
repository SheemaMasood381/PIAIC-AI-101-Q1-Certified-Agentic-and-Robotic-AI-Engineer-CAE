{
 "cells": [
  {
   "cell_type": "markdown",
   "id": "b513e096-fbbb-47ea-ae44-a63f3d806154",
   "metadata": {},
   "source": [
    "## Guess My Number"
   ]
  },
  {
   "cell_type": "code",
   "execution_count": 1,
   "id": "2083ed4a-2054-41a0-a623-fdfb63f8c8a7",
   "metadata": {},
   "outputs": [
    {
     "name": "stdout",
     "output_type": "stream",
     "text": [
      "I am thinking of a number between 0 and 99...\n"
     ]
    },
    {
     "name": "stdin",
     "output_type": "stream",
     "text": [
      "Enter a guess:  50\n"
     ]
    },
    {
     "name": "stdout",
     "output_type": "stream",
     "text": [
      "Your guess is too low\n",
      "\n"
     ]
    },
    {
     "name": "stdin",
     "output_type": "stream",
     "text": [
      "Enter a new guess:  60\n"
     ]
    },
    {
     "name": "stdout",
     "output_type": "stream",
     "text": [
      "Your guess is too high\n",
      "\n"
     ]
    },
    {
     "name": "stdin",
     "output_type": "stream",
     "text": [
      "Enter a new guess:  55\n"
     ]
    },
    {
     "name": "stdout",
     "output_type": "stream",
     "text": [
      "Your guess is too high\n",
      "\n"
     ]
    },
    {
     "name": "stdin",
     "output_type": "stream",
     "text": [
      "Enter a new guess:  53\n"
     ]
    },
    {
     "name": "stdout",
     "output_type": "stream",
     "text": [
      "Your guess is too low\n",
      "\n"
     ]
    },
    {
     "name": "stdin",
     "output_type": "stream",
     "text": [
      "Enter a new guess:  54\n"
     ]
    },
    {
     "name": "stdout",
     "output_type": "stream",
     "text": [
      "Congrats! The number was: 54\n"
     ]
    }
   ],
   "source": [
    "import random\n",
    "\n",
    "def main():\n",
    "    # Generate the secret number at random\n",
    "    secret_number = random.randint(0, 99)\n",
    "    \n",
    "    print(\"I am thinking of a number between 0 and 99...\")\n",
    "    \n",
    "    # Get user's guess\n",
    "    guess = int(input(\"Enter a guess: \"))\n",
    "    \n",
    "    # Loop until the user guesses the correct number\n",
    "    while guess != secret_number:\n",
    "        if guess < secret_number:  # If the guess is less than the secret number\n",
    "            print(\"Your guess is too low\")\n",
    "        else:\n",
    "            print(\"Your guess is too high\")\n",
    "            \n",
    "        print()  # Print an empty line to tidy up the console for new guesses\n",
    "        guess = int(input(\"Enter a new guess: \"))  # Get a new guess from the user\n",
    "        \n",
    "    print(\"Congrats! The number was: \" + str(secret_number))\n",
    "\n",
    "# This provided line is required at the end of the Python file to call the main() function.\n",
    "if __name__ == '__main__':\n",
    "    main()"
   ]
  },
  {
   "cell_type": "markdown",
   "id": "53cd0bd8-2654-4d11-9e51-e9282f0ffc17",
   "metadata": {},
   "source": [
    "------"
   ]
  },
  {
   "cell_type": "code",
   "execution_count": null,
   "id": "a0048b28-93b5-403f-b606-c9b648dec2af",
   "metadata": {},
   "outputs": [],
   "source": []
  }
 ],
 "metadata": {
  "kernelspec": {
   "display_name": "Python 3 (ipykernel)",
   "language": "python",
   "name": "python3"
  },
  "language_info": {
   "codemirror_mode": {
    "name": "ipython",
    "version": 3
   },
   "file_extension": ".py",
   "mimetype": "text/x-python",
   "name": "python",
   "nbconvert_exporter": "python",
   "pygments_lexer": "ipython3",
   "version": "3.12.4"
  }
 },
 "nbformat": 4,
 "nbformat_minor": 5
}
