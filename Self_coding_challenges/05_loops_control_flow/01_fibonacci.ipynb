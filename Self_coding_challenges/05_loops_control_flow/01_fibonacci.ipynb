{
 "cells": [
  {
   "cell_type": "markdown",
   "id": "a3c96383-44c2-4597-bac8-60505b72014c",
   "metadata": {},
   "source": [
    "## Write a program to print terms in the Fibonacci sequence up to a maximum value.\r\n",
    "\r\n",
    "In the 13th century, the Italian mathematician Leonardo Fibonacci, as a way to explain the geometric growth of a population of rabbits, devised a mathematical sequence that now bears his name. The first two terms in this sequence, Fib(0) and Fib(1), are 0 and 1, and every subsequent term is the sum of the preceding two. Thus, the first several terms in the Fibonacci sequence look like this:\r\n",
    "\r\n",
    "Fib(0) = 0 Fib(1) = 1 Fib(2) = 1 = 0 + 1 Fib(3) = 2 = 1 + 1 Fib(4) = 3 = 1 + 2 Fib(5) = 5 = 2 + 3\r\n",
    "\r\n",
    "Write a program that displays the terms in the Fibonacci sequence, starting with Fib(0) and continuing as long as the terms are less than 10,000 (you should store this value as a constant!). Thus, your program should produce the following sample run:\r\n",
    "\r\n",
    "0 1 1 2 3 5 8 13 21 34 55 89 144 233 377 610 987 1597 2584 4181 6765"
   ]
  },
  {
   "cell_type": "code",
   "execution_count": 1,
   "id": "a93fc4e7-40e1-4736-b49d-143cfd52135b",
   "metadata": {},
   "outputs": [
    {
     "name": "stdout",
     "output_type": "stream",
     "text": [
      "0 1 1 2 3 5 8 13 21 34 55 89 144 233 377 610 987 1597 2584 4181 6765 \n"
     ]
    }
   ],
   "source": [
    "MAX_TERM_VALUE = 10000\n",
    "\n",
    "def main():\n",
    "    curr_term = 0  # The 0th Fibonacci Number\n",
    "    next_term = 1  # The 1st Fibonacci Number\n",
    "    \n",
    "    # Print Fibonacci terms as long as they are less than or equal to MAX_TERM_VALUE\n",
    "    while curr_term <= MAX_TERM_VALUE:\n",
    "        print(curr_term, end=' ')\n",
    "        term_after_next = curr_term + next_term\n",
    "        curr_term = next_term\n",
    "        next_term = term_after_next\n",
    "\n",
    "    print()  # Print a newline at the end\n",
    "\n",
    "# This provided line is required at the end of the Python file to call the main() function.\n",
    "if __name__ == '__main__':\n",
    "    main()"
   ]
  },
  {
   "cell_type": "markdown",
   "id": "3ca59833-0612-4094-b35d-df8cd08cfd47",
   "metadata": {},
   "source": [
    "------------"
   ]
  },
  {
   "cell_type": "code",
   "execution_count": null,
   "id": "317281ef-bf3b-4593-828d-8113dfd1f49e",
   "metadata": {},
   "outputs": [],
   "source": []
  }
 ],
 "metadata": {
  "kernelspec": {
   "display_name": "Python 3 (ipykernel)",
   "language": "python",
   "name": "python3"
  },
  "language_info": {
   "codemirror_mode": {
    "name": "ipython",
    "version": 3
   },
   "file_extension": ".py",
   "mimetype": "text/x-python",
   "name": "python",
   "nbconvert_exporter": "python",
   "pygments_lexer": "ipython3",
   "version": "3.12.4"
  }
 },
 "nbformat": 4,
 "nbformat_minor": 5
}
