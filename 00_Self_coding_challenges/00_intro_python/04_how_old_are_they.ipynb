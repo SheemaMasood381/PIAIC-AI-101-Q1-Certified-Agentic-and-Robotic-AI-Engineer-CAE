{
 "cells": [
  {
   "cell_type": "markdown",
   "id": "36295858-3dae-4cb9-b408-0c72eacb569c",
   "metadata": {},
   "source": [
    "## its a program to solve this age-related riddle!\r\n",
    "\r\n",
    "Anton, Beth, Chen, Drew, and Ethan are all friends. Their ages are as follows:\r\n",
    "\r\n",
    "Anton is 21 years old.\r\n",
    "\r\n",
    "Beth is 6 years older than Anton.\r\n",
    "\r\n",
    "Chen is 20 years older than Beth.\r\n",
    "\r\n",
    "Drew is as old as Chen's age plus Anton's age.\r\n",
    "\r\n",
    "Ethan is the same agChenur codse should store each person's age to a variable and print their names and ages at the end. The autograder is sensitive to capitalization and punctuation, be careful! Your solution should look like this (the below numbers de up -- your solution should have the correct values!):"
   ]
  },
  {
   "cell_type": "code",
   "execution_count": 1,
   "id": "b99f42d2-f463-4b88-b7d2-6163701c4a4f",
   "metadata": {},
   "outputs": [
    {
     "name": "stdout",
     "output_type": "stream",
     "text": [
      "Anton is 21\n",
      "Beth is 27\n",
      "Chen is 47\n",
      "Drew is 68\n",
      "Ethan is 47\n"
     ]
    }
   ],
   "source": [
    "def main():\n",
    "    # Anton's age is given as 21 years old\n",
    "    anton = 21\n",
    "    \n",
    "    # Beth is 6 years older than Anton\n",
    "    beth = 6 + anton\n",
    "    \n",
    "    # Chen is 20 years older than Beth\n",
    "    chen = 20 + beth\n",
    "    \n",
    "    # Drew is as old as Chen's age plus Anton's age\n",
    "    drew = chen + anton\n",
    "    \n",
    "    # Ethan is the same age as Chen\n",
    "    ethan = chen\n",
    "\n",
    "    # Print out all of the ages with the correct format\n",
    "    print(\"Anton is \" + str(anton))\n",
    "    print(\"Beth is \" + str(beth))\n",
    "    print(\"Chen is \" + str(chen))\n",
    "    print(\"Drew is \" + str(drew))\n",
    "    print(\"Ethan is \" + str(ethan))\n",
    "\n",
    "\n",
    "# This provided line is required at the end of the Python file to call the main() function.\n",
    "if __name__ == '__main__':\n",
    "    main()"
   ]
  },
  {
   "cell_type": "markdown",
   "id": "40a4e98a-ea2b-4a78-9225-ebd3a40973f1",
   "metadata": {},
   "source": [
    "------"
   ]
  },
  {
   "cell_type": "code",
   "execution_count": null,
   "id": "0858368a-646f-4b99-be04-0cbe218725bb",
   "metadata": {},
   "outputs": [],
   "source": []
  }
 ],
 "metadata": {
  "kernelspec": {
   "display_name": "Python 3 (ipykernel)",
   "language": "python",
   "name": "python3"
  },
  "language_info": {
   "codemirror_mode": {
    "name": "ipython",
    "version": 3
   },
   "file_extension": ".py",
   "mimetype": "text/x-python",
   "name": "python",
   "nbconvert_exporter": "python",
   "pygments_lexer": "ipython3",
   "version": "3.12.4"
  }
 },
 "nbformat": 4,
 "nbformat_minor": 5
}
