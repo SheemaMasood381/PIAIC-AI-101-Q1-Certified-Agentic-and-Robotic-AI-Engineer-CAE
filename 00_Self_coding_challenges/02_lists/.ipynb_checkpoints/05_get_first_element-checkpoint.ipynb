{
 "cells": [
  {
   "cell_type": "markdown",
   "id": "23e59a8f-c89a-4242-b21d-5ff1e80eab56",
   "metadata": {},
   "source": [
    "## Fill out the function get_first_element(lst) which takes in a list lst as a parameter and prints the first element in the list. The list is guaranteed to be non-empty. We've written some code for you which prompts the user to input the list one element at a time."
   ]
  },
  {
   "cell_type": "code",
   "execution_count": 2,
   "id": "5fa44683-b525-4054-86d6-9710cab51913",
   "metadata": {},
   "outputs": [
    {
     "name": "stdin",
     "output_type": "stream",
     "text": [
      "Please enter an element of the list or press enter to stop:  air\n",
      "Please enter an element of the list or press enter to stop:  water\n",
      "Please enter an element of the list or press enter to stop:  fire\n",
      "Please enter an element of the list or press enter to stop:  earth\n",
      "Please enter an element of the list or press enter to stop:  \n"
     ]
    },
    {
     "name": "stdout",
     "output_type": "stream",
     "text": [
      "air\n"
     ]
    }
   ],
   "source": [
    "def get_first_element(lst):\n",
    "    \"\"\"\n",
    "    Prints the first element of a provided list.\n",
    "    \"\"\"\n",
    "    print(lst[0])\n",
    "\n",
    "def get_lst():\n",
    "    \"\"\"\n",
    "    Prompts the user to enter one element of the list at a time and returns the resulting list.\n",
    "    \"\"\"\n",
    "    lst = []\n",
    "    elem = input(\"Please enter an element of the list or press enter to stop: \")\n",
    "    while elem != \"\":\n",
    "        lst.append(elem)\n",
    "        elem = input(\"Please enter an element of the list or press enter to stop: \")\n",
    "    return lst\n",
    "\n",
    "def main():\n",
    "    lst = get_lst()\n",
    "    get_first_element(lst)\n",
    "\n",
    "# This provided line is required at the end of the Python file to call the main() function.\n",
    "if __name__ == '__main__':\n",
    "    main()"
   ]
  },
  {
   "cell_type": "markdown",
   "id": "7a76e230-2ab0-4fda-b586-c47fad635b9a",
   "metadata": {},
   "source": [
    "----------"
   ]
  },
  {
   "cell_type": "code",
   "execution_count": null,
   "id": "06a509d6-1523-4518-8d29-d4d11fc42667",
   "metadata": {},
   "outputs": [],
   "source": []
  }
 ],
 "metadata": {
  "kernelspec": {
   "display_name": "Python 3 (ipykernel)",
   "language": "python",
   "name": "python3"
  },
  "language_info": {
   "codemirror_mode": {
    "name": "ipython",
    "version": 3
   },
   "file_extension": ".py",
   "mimetype": "text/x-python",
   "name": "python",
   "nbconvert_exporter": "python",
   "pygments_lexer": "ipython3",
   "version": "3.12.4"
  }
 },
 "nbformat": 4,
 "nbformat_minor": 5
}
