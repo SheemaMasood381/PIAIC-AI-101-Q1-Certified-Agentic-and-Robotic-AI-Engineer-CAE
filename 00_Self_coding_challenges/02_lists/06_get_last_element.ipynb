{
 "cells": [
  {
   "cell_type": "markdown",
   "id": "74edf3c0-761a-455f-86cd-f44cd1e2c37e",
   "metadata": {},
   "source": [
    "## Fill out the function get_last_element(lst) which takes in a list lst as a parameter and prints the last element in the list. The list is guaranteed to be non-empty, but there are no guarantees on its length."
   ]
  },
  {
   "cell_type": "code",
   "execution_count": 1,
   "id": "a532e742-f048-4fbf-81d3-51f2b4a96e78",
   "metadata": {},
   "outputs": [
    {
     "name": "stdin",
     "output_type": "stream",
     "text": [
      "Please enter an element of the list or press enter to stop:  air\n",
      "Please enter an element of the list or press enter to stop:  water\n",
      "Please enter an element of the list or press enter to stop:  fire\n",
      "Please enter an element of the list or press enter to stop:  earth\n",
      "Please enter an element of the list or press enter to stop:  \n"
     ]
    },
    {
     "name": "stdout",
     "output_type": "stream",
     "text": [
      "earth\n"
     ]
    }
   ],
   "source": [
    "def get_last_element(lst):\n",
    "    \"\"\"\n",
    "    Prints the last element of the provided list.\n",
    "    \"\"\"\n",
    "    # Using negative indexing to access the last element.\n",
    "    print(lst[-1])\n",
    "\n",
    "    # Alternatively, you can use the length of the list:\n",
    "    # print(lst[len(lst) - 1])\n",
    "\n",
    "########## No need to edit code past this point\n",
    "\n",
    "def get_lst():\n",
    "    \"\"\"\n",
    "    Prompts the user to enter one element of the list at a time and returns the resulting list.\n",
    "    \"\"\"\n",
    "    lst = []\n",
    "    elem = input(\"Please enter an element of the list or press enter to stop: \")\n",
    "    while elem != \"\":\n",
    "        lst.append(elem)\n",
    "        elem = input(\"Please enter an element of the list or press enter to stop: \")\n",
    "    return lst\n",
    "\n",
    "def main():\n",
    "    lst = get_lst()\n",
    "    get_last_element(lst)\n",
    "\n",
    "# This provided line is required at the end of the Python file to call the main() function.\n",
    "if __name__ == '__main__':\n",
    "    main()"
   ]
  },
  {
   "cell_type": "markdown",
   "id": "7d8514d8-3b19-4ed0-b1a8-607e5b68af34",
   "metadata": {},
   "source": [
    "--------------"
   ]
  },
  {
   "cell_type": "code",
   "execution_count": null,
   "id": "578525c7-bb78-43d5-88e1-fe190b7467f4",
   "metadata": {},
   "outputs": [],
   "source": []
  }
 ],
 "metadata": {
  "kernelspec": {
   "display_name": "Python 3 (ipykernel)",
   "language": "python",
   "name": "python3"
  },
  "language_info": {
   "codemirror_mode": {
    "name": "ipython",
    "version": 3
   },
   "file_extension": ".py",
   "mimetype": "text/x-python",
   "name": "python",
   "nbconvert_exporter": "python",
   "pygments_lexer": "ipython3",
   "version": "3.12.4"
  }
 },
 "nbformat": 4,
 "nbformat_minor": 5
}
