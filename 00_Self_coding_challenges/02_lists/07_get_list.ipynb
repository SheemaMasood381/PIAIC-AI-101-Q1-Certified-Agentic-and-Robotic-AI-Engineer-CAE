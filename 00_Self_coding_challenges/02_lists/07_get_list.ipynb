{
 "cells": [
  {
   "cell_type": "markdown",
   "id": "ef06fc5d-a8cf-42f2-abd7-afb7075503f2",
   "metadata": {},
   "source": [
    "## Write a program which continuously asks the user to enter values which are added one by one into a list. When the user presses enter without typing anything, print the list.\n"
   ]
  },
  {
   "cell_type": "code",
   "execution_count": 1,
   "id": "26466393-5b46-4866-aea4-eafd67d91538",
   "metadata": {},
   "outputs": [
    {
     "name": "stdin",
     "output_type": "stream",
     "text": [
      "Enter a value:  5\n",
      "Enter a value:  45\n",
      "Enter a value:  4\n",
      "Enter a value:  8\n",
      "Enter a value:  46\n",
      "Enter a value:  \n"
     ]
    },
    {
     "name": "stdout",
     "output_type": "stream",
     "text": [
      "Here's the list: ['5', '45', '4', '8', '46']\n"
     ]
    }
   ],
   "source": [
    "def main():\n",
    "    lst = []  # Make an empty list to store things in\n",
    "\n",
    "    val = input(\"Enter a value: \")  # Get an initial value\n",
    "    while val:  # While the user input isn't an empty value\n",
    "        lst.append(val)  # Add val to list\n",
    "        val = input(\"Enter a value: \")  # Get the next value to add\n",
    "\n",
    "    print(\"Here's the list:\", lst)\n",
    "\n",
    "\n",
    "# This provided line is required at the end of the Python file to call the main() function.\n",
    "if __name__ == '__main__':\n",
    "    main()"
   ]
  },
  {
   "cell_type": "markdown",
   "id": "c36575ae-3d2a-47c8-a38e-8bb9b59deab8",
   "metadata": {},
   "source": [
    "------"
   ]
  },
  {
   "cell_type": "code",
   "execution_count": null,
   "id": "e897347e-3313-4aee-b696-ceda3817b138",
   "metadata": {},
   "outputs": [],
   "source": []
  }
 ],
 "metadata": {
  "kernelspec": {
   "display_name": "Python 3 (ipykernel)",
   "language": "python",
   "name": "python3"
  },
  "language_info": {
   "codemirror_mode": {
    "name": "ipython",
    "version": 3
   },
   "file_extension": ".py",
   "mimetype": "text/x-python",
   "name": "python",
   "nbconvert_exporter": "python",
   "pygments_lexer": "ipython3",
   "version": "3.12.4"
  }
 },
 "nbformat": 4,
 "nbformat_minor": 5
}
