{
 "cells": [
  {
   "cell_type": "markdown",
   "id": "9846458f-b644-4527-b12c-b54b0b00c254",
   "metadata": {},
   "source": [
    "## Write a program which asks the user how tall they are and prints whether or not they're taller than a pre-specified minimum height.\n",
    "\n",
    "In amusement parks (ah, the good old pre-pandemic days...), rollercoasters frequently have minimum height requirements for safety reasons. Assume for now that the minimum height is 50 of whatever height unit you'd like"
   ]
  },
  {
   "cell_type": "code",
   "execution_count": 1,
   "id": "815ec563-fcf2-4edf-b0f0-b31e8ddef3df",
   "metadata": {},
   "outputs": [
    {
     "name": "stdin",
     "output_type": "stream",
     "text": [
      "How tall are you?  52\n"
     ]
    },
    {
     "name": "stdout",
     "output_type": "stream",
     "text": [
      "You're tall enough to ride!\n"
     ]
    },
    {
     "name": "stdin",
     "output_type": "stream",
     "text": [
      "How tall are you?  \n"
     ]
    }
   ],
   "source": [
    "MINIMUM_HEIGHT = 50  # arbitrary units :)\n",
    "\n",
    "def main():\n",
    "    while True:\n",
    "        height_input = input(\"How tall are you? \")\n",
    "        if height_input == \"\":\n",
    "            break\n",
    "        \n",
    "        height = float(height_input)\n",
    "        if height >= MINIMUM_HEIGHT:\n",
    "            print(\"You're tall enough to ride!\")\n",
    "        else:\n",
    "            print(\"You're not tall enough to ride, but maybe next year!\")\n",
    "\n",
    "# This provided line is required at the end of the Python file to call the main() function.\n",
    "if __name__ == '__main__':\n",
    "    main()"
   ]
  },
  {
   "cell_type": "markdown",
   "id": "d20ad640-61a0-48b0-9e72-5a2b9d13e2b1",
   "metadata": {},
   "source": [
    "---------"
   ]
  },
  {
   "cell_type": "code",
   "execution_count": null,
   "id": "f0877703-154e-4bfc-a739-9ba5eac601a2",
   "metadata": {},
   "outputs": [],
   "source": []
  }
 ],
 "metadata": {
  "kernelspec": {
   "display_name": "Python 3 (ipykernel)",
   "language": "python",
   "name": "python3"
  },
  "language_info": {
   "codemirror_mode": {
    "name": "ipython",
    "version": 3
   },
   "file_extension": ".py",
   "mimetype": "text/x-python",
   "name": "python",
   "nbconvert_exporter": "python",
   "pygments_lexer": "ipython3",
   "version": "3.12.4"
  }
 },
 "nbformat": 4,
 "nbformat_minor": 5
}
