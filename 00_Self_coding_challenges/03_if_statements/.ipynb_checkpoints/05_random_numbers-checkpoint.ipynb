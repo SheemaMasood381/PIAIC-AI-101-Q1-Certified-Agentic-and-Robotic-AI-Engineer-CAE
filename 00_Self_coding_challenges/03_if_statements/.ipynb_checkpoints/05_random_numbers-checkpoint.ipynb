{
 "cells": [
  {
   "cell_type": "markdown",
   "id": "809432d7-4252-4024-b744-919c0aed6828",
   "metadata": {},
   "source": [
    "## Print 10 random numbers in the range 1 to 100."
   ]
  },
  {
   "cell_type": "code",
   "execution_count": 1,
   "id": "2e24e7be-893b-490d-80d1-15ceefcd3eba",
   "metadata": {},
   "outputs": [
    {
     "name": "stdout",
     "output_type": "stream",
     "text": [
      "89 70 37 71 47 54 29 23 81 100 \n"
     ]
    }
   ],
   "source": [
    "import random\n",
    "\n",
    "N_NUMBERS = 10  # Number of random numbers to generate\n",
    "MIN_VALUE = 1   # Minimum value of the random number\n",
    "MAX_VALUE = 100 # Maximum value of the random number\n",
    "\n",
    "def main():\n",
    "    # Generate and print 10 random numbers in the range 1 to 100\n",
    "    for _ in range(N_NUMBERS):\n",
    "        print(random.randint(MIN_VALUE, MAX_VALUE), end=' ')\n",
    "    print()  # Print a newline at the end\n",
    "\n",
    "# This provided line is required at the end of the Python file to call the main() function.\n",
    "if __name__ == '__main__':\n",
    "    main()"
   ]
  },
  {
   "cell_type": "markdown",
   "id": "2a2da717-0282-4be8-afa4-e03946265b07",
   "metadata": {},
   "source": [
    "---------"
   ]
  },
  {
   "cell_type": "code",
   "execution_count": null,
   "id": "a7ce57a2-bcdd-480a-a6d4-2b4b6e2b206f",
   "metadata": {},
   "outputs": [],
   "source": []
  }
 ],
 "metadata": {
  "kernelspec": {
   "display_name": "Python 3 (ipykernel)",
   "language": "python",
   "name": "python3"
  },
  "language_info": {
   "codemirror_mode": {
    "name": "ipython",
    "version": 3
   },
   "file_extension": ".py",
   "mimetype": "text/x-python",
   "name": "python",
   "nbconvert_exporter": "python",
   "pygments_lexer": "ipython3",
   "version": "3.12.4"
  }
 },
 "nbformat": 4,
 "nbformat_minor": 5
}
