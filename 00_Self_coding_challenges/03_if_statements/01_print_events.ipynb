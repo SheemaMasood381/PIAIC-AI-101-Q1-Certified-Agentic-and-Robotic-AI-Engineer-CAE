{
 "cells": [
  {
   "cell_type": "markdown",
   "id": "4789e26d-43f6-4468-978c-368db5408191",
   "metadata": {},
   "source": [
    "## Write a program that prints the first 20 even numbers. There are several correct approaches, but they all use a loop of some sort. Do no write twenty print statements\n"
   ]
  },
  {
   "cell_type": "code",
   "execution_count": 3,
   "id": "9bf407f4-ce7a-400d-95a0-fca479f23502",
   "metadata": {},
   "outputs": [
    {
     "name": "stdin",
     "output_type": "stream",
     "text": [
      "Enter the starting value for the range:  51\n",
      "Enter the ending value for the range:  100\n"
     ]
    },
    {
     "name": "stdout",
     "output_type": "stream",
     "text": [
      "The first 20 even numbers in the range are: [52, 54, 56, 58, 60, 62, 64, 66, 68, 70, 72, 74, 76, 78, 80, 82, 84, 86, 88, 90]\n"
     ]
    }
   ],
   "source": [
    "def main():\n",
    "    # Ask the user for the starting and ending range values\n",
    "    start = int(input(\"Enter the starting value for the range: \"))\n",
    "    end = int(input(\"Enter the ending value for the range: \"))\n",
    "    \n",
    "    # Generate and print the first 20 even numbers within the specified range\n",
    "    even_numbers = []\n",
    "    for i in range(start, end + 1):\n",
    "        if i % 2 == 0:\n",
    "            even_numbers.append(i)\n",
    "        if len(even_numbers) == 20:\n",
    "            break\n",
    "\n",
    "    if len(even_numbers) < 20:\n",
    "        print(\"There are less than 20 even numbers in the specified range.\")\n",
    "    else:\n",
    "        print(\"The first 20 even numbers in the range are:\", even_numbers)\n",
    "\n",
    "# Call the main function when the script is run\n",
    "if __name__ == '__main__':\n",
    "    main()"
   ]
  },
  {
   "cell_type": "markdown",
   "id": "644c73bf-1e81-4e3b-a4f8-b805101243f4",
   "metadata": {},
   "source": [
    "-----------"
   ]
  },
  {
   "cell_type": "code",
   "execution_count": null,
   "id": "db8c097b-c256-43c2-87bc-9977adce5a13",
   "metadata": {},
   "outputs": [],
   "source": []
  }
 ],
 "metadata": {
  "kernelspec": {
   "display_name": "Python 3 (ipykernel)",
   "language": "python",
   "name": "python3"
  },
  "language_info": {
   "codemirror_mode": {
    "name": "ipython",
    "version": 3
   },
   "file_extension": ".py",
   "mimetype": "text/x-python",
   "name": "python",
   "nbconvert_exporter": "python",
   "pygments_lexer": "ipython3",
   "version": "3.12.4"
  }
 },
 "nbformat": 4,
 "nbformat_minor": 5
}
