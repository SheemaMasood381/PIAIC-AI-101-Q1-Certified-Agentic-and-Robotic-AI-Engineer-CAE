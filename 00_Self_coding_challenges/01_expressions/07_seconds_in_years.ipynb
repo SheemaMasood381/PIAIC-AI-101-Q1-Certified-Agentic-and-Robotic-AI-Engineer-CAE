{
 "cells": [
  {
   "cell_type": "markdown",
   "id": "1b733ffb-caa5-4a1a-a3d7-bc12053562ff",
   "metadata": {},
   "source": [
    "## Use Python to calculate the number of seconds in a year, and tell the user what the result is in a nice print statement that looks like this (of course the value 5 should be the calculated number instead):\n",
    "\n",
    "There are 5 seconds in a year!"
   ]
  },
  {
   "cell_type": "code",
   "execution_count": 2,
   "id": "d7690eaf-04e9-4700-902d-44bcb24a08a7",
   "metadata": {},
   "outputs": [
    {
     "name": "stdout",
     "output_type": "stream",
     "text": [
      "There are 31536000 seconds in a year!\n"
     ]
    }
   ],
   "source": [
    "# Useful constants to help make the math easier and cleaner!\n",
    "DAYS_PER_YEAR = 365\n",
    "HOURS_PER_DAY = 24\n",
    "MIN_PER_HOUR = 60\n",
    "SEC_PER_MIN = 60\n",
    "\n",
    "def main():\n",
    "    # Calculate the number of seconds in a year\n",
    "    seconds_in_year = DAYS_PER_YEAR * HOURS_PER_DAY * MIN_PER_HOUR * SEC_PER_MIN\n",
    "    \n",
    "    # Print the result in a formatted statement\n",
    "    print(f\"There are {seconds_in_year} seconds in a year!\")\n",
    "\n",
    "# This provided line is required at the end of the Python file to call the main() function.\n",
    "if __name__ == '__main__':\n",
    "    main()"
   ]
  },
  {
   "cell_type": "markdown",
   "id": "f602a392-ea8f-4632-b772-75906208c20d",
   "metadata": {},
   "source": [
    "-------"
   ]
  },
  {
   "cell_type": "code",
   "execution_count": null,
   "id": "2734fef4-875d-4211-9116-f9996019c1bc",
   "metadata": {},
   "outputs": [],
   "source": []
  }
 ],
 "metadata": {
  "kernelspec": {
   "display_name": "Python 3 (ipykernel)",
   "language": "python",
   "name": "python3"
  },
  "language_info": {
   "codemirror_mode": {
    "name": "ipython",
    "version": 3
   },
   "file_extension": ".py",
   "mimetype": "text/x-python",
   "name": "python",
   "nbconvert_exporter": "python",
   "pygments_lexer": "ipython3",
   "version": "3.12.4"
  }
 },
 "nbformat": 4,
 "nbformat_minor": 5
}
