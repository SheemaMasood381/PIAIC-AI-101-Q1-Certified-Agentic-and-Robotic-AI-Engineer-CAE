{
 "cells": [
  {
   "cell_type": "markdown",
   "id": "c9ddfc1a-d210-473a-8df4-2afa883cad16",
   "metadata": {},
   "source": [
    "## Fill out the function count_even(lst)\n",
    "which\n",
    "\n",
    "first populates a list by prompting the user for integers until they press enter (please use the prompt \"Enter an integer or press enter to stop: \"),\n",
    "\n",
    "and then prints the number of even numbers in the list."
   ]
  },
  {
   "cell_type": "code",
   "execution_count": 2,
   "id": "82981a99-c258-44ab-bfe3-b224b330eeca",
   "metadata": {},
   "outputs": [
    {
     "name": "stdin",
     "output_type": "stream",
     "text": [
      "Enter an integer or press enter to stop:  2\n",
      "Enter an integer or press enter to stop:  5\n",
      "Enter an integer or press enter to stop:  3\n",
      "Enter an integer or press enter to stop:  6\n",
      "Enter an integer or press enter to stop:  6\n",
      "Enter an integer or press enter to stop:  9\n",
      "Enter an integer or press enter to stop:  \n"
     ]
    },
    {
     "name": "stdout",
     "output_type": "stream",
     "text": [
      "3\n"
     ]
    }
   ],
   "source": [
    "def count_even(lst):\n",
    "    \"\"\"\n",
    "    Returns number of even numbers in list.\n",
    "    >>> count_even([1,2,3,4])\n",
    "    2\n",
    "    >>> count_even([1,3,5,7])\n",
    "    0\n",
    "    \"\"\"\n",
    "    count = 0  # Stores the count of even numbers in the list\n",
    "    for num in lst:  # Loop through the numbers in the list\n",
    "        if num % 2 == 0:  # If the current number in the list is even (divisible by 2)\n",
    "            count += 1  # Add one to our count!\n",
    "\n",
    "    print(count)  # Print out how many even numbers we counted above\n",
    "\n",
    "def get_list_of_ints():\n",
    "    \"\"\"\n",
    "    Reads in integers until the user presses enter and returns the resulting list.\n",
    "    \"\"\"\n",
    "    lst = []  # Make an empty list to store integers\n",
    "    user_input = input(\"Enter an integer or press enter to stop: \")  # Get user input for an integer\n",
    "    while user_input != \"\":  # While the user doesn't enter nothing...\n",
    "        lst.append(int(user_input))  # Cast the user input into an integer and add it to our list\n",
    "        user_input = input(\"Enter an integer or press enter to stop: \")  # Get the next user input\n",
    "\n",
    "    return lst\n",
    "\n",
    "def main():\n",
    "    lst = get_list_of_ints()\n",
    "    count_even(lst)\n",
    "\n",
    "# This provided line is required at the end of the Python file to call the main() function.\n",
    "if __name__ == '__main__':\n",
    "    main()"
   ]
  },
  {
   "cell_type": "markdown",
   "id": "d4798fbb-8908-47ff-885d-448de43d8dcd",
   "metadata": {},
   "source": [
    "-----------"
   ]
  },
  {
   "cell_type": "code",
   "execution_count": null,
   "id": "74d71043-e6ae-4bec-bebc-6e5003966b9c",
   "metadata": {},
   "outputs": [],
   "source": []
  }
 ],
 "metadata": {
  "kernelspec": {
   "display_name": "Python 3 (ipykernel)",
   "language": "python",
   "name": "python3"
  },
  "language_info": {
   "codemirror_mode": {
    "name": "ipython",
    "version": 3
   },
   "file_extension": ".py",
   "mimetype": "text/x-python",
   "name": "python",
   "nbconvert_exporter": "python",
   "pygments_lexer": "ipython3",
   "version": "3.12.4"
  }
 },
 "nbformat": 4,
 "nbformat_minor": 5
}
