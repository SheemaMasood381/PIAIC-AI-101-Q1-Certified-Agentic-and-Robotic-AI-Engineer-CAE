{
 "cells": [
  {
   "cell_type": "markdown",
   "id": "a062df6c-d8ab-40a5-a1b4-1eef96c0aae1",
   "metadata": {},
   "source": [
    "## Write the helper function print_divisors(num), which takes in a number and prints all of its divisors (all the numbers from 1 to num inclusive that num can be cleanly divided by (there is no remainder to the division). Don't forget to call your function in main()!\n",
    "\n"
   ]
  },
  {
   "cell_type": "code",
   "execution_count": 1,
   "id": "bf5f5bdd-68bc-4466-832d-d670778dee08",
   "metadata": {},
   "outputs": [
    {
     "name": "stdin",
     "output_type": "stream",
     "text": [
      "Enter a number:  20\n"
     ]
    },
    {
     "name": "stdout",
     "output_type": "stream",
     "text": [
      "Here are the divisors of 20\n",
      "1\n",
      "2\n",
      "4\n",
      "5\n",
      "10\n",
      "20\n"
     ]
    }
   ],
   "source": [
    "def print_divisors(num: int):\n",
    "    \"\"\"\n",
    "    Prints all divisors of the given number.\n",
    "    \"\"\"\n",
    "    print(\"Here are the divisors of\", num)\n",
    "    for i in range(1, num + 1):\n",
    "        if num % i == 0:\n",
    "            print(i)\n",
    "\n",
    "def main():\n",
    "    # Prompt the user to enter a number\n",
    "    num = int(input(\"Enter a number: \"))\n",
    "    # Call the function to print the divisors of the entered number\n",
    "    print_divisors(num)\n",
    "\n",
    "# This provided line is required at the end of the Python file to call the main() function.\n",
    "if __name__ == '__main__':\n",
    "    main()"
   ]
  },
  {
   "cell_type": "markdown",
   "id": "8091f8ae-83c4-478f-bb47-20452b33a524",
   "metadata": {},
   "source": [
    "-------"
   ]
  },
  {
   "cell_type": "code",
   "execution_count": null,
   "id": "83ae0a4d-a0dd-442c-ae89-3e483cf3115e",
   "metadata": {},
   "outputs": [],
   "source": []
  }
 ],
 "metadata": {
  "kernelspec": {
   "display_name": "Python 3 (ipykernel)",
   "language": "python",
   "name": "python3"
  },
  "language_info": {
   "codemirror_mode": {
    "name": "ipython",
    "version": 3
   },
   "file_extension": ".py",
   "mimetype": "text/x-python",
   "name": "python",
   "nbconvert_exporter": "python",
   "pygments_lexer": "ipython3",
   "version": "3.12.4"
  }
 },
 "nbformat": 4,
 "nbformat_minor": 5
}
