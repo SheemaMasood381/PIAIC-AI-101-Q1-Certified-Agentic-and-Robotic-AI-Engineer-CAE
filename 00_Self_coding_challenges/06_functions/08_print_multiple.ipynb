{
 "cells": [
  {
   "cell_type": "markdown",
   "id": "87106528-0682-411f-a19b-58163ae5e669",
   "metadata": {},
   "source": [
    "## Fill out print_multiple(message, repeats), which takes as parameters a string message to print, and an integer repeats number of times to print message. We've written the main() function for you, which prompts the user for a message and a number of repeats."
   ]
  },
  {
   "cell_type": "code",
   "execution_count": 1,
   "id": "c817f750-b8e4-46b9-84d8-8a0270545323",
   "metadata": {},
   "outputs": [
    {
     "name": "stdin",
     "output_type": "stream",
     "text": [
      "Please type a message:  Good Day!\n",
      "Enter a number of times to repeat your message:  15\n"
     ]
    },
    {
     "name": "stdout",
     "output_type": "stream",
     "text": [
      "Good Day!\n",
      "Good Day!\n",
      "Good Day!\n",
      "Good Day!\n",
      "Good Day!\n",
      "Good Day!\n",
      "Good Day!\n",
      "Good Day!\n",
      "Good Day!\n",
      "Good Day!\n",
      "Good Day!\n",
      "Good Day!\n",
      "Good Day!\n",
      "Good Day!\n",
      "Good Day!\n"
     ]
    }
   ],
   "source": [
    "def print_multiple(message: str, repeats: int):\n",
    "    \"\"\"\n",
    "    Prints the provided message a specified number of times.\n",
    "    \"\"\"\n",
    "    for i in range(repeats):\n",
    "        print(message)\n",
    "\n",
    "def main():\n",
    "    # Prompt the user to enter a message\n",
    "    message = input(\"Please type a message: \")\n",
    "    # Prompt the user to enter the number of times to repeat the message\n",
    "    repeats = int(input(\"Enter a number of times to repeat your message: \"))\n",
    "    # Call the function to print the message multiple times\n",
    "    print_multiple(message, repeats)\n",
    "\n",
    "# This provided line is required at the end of the Python file to call the main() function.\n",
    "if __name__ == '__main__':\n",
    "    main()"
   ]
  },
  {
   "cell_type": "markdown",
   "id": "8cded505-be58-4ced-b22a-beaeac59d7ff",
   "metadata": {},
   "source": [
    "-------------"
   ]
  },
  {
   "cell_type": "code",
   "execution_count": null,
   "id": "ce2d924f-a0bd-4809-8243-c49877c5f6a5",
   "metadata": {},
   "outputs": [],
   "source": []
  }
 ],
 "metadata": {
  "kernelspec": {
   "display_name": "Python 3 (ipykernel)",
   "language": "python",
   "name": "python3"
  },
  "language_info": {
   "codemirror_mode": {
    "name": "ipython",
    "version": 3
   },
   "file_extension": ".py",
   "mimetype": "text/x-python",
   "name": "python",
   "nbconvert_exporter": "python",
   "pygments_lexer": "ipython3",
   "version": "3.12.4"
  }
 },
 "nbformat": 4,
 "nbformat_minor": 5
}
