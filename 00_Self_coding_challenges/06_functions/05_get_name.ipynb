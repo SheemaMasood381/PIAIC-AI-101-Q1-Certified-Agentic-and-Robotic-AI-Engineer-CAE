{
 "cells": [
  {
   "cell_type": "markdown",
   "id": "c11095e4-34fc-4a8e-9d19-673702edc683",
   "metadata": {},
   "source": [
    "## Fill out the get_name() function to return your name as a string! We've written a main() function for you which calls your function to retrieve your name and then prints it in a greeting."
   ]
  },
  {
   "cell_type": "code",
   "execution_count": 3,
   "id": "586db901-6a94-4f3a-8643-63bc62464ee3",
   "metadata": {},
   "outputs": [
    {
     "name": "stdin",
     "output_type": "stream",
     "text": [
      "Enter your name:  Sheema\n"
     ]
    },
    {
     "name": "stdout",
     "output_type": "stream",
     "text": [
      "Howdy Sheema ! 🤠\n"
     ]
    }
   ],
   "source": [
    "def get_name() -> str:\n",
    "    # Prompt the user to enter their name\n",
    "    name = input(\"Enter your name: \")\n",
    "    return name\n",
    "\n",
    "def main():\n",
    "    name = get_name()  # get_name() will prompt the user for their name and return it\n",
    "    print(\"Howdy\", name, \"! 🤠\")  # Printing the greeting with the name\n",
    "\n",
    "# This provided line is required at the end of the Python file to call the main() function.\n",
    "if __name__ == '__main__':\n",
    "    main()"
   ]
  },
  {
   "cell_type": "markdown",
   "id": "c5053147-d843-46b5-b6ca-79d0926b84d2",
   "metadata": {},
   "source": [
    "------------"
   ]
  },
  {
   "cell_type": "code",
   "execution_count": null,
   "id": "6b19e403-4815-447e-9776-c55f086ba691",
   "metadata": {},
   "outputs": [],
   "source": []
  }
 ],
 "metadata": {
  "kernelspec": {
   "display_name": "Python 3 (ipykernel)",
   "language": "python",
   "name": "python3"
  },
  "language_info": {
   "codemirror_mode": {
    "name": "ipython",
    "version": 3
   },
   "file_extension": ".py",
   "mimetype": "text/x-python",
   "name": "python",
   "nbconvert_exporter": "python",
   "pygments_lexer": "ipython3",
   "version": "3.12.4"
  }
 },
 "nbformat": 4,
 "nbformat_minor": 5
}
