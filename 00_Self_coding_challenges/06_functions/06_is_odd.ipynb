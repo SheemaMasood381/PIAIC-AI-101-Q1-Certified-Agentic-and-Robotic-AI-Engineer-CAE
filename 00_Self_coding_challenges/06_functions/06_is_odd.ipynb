{
 "cells": [
  {
   "cell_type": "markdown",
   "id": "a6cc2199-2a9e-4fe8-b39a-0313e64d1bac",
   "metadata": {},
   "source": [
    "# 10 even 11 odd 12 even 13 odd 14 even 15 odd 16 even 17 odd 18 even 19 odd"
   ]
  },
  {
   "cell_type": "code",
   "execution_count": 4,
   "id": "0a2983a9-b741-4a45-8550-48d8a4d27816",
   "metadata": {},
   "outputs": [
    {
     "name": "stdin",
     "output_type": "stream",
     "text": [
      "Enter a number:  12\n"
     ]
    },
    {
     "name": "stdout",
     "output_type": "stream",
     "text": [
      "False\n"
     ]
    }
   ],
   "source": [
    "def is_odd(value: int) -> bool:\n",
    "    \"\"\"\n",
    "    Checks whether the given value is odd.\n",
    "    Returns True if the value is odd, False if it is even.\n",
    "    \"\"\"\n",
    "    return value % 2 != 0\n",
    "\n",
    "def main():\n",
    "    # Prompt the user to enter a number\n",
    "    num = int(input(\"Enter a number: \"))\n",
    "    # Check if the number is odd or even\n",
    "    result = is_odd(num)\n",
    "    # Print the result\n",
    "    print(result)\n",
    "\n",
    "# This provided line is required at the end of the Python file to call the main() function.\n",
    "if __name__ == '__main__':\n",
    "    main()"
   ]
  },
  {
   "cell_type": "code",
   "execution_count": 5,
   "id": "168d037b-20f9-4c83-a1f7-93c7c84aeeff",
   "metadata": {},
   "outputs": [
    {
     "name": "stdin",
     "output_type": "stream",
     "text": [
      "Enter a number:  13\n"
     ]
    },
    {
     "name": "stdout",
     "output_type": "stream",
     "text": [
      "True\n"
     ]
    }
   ],
   "source": [
    "if __name__ == '__main__':\n",
    "    main()\n"
   ]
  },
  {
   "cell_type": "markdown",
   "id": "b9e62a37-38a9-47f5-b906-8aae67cf3e92",
   "metadata": {},
   "source": [
    "--------------"
   ]
  },
  {
   "cell_type": "code",
   "execution_count": null,
   "id": "39d9fa08-0829-4d2e-9976-4065a3ae3de5",
   "metadata": {},
   "outputs": [],
   "source": []
  }
 ],
 "metadata": {
  "kernelspec": {
   "display_name": "Python 3 (ipykernel)",
   "language": "python",
   "name": "python3"
  },
  "language_info": {
   "codemirror_mode": {
    "name": "ipython",
    "version": 3
   },
   "file_extension": ".py",
   "mimetype": "text/x-python",
   "name": "python",
   "nbconvert_exporter": "python",
   "pygments_lexer": "ipython3",
   "version": "3.12.4"
  }
 },
 "nbformat": 4,
 "nbformat_minor": 5
}
