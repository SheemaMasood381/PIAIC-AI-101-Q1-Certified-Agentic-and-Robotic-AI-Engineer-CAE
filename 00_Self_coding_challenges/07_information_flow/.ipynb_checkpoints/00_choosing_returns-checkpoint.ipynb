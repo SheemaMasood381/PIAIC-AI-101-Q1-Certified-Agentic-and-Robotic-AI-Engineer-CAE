{
 "cells": [
  {
   "cell_type": "markdown",
   "id": "3e0a6883-0321-49bf-8066-b64dae9d47c2",
   "metadata": {},
   "source": [
    "## There are times where we want to return different things from a function based on some condition. To practice this idea, imagine that we want to check if someone is an adult. We might check their age and return different things depending on how old they are!\n",
    "\n",
    "We've provided you with the ADULT_AGE variable which has the age a person is legally classified as an adult (in the United States). Fill out the is_adult(age) function, which returns True if the function takes an age that is greater than or equal to ADULT_AGE. If the function takes an age less than ADULT_AGE, return False instead."
   ]
  },
  {
   "cell_type": "code",
   "execution_count": 1,
   "id": "7d53d8d5-9af9-4edf-8070-30f972782364",
   "metadata": {},
   "outputs": [
    {
     "name": "stdin",
     "output_type": "stream",
     "text": [
      "How old is this person?:  30\n"
     ]
    },
    {
     "name": "stdout",
     "output_type": "stream",
     "text": [
      "True\n"
     ]
    }
   ],
   "source": [
    "ADULT_AGE: int = 18  # U.S. age of legal adulthood\n",
    "\n",
    "def is_adult(age: int) -> bool:\n",
    "    \"\"\"\n",
    "    Returns True if the age is greater than or equal to ADULT_AGE, otherwise returns False.\n",
    "    \"\"\"\n",
    "    return age >= ADULT_AGE\n",
    "\n",
    "def main():\n",
    "    # Prompt the user to enter an age\n",
    "    age = int(input(\"How old is this person?: \"))\n",
    "    # Call the function to check if the person is an adult and print the result\n",
    "    print(is_adult(age))\n",
    "\n",
    "# This provided line is required at the end of the Python file to call the main() function.\n",
    "if __name__ == '__main__':\n",
    "    main()"
   ]
  },
  {
   "cell_type": "markdown",
   "id": "5719a938-f642-4bc8-b1aa-a7bf5275ce4b",
   "metadata": {},
   "source": [
    "------------"
   ]
  },
  {
   "cell_type": "code",
   "execution_count": null,
   "id": "790fa493-e081-44c1-9007-c5dfbf2f5cb1",
   "metadata": {},
   "outputs": [],
   "source": []
  }
 ],
 "metadata": {
  "kernelspec": {
   "display_name": "Python 3 (ipykernel)",
   "language": "python",
   "name": "python3"
  },
  "language_info": {
   "codemirror_mode": {
    "name": "ipython",
    "version": 3
   },
   "file_extension": ".py",
   "mimetype": "text/x-python",
   "name": "python",
   "nbconvert_exporter": "python",
   "pygments_lexer": "ipython3",
   "version": "3.12.4"
  }
 },
 "nbformat": 4,
 "nbformat_minor": 5
}
