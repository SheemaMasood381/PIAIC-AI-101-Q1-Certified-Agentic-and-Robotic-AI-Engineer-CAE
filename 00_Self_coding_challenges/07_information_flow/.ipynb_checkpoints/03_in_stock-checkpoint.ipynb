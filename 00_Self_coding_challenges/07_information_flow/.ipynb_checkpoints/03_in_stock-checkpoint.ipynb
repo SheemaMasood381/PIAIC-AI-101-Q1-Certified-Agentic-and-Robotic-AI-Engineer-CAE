{
 "cells": [
  {
   "cell_type": "markdown",
   "id": "bb742380-92a1-4809-9242-8cf9018960bd",
   "metadata": {},
   "source": [
    "## Sophia has a fruit store. She has written a function num_in_stock which takes a string fruit as a parameter and returns how many of that fruit are in her inventory. Write code in main() which will:\n",
    "\n",
    "Prompt the user to enter a fruit (\"Enter a fruit: \")\n",
    "\n",
    "Call num_in_stock(fruit) to get the number of that fruit that Sophia has in stock\n",
    "\n",
    "Print the number which are in stock if Sophia has that fruit in her inventory (there are more than 0 in stock)\n",
    "\n",
    "Print \"This fruit is not in stock.\" if Sophia has none of that fruit in her inventory."
   ]
  },
  {
   "cell_type": "code",
   "execution_count": 1,
   "id": "f21bd114-99a2-4ced-a0c6-34d1a62aa8d8",
   "metadata": {},
   "outputs": [
    {
     "name": "stdin",
     "output_type": "stream",
     "text": [
      "Enter a fruit:  apple\n"
     ]
    },
    {
     "name": "stdout",
     "output_type": "stream",
     "text": [
      "This fruit is in stock! Here is how many:\n",
      "2\n"
     ]
    }
   ],
   "source": [
    "def num_in_stock(fruit: str) -> int:\n",
    "    \"\"\"\n",
    "    This function returns the number of the specified fruit Sophia has in stock.\n",
    "    \"\"\"\n",
    "    inventory = {\n",
    "        'apple': 2,\n",
    "        'durian': 4,\n",
    "        'pear': 1000\n",
    "    }\n",
    "    return inventory.get(fruit, 0)\n",
    "\n",
    "def main():\n",
    "    # Prompt the user to enter a fruit\n",
    "    fruit = input(\"Enter a fruit: \")\n",
    "    # Call num_in_stock to get the number of that fruit in stock\n",
    "    stock = num_in_stock(fruit)\n",
    "    # Check if the fruit is in stock and print the appropriate message\n",
    "    if stock == 0:\n",
    "        print(\"This fruit is not in stock.\")\n",
    "    else:\n",
    "        print(\"This fruit is in stock! Here is how many:\")\n",
    "        print(stock)\n",
    "\n",
    "# This provided line is required at the end of the Python file to call the main() function.\n",
    "if __name__ == '__main__':\n",
    "    main()"
   ]
  },
  {
   "cell_type": "code",
   "execution_count": 2,
   "id": "b963f6ee-12f1-4258-a8eb-c02a0f412d98",
   "metadata": {},
   "outputs": [
    {
     "name": "stdin",
     "output_type": "stream",
     "text": [
      "Enter a fruit:  kiwi\n"
     ]
    },
    {
     "name": "stdout",
     "output_type": "stream",
     "text": [
      "This fruit is not in stock.\n"
     ]
    }
   ],
   "source": [
    "if __name__ == '__main__':\n",
    "    main()"
   ]
  },
  {
   "cell_type": "markdown",
   "id": "13df9017-989d-425e-84a6-8082eff8abb7",
   "metadata": {},
   "source": [
    "------"
   ]
  },
  {
   "cell_type": "code",
   "execution_count": null,
   "id": "b27c921f-0ec9-49f6-9e86-52d24ab10030",
   "metadata": {},
   "outputs": [],
   "source": []
  }
 ],
 "metadata": {
  "kernelspec": {
   "display_name": "Python 3 (ipykernel)",
   "language": "python",
   "name": "python3"
  },
  "language_info": {
   "codemirror_mode": {
    "name": "ipython",
    "version": 3
   },
   "file_extension": ".py",
   "mimetype": "text/x-python",
   "name": "python",
   "nbconvert_exporter": "python",
   "pygments_lexer": "ipython3",
   "version": "3.12.4"
  }
 },
 "nbformat": 4,
 "nbformat_minor": 5
}
