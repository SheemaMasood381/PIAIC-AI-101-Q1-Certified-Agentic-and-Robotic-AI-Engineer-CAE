{
 "cells": [
  {
   "cell_type": "markdown",
   "id": "720eb6ff-e4f2-49e0-aab6-7c03b14b6994",
   "metadata": {},
   "source": [
    "## We've written a helper function for you called greet(name) which takes as input a string name and prints a greeting. Write some code in main() to get the user's name and then greet them, being sure to call the greet(name) helper function."
   ]
  },
  {
   "cell_type": "code",
   "execution_count": 1,
   "id": "9d338d0a-7832-4d9b-bc05-2fd3618c2c81",
   "metadata": {},
   "outputs": [
    {
     "name": "stdin",
     "output_type": "stream",
     "text": [
      "What's your name?  Sheema \n"
     ]
    },
    {
     "name": "stdout",
     "output_type": "stream",
     "text": [
      "Greetings Sheema !\n"
     ]
    }
   ],
   "source": [
    "def greet(name: str) -> None:\n",
    "    \"\"\"\n",
    "    Prints a greeting message with the given name.\n",
    "    \"\"\"\n",
    "    print(f\"Greetings {name}!\")\n",
    "\n",
    "def main():\n",
    "    # Prompt the user to enter their name\n",
    "    name = input(\"What's your name? \")\n",
    "    # Call the greet function to print the greeting message\n",
    "    greet(name)\n",
    "\n",
    "# This provided line is required at the end of the Python file to call the main() function.\n",
    "if __name__ == '__main__':\n",
    "    main()"
   ]
  },
  {
   "cell_type": "markdown",
   "id": "8c82b160-10d6-4505-a7f1-078198a6a9d9",
   "metadata": {},
   "source": [
    "----------"
   ]
  },
  {
   "cell_type": "code",
   "execution_count": null,
   "id": "14243a67-48ba-437e-a346-594bf9896279",
   "metadata": {},
   "outputs": [],
   "source": []
  }
 ],
 "metadata": {
  "kernelspec": {
   "display_name": "Python 3 (ipykernel)",
   "language": "python",
   "name": "python3"
  },
  "language_info": {
   "codemirror_mode": {
    "name": "ipython",
    "version": 3
   },
   "file_extension": ".py",
   "mimetype": "text/x-python",
   "name": "python",
   "nbconvert_exporter": "python",
   "pygments_lexer": "ipython3",
   "version": "3.12.4"
  }
 },
 "nbformat": 4,
 "nbformat_minor": 5
}
