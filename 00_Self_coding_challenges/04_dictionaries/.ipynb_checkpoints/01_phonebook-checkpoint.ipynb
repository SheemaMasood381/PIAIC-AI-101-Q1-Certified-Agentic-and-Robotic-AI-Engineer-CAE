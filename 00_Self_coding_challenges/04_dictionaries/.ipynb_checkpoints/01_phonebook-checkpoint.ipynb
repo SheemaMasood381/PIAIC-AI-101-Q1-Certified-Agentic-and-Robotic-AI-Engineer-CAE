{
 "cells": [
  {
   "cell_type": "markdown",
   "id": "6c25bfb1-ddf0-471b-afa8-f9f319c20a02",
   "metadata": {},
   "source": [
    "## In this program we show an example of using dictionaries to keep track of information in a phonebook."
   ]
  },
  {
   "cell_type": "code",
   "execution_count": 1,
   "id": "bdf6df7e-f926-42bf-b854-39bebafe995e",
   "metadata": {},
   "outputs": [
    {
     "name": "stdin",
     "output_type": "stream",
     "text": [
      "Name:  sarah\n",
      "Number:  02154876\n",
      "Name:  alisha\n",
      "Number:  562164\n",
      "Name:  nida\n",
      "Number:  1545463\n",
      "Name:  \n"
     ]
    },
    {
     "name": "stdout",
     "output_type": "stream",
     "text": [
      "\n",
      "Phonebook:\n",
      "sarah -> 02154876\n",
      "alisha -> 562164\n",
      "nida -> 1545463\n",
      "\n",
      "Lookup numbers:\n"
     ]
    },
    {
     "name": "stdin",
     "output_type": "stream",
     "text": [
      "Enter name to lookup:  alisha\n"
     ]
    },
    {
     "name": "stdout",
     "output_type": "stream",
     "text": [
      "alisha's number is 562164\n"
     ]
    },
    {
     "name": "stdin",
     "output_type": "stream",
     "text": [
      "Enter name to lookup:  \n"
     ]
    }
   ],
   "source": [
    "def read_phone_numbers():\n",
    "    \"\"\"\n",
    "    Ask the user for names/numbers to store in a phonebook (dictionary).\n",
    "    Returns the phonebook.\n",
    "    \"\"\"\n",
    "    phonebook = {}  # Create an empty phonebook\n",
    "\n",
    "    while True:\n",
    "        name = input(\"Name: \")\n",
    "        if name == \"\":\n",
    "            break\n",
    "        number = input(\"Number: \")\n",
    "        phonebook[name] = number\n",
    "\n",
    "    return phonebook\n",
    "\n",
    "\n",
    "def print_phonebook(phonebook):\n",
    "    \"\"\"\n",
    "    Prints out all the names/numbers in the phonebook.\n",
    "    \"\"\"\n",
    "    for name, number in phonebook.items():\n",
    "        print(f\"{name} -> {number}\")\n",
    "\n",
    "\n",
    "def lookup_numbers(phonebook):\n",
    "    \"\"\"\n",
    "    Allow the user to lookup phone numbers in the phonebook\n",
    "    by looking up the number associated with a name.\n",
    "    \"\"\"\n",
    "    while True:\n",
    "        name = input(\"Enter name to lookup: \")\n",
    "        if name == \"\":\n",
    "            break\n",
    "        if name not in phonebook:\n",
    "            print(f\"{name} is not in the phonebook\")\n",
    "        else:\n",
    "            print(f\"{name}'s number is {phonebook[name]}\")\n",
    "\n",
    "\n",
    "def main():\n",
    "    phonebook = read_phone_numbers()\n",
    "    print(\"\\nPhonebook:\")\n",
    "    print_phonebook(phonebook)\n",
    "    print(\"\\nLookup numbers:\")\n",
    "    lookup_numbers(phonebook)\n",
    "\n",
    "\n",
    "# This provided line is required at the end of the Python file to call the main() function.\n",
    "if __name__ == '__main__':\n",
    "    main()"
   ]
  },
  {
   "cell_type": "markdown",
   "id": "e8993260-b7ad-4a2c-a6d2-0259a7202cca",
   "metadata": {},
   "source": [
    "---------"
   ]
  },
  {
   "cell_type": "code",
   "execution_count": null,
   "id": "fc57bbcb-a1fa-449f-9731-c274bf57df70",
   "metadata": {},
   "outputs": [],
   "source": []
  }
 ],
 "metadata": {
  "kernelspec": {
   "display_name": "Python 3 (ipykernel)",
   "language": "python",
   "name": "python3"
  },
  "language_info": {
   "codemirror_mode": {
    "name": "ipython",
    "version": 3
   },
   "file_extension": ".py",
   "mimetype": "text/x-python",
   "name": "python",
   "nbconvert_exporter": "python",
   "pygments_lexer": "ipython3",
   "version": "3.12.4"
  }
 },
 "nbformat": 4,
 "nbformat_minor": 5
}
