{
 "cells": [
  {
   "cell_type": "markdown",
   "id": "b0c54820-6118-4bfc-9bbb-f817d47dee3d",
   "metadata": {},
   "source": [
    "## You want to be safe online and use different passwords for different websites. However, you are forgetful at times and want to make a program that can match which password belongs to which website without storing the actual password!\r\n",
    "\r\n",
    "This can be done via something called hashing. Hashing is when we take something and convert it into a different, unique identifier. This is done using a hash function. Luckily, there are several resources that can help us with this.\r\n",
    "\r\n",
    "For example, using a hash function called SHA256(...) something as simple as\r\n",
    "\r\n",
    "hello\r\n",
    "\r\n",
    "can be hashed into a much more complex\r\n",
    "\r\n",
    "2cf24dba5fb0a30e26e83b2ac5b9e29e1b161e5c1fa7425e73043362938b9824\r\n",
    "\r\n",
    "Fill out the login(...) function for a website that hashes their passwords. Login should return True if an email's stored password hash in stored_logins is the same as the hash of password_to_check.\r\n",
    "\r\n",
    "(Hint. You will need to use the provided hash_password(...) function. You don't necessarily need to know how it works, just know that hash_password(...) returns the hash for the password!)"
   ]
  },
  {
   "cell_type": "code",
   "execution_count": 1,
   "id": "b4ad2a2e-3092-4523-bd57-3be61fdab170",
   "metadata": {},
   "outputs": [
    {
     "name": "stdout",
     "output_type": "stream",
     "text": [
      "False\n",
      "True\n",
      "False\n",
      "True\n",
      "False\n",
      "False\n"
     ]
    }
   ],
   "source": [
    "from hashlib import sha256\n",
    "\n",
    "def login(email, stored_logins, password_to_check):\n",
    "    \"\"\"\n",
    "    Returns True if the hash of the password we are checking matches the one in stored_logins\n",
    "    for a specific email. Otherwise, returns False.\n",
    "\n",
    "    email: the email we are checking the password for\n",
    "    stored_logins: a dictionary pointing from an email to its hashed password\n",
    "    password_to_check: a password we want to test alongside the email to login with\n",
    "    \"\"\"\n",
    "    # Hash the password to check\n",
    "    hashed_password_to_check = hash_password(password_to_check)\n",
    "    \n",
    "    # Check if the email is in the stored_logins dictionary\n",
    "    if email in stored_logins:\n",
    "        # Compare the stored hash with the hash of the password to check\n",
    "        if stored_logins[email] == hashed_password_to_check:\n",
    "            return True\n",
    "    \n",
    "    return False\n",
    "\n",
    "def hash_password(password):\n",
    "    \"\"\"\n",
    "    Takes in a password and returns the SHA256 hashed value for that specific password.\n",
    "    \n",
    "    Inputs:\n",
    "        password: the password we want\n",
    "    \n",
    "    Outputs:\n",
    "        the hashed form of the input password\n",
    "    \"\"\"\n",
    "    return sha256(password.encode()).hexdigest()\n",
    "\n",
    "def main():\n",
    "    # stored_logins is a dictionary with emails as keys and hashed passwords as values\n",
    "    stored_logins = {\n",
    "        \"example@gmail.com\": \"5e884898da28047151d0e56f8dc6292773603d0d6aabbdd62a11ef721d1542d8\",  # \"password\"\n",
    "        \"code_in_placer@cip.org\": \"973607a4ae7b4cf7d96a100b0fb07e8519cc4f70441d41214a9f811577bb06cc\",  # \"Karel\"\n",
    "        \"student@stanford.edu\": \"882c6df720fd99f5eebb1581a1cf975625cea8a160283011c0b9512bb56c95fb\"  # \"password123\"\n",
    "    }\n",
    "    \n",
    "    # Test cases\n",
    "    print(login(\"example@gmail.com\", stored_logins, \"word\"))  # False\n",
    "    print(login(\"example@gmail.com\", stored_logins, \"password\"))  # True\n",
    "    \n",
    "    print(login(\"code_in_placer@cip.org\", stored_logins, \"Karel\"))  # True\n",
    "    print(login(\"code_in_placer@cip.org\", stored_logins, \"karel\"))  # False\n",
    "    \n",
    "    print(login(\"student@stanford.edu\", stored_logins, \"password\"))  # False\n",
    "    print(login(\"student@stanford.edu\", stored_logins, \"password123\"))  # True\n",
    "\n",
    "# This provided line is required at the end of the Python file to call the main() function.\n",
    "if __name__ == '__main__':\n",
    "    main()"
   ]
  },
  {
   "cell_type": "markdown",
   "id": "c8f91240-74c5-4759-bf47-714ef7616721",
   "metadata": {},
   "source": [
    "-------------"
   ]
  },
  {
   "cell_type": "code",
   "execution_count": null,
   "id": "245fb5f9-abc6-42aa-ace6-651757660ea1",
   "metadata": {},
   "outputs": [],
   "source": []
  }
 ],
 "metadata": {
  "kernelspec": {
   "display_name": "Python 3 (ipykernel)",
   "language": "python",
   "name": "python3"
  },
  "language_info": {
   "codemirror_mode": {
    "name": "ipython",
    "version": 3
   },
   "file_extension": ".py",
   "mimetype": "text/x-python",
   "name": "python",
   "nbconvert_exporter": "python",
   "pygments_lexer": "ipython3",
   "version": "3.12.4"
  }
 },
 "nbformat": 4,
 "nbformat_minor": 5
}
