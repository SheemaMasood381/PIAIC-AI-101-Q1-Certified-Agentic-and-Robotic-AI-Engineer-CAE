{
 "cells": [
  {
   "cell_type": "markdown",
   "id": "a5306fec-621d-4a32-8d44-2a9984b36851",
   "metadata": {},
   "source": [
    "##  program counts the number of times each number appears in a list. It uses a dictionary to keep track of the information."
   ]
  },
  {
   "cell_type": "code",
   "execution_count": 5,
   "id": "5fd58101-268b-4711-a37d-3e70a7ff2614",
   "metadata": {},
   "outputs": [
    {
     "name": "stdin",
     "output_type": "stream",
     "text": [
      "Enter a number:  50\n",
      "Enter a number:  50\n",
      "Enter a number:  100\n",
      "Enter a number:  90\n",
      "Enter a number:  60\n",
      "Enter a number:  60\n",
      "Enter a number:  80\n",
      "Enter a number:  50\n",
      "Enter a number:  156\n",
      "Enter a number:  155\n",
      "Enter a number:  5545\n",
      "Enter a number:  1655\n",
      "Enter a number:  \n"
     ]
    },
    {
     "name": "stdout",
     "output_type": "stream",
     "text": [
      "50 appears 3 times.\n",
      "100 appears 1 times.\n",
      "90 appears 1 times.\n",
      "60 appears 2 times.\n",
      "80 appears 1 times.\n",
      "156 appears 1 times.\n",
      "155 appears 1 times.\n",
      "5545 appears 1 times.\n",
      "1655 appears 1 times.\n"
     ]
    }
   ],
   "source": [
    "def get_user_numbers():\n",
    "    \"\"\"\n",
    "    Create an empty list.\n",
    "    Ask the user to input numbers and store them in a list. \n",
    "    Once they enter a blank line, break out of the loop and return the list.\n",
    "    \"\"\"\n",
    "    user_numbers = []\n",
    "    while True:\n",
    "        user_input = input(\"Enter a number: \")\n",
    "        \n",
    "        # If the user enters a blank line, break out of the loop and stop asking for input\n",
    "        if user_input == \"\":\n",
    "            break\n",
    "        \n",
    "        # Convert the user input to an integer and add it to the list\n",
    "        num = int(user_input)\n",
    "        user_numbers.append(num)\n",
    "    \n",
    "    return user_numbers\n",
    "\n",
    "def count_nums(num_lst):\n",
    "    \"\"\"\n",
    "    Create an empty dictionary.\n",
    "    Loop over the list of numbers. \n",
    "    If the number is not in the dictionary, add it as a key with a value of 1.\n",
    "    If the number is in the dictionary, increment its value by 1.\n",
    "    \"\"\"\n",
    "    num_dict = {}\n",
    "    for num in num_lst:\n",
    "        if num not in num_dict:\n",
    "            num_dict[num] = 1\n",
    "        else:\n",
    "            num_dict[num] += 1\n",
    "    \n",
    "    return num_dict\n",
    "\n",
    "def print_counts(num_dict):\n",
    "    \"\"\"\n",
    "    Loop over the dictionary and print out each key and its value.\n",
    "    \"\"\"\n",
    "    for num in num_dict:\n",
    "        print(f\"{num} appears {num_dict[num]} times.\")\n",
    "\n",
    "def main():\n",
    "    \"\"\"\n",
    "    Ask the user to input numbers and store them in a list. Once they enter a blank line,\n",
    "    print out the number of times each number appeared in the list.\n",
    "    \"\"\"\n",
    "    user_numbers = get_user_numbers()\n",
    "    num_dict = count_nums(user_numbers)\n",
    "    print_counts(num_dict)\n",
    "\n",
    "# Python boilerplate.\n",
    "if __name__ == '__main__':\n",
    "    main()"
   ]
  },
  {
   "cell_type": "markdown",
   "id": "9f90f212-c98f-4291-97d8-9f68098a7098",
   "metadata": {},
   "source": [
    "------------"
   ]
  },
  {
   "cell_type": "code",
   "execution_count": null,
   "id": "fc3eeb50-7fd4-45be-b9a0-b6647313befc",
   "metadata": {},
   "outputs": [],
   "source": []
  }
 ],
 "metadata": {
  "kernelspec": {
   "display_name": "Python 3 (ipykernel)",
   "language": "python",
   "name": "python3"
  },
  "language_info": {
   "codemirror_mode": {
    "name": "ipython",
    "version": 3
   },
   "file_extension": ".py",
   "mimetype": "text/x-python",
   "name": "python",
   "nbconvert_exporter": "python",
   "pygments_lexer": "ipython3",
   "version": "3.12.4"
  }
 },
 "nbformat": 4,
 "nbformat_minor": 5
}
