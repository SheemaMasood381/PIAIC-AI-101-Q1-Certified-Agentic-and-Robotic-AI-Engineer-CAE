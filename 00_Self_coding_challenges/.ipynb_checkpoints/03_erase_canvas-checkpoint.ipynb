{
 "cells": [
  {
   "cell_type": "markdown",
   "id": "ab0805fe-2dcf-4efb-8ba1-da808f264fc4",
   "metadata": {},
   "source": [
    "## Implement an 'eraser' on a canvas.\n",
    "\n",
    "The canvas consists of a grid of blue 'cells' which are drawn as rectangles on the screen. We then create an eraser rectangle which, when dragged around the canvas, sets all of the rectangles it is in contact with to white."
   ]
  },
  {
   "cell_type": "code",
   "execution_count": null,
   "id": "37bf6a98-a028-4191-bd03-bca09287f175",
   "metadata": {},
   "outputs": [],
   "source": [
    "import tkinter as tk\n",
    "\n",
    "CANVAS_WIDTH = 400\n",
    "CANVAS_HEIGHT = 400\n",
    "CELL_SIZE = 40\n",
    "ERASER_SIZE = 20\n",
    "\n",
    "class EraserApp:\n",
    "    def __init__(self, root):\n",
    "        self.root = root\n",
    "        self.canvas = tk.Canvas(root, width=CANVAS_WIDTH, height=CANVAS_HEIGHT)\n",
    "        self.canvas.pack()\n",
    "\n",
    "        # Create the grid of blue cells\n",
    "        self.create_grid()\n",
    "\n",
    "        # Initialize eraser\n",
    "        self.eraser = None\n",
    "\n",
    "        # Bind the mouse events\n",
    "        self.canvas.bind(\"<Button-1>\", self.create_eraser)\n",
    "        self.canvas.bind(\"<B1-Motion>\", self.move_eraser)\n",
    "\n",
    "    def create_grid(self):\n",
    "        num_rows = CANVAS_HEIGHT // CELL_SIZE\n",
    "        num_cols = CANVAS_WIDTH // CELL_SIZE\n",
    "\n",
    "        for row in range(num_rows):\n",
    "            for col in range(num_cols):\n",
    "                left_x = col * CELL_SIZE\n",
    "                top_y = row * CELL_SIZE\n",
    "                right_x = left_x + CELL_SIZE\n",
    "                bottom_y = top_y + CELL_SIZE\n",
    "                self.canvas.create_rectangle(left_x, top_y, right_x, bottom_y, fill='blue', outline='black')\n",
    "\n",
    "    def create_eraser(self, event):\n",
    "        if self.eraser is None:\n",
    "            self.eraser = self.canvas.create_rectangle(\n",
    "                event.x, event.y, event.x + ERASER_SIZE, event.y + ERASER_SIZE, fill='white', outline='black'\n",
    "            )\n",
    "\n",
    "    def move_eraser(self, event):\n",
    "        if self.eraser:\n",
    "            self.canvas.coords(self.eraser, event.x, event.y, event.x + ERASER_SIZE, event.y + ERASER_SIZE)\n",
    "            self.erase_objects(event.x, event.y)\n",
    "\n",
    "    def erase_objects(self, x, y):\n",
    "        left_x = x\n",
    "        top_y = y\n",
    "        right_x = left_x + ERASER_SIZE\n",
    "        bottom_y = top_y + ERASER_SIZE\n",
    "\n",
    "        overlapping_items = self.canvas.find_overlapping(left_x, top_y, right_x, bottom_y)\n",
    "        for item in overlapping_items:\n",
    "            if item != self.eraser:\n",
    "                self.canvas.itemconfig(item, fill='white')\n",
    "\n",
    "def main():\n",
    "    root = tk.Tk()\n",
    "    app = EraserApp(root)\n",
    "    root.mainloop()\n",
    "\n",
    "if __name__ == '__main__':\n",
    "    main()"
   ]
  },
  {
   "cell_type": "code",
   "execution_count": 6,
   "id": "bf1dc052-3b4f-4750-8df1-ae6578c14fe0",
   "metadata": {},
   "outputs": [
    {
     "data": {
      "image/png": "[encoded data removed]",
      "text/plain": [
       "<IPython.core.display.Image object>"
      ]
     },
     "metadata": {},
     "output_type": "display_data"
    }
   ],
   "source": [
    "from IPython.display import Image, display\n",
    "\n",
    "# Display the image\n",
    "image_path = '1.png'  # Ensure this path is correct\n",
    "display(Image(filename=image_path))"
   ]
  },
  {
   "cell_type": "markdown",
   "id": "12078a83-5574-4a62-a27b-3d9c39ae8042",
   "metadata": {},
   "source": [
    "-----------"
   ]
  },
  {
   "cell_type": "code",
   "execution_count": null,
   "id": "1339bc8a-ac76-4783-88cf-dc4d28e1afc5",
   "metadata": {},
   "outputs": [],
   "source": []
  }
 ],
 "metadata": {
  "kernelspec": {
   "display_name": "Python 3 (ipykernel)",
   "language": "python",
   "name": "python3"
  },
  "language_info": {
   "codemirror_mode": {
    "name": "ipython",
    "version": 3
   },
   "file_extension": ".py",
   "mimetype": "text/x-python",
   "name": "python",
   "nbconvert_exporter": "python",
   "pygments_lexer": "ipython3",
   "version": "3.12.4"
  }
 },
 "nbformat": 4,
 "nbformat_minor": 5
}
