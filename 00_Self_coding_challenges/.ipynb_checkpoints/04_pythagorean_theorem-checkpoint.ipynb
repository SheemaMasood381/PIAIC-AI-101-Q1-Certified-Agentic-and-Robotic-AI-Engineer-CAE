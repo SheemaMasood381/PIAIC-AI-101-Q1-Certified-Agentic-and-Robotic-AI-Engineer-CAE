{
 "cells": [
  {
   "cell_type": "markdown",
   "id": "a08937c4-ff77-49b6-a010-6501e43bee71",
   "metadata": {},
   "source": [
    "## Write a program that asks the user for the lengths of the two perpendicular sides of a right triangle and outputs the length of the third side (the hypotenuse) using the Pythagorean theorem!"
   ]
  },
  {
   "cell_type": "code",
   "execution_count": 1,
   "id": "521e8141-dda8-433b-ac84-af52248236a5",
   "metadata": {},
   "outputs": [
    {
     "name": "stdin",
     "output_type": "stream",
     "text": [
      "Enter the length of AB:  5\n",
      "Enter the length of AC:  5\n"
     ]
    },
    {
     "name": "stdout",
     "output_type": "stream",
     "text": [
      "The length of BC (the hypotenuse) is: 7.0710678118654755\n"
     ]
    }
   ],
   "source": [
    "import math  # Import the math library to use the sqrt function\n",
    "\n",
    "def main():\n",
    "    # Prompt the user to enter the length of side AB\n",
    "    ab = float(input(\"Enter the length of AB: \"))\n",
    "    \n",
    "    # Prompt the user to enter the length of side AC\n",
    "    ac = float(input(\"Enter the length of AC: \"))\n",
    "    \n",
    "    # Calculate the length of the hypotenuse (BC) using the Pythagorean theorem\n",
    "    # The formula is BC = sqrt(AB^2 + AC^2)\n",
    "    bc = math.sqrt(ab**2 + ac**2)\n",
    "    \n",
    "    # Print the result\n",
    "    print(f\"The length of BC (the hypotenuse) is: {bc}\")\n",
    "\n",
    "# This provided line is required at the end of the Python file to call the main() function.\n",
    "if __name__ == '__main__':\n",
    "    main()"
   ]
  },
  {
   "cell_type": "markdown",
   "id": "c90c3888-161c-4f0c-9349-1e00dfdb1db9",
   "metadata": {},
   "source": [
    "---------"
   ]
  },
  {
   "cell_type": "code",
   "execution_count": null,
   "id": "557baa9a-2c31-4655-9179-1b4e7d29156d",
   "metadata": {},
   "outputs": [],
   "source": []
  }
 ],
 "metadata": {
  "kernelspec": {
   "display_name": "Python 3 (ipykernel)",
   "language": "python",
   "name": "python3"
  },
  "language_info": {
   "codemirror_mode": {
    "name": "ipython",
    "version": 3
   },
   "file_extension": ".py",
   "mimetype": "text/x-python",
   "name": "python",
   "nbconvert_exporter": "python",
   "pygments_lexer": "ipython3",
   "version": "3.12.4"
  }
 },
 "nbformat": 4,
 "nbformat_minor": 5
}
