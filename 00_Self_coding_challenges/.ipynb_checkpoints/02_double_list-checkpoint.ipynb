{
 "cells": [
  {
   "cell_type": "markdown",
   "id": "1e78bb1d-9118-445b-8d80-7e965173b66b",
   "metadata": {},
   "source": [
    "## Write a program that doubles each element in a list of numbers. For example, if you start with this list:\n",
    "\n",
    "numbers = [1, 2, 3, 4]\n",
    "\n",
    "You should end with this list:\n",
    "\n",
    "numbers = [2, 4, 6, 8]"
   ]
  },
  {
   "cell_type": "code",
   "execution_count": 2,
   "id": "1c216446-c790-40e2-9761-57391446c135",
   "metadata": {},
   "outputs": [
    {
     "name": "stdin",
     "output_type": "stream",
     "text": [
      "Please enter numbers separated by spaces:  22 23 24 25 26\n"
     ]
    },
    {
     "name": "stdout",
     "output_type": "stream",
     "text": [
      "The doubled numbers are: [44, 46, 48, 50, 52]\n"
     ]
    }
   ],
   "source": [
    "def main():\n",
    "    # Prompt the user to input numbers separated by spaces\n",
    "    user_input = input(\"Please enter numbers separated by spaces: \")\n",
    "\n",
    "    # Split the input string into a list of strings and convert each to an integer\n",
    "    numbers = [int(num) for num in user_input.split()]\n",
    "\n",
    "    # Double each element in the list\n",
    "    for i in range(len(numbers)):\n",
    "        numbers[i] = numbers[i] * 2\n",
    "\n",
    "    # Print the doubled list\n",
    "    print(\"The doubled numbers are:\", numbers)\n",
    "\n",
    "# This provided line is required at the end of the Python file to call the main() function.\n",
    "if __name__ == '__main__':\n",
    "    main()"
   ]
  },
  {
   "cell_type": "markdown",
   "id": "9bf9b268-f31d-4c9d-a529-47c4d74af6bd",
   "metadata": {},
   "source": [
    "-------------"
   ]
  },
  {
   "cell_type": "code",
   "execution_count": null,
   "id": "d5cd7f49-a316-4a7b-af8a-b32206df76ce",
   "metadata": {},
   "outputs": [],
   "source": []
  }
 ],
 "metadata": {
  "kernelspec": {
   "display_name": "Python 3 (ipykernel)",
   "language": "python",
   "name": "python3"
  },
  "language_info": {
   "codemirror_mode": {
    "name": "ipython",
    "version": 3
   },
   "file_extension": ".py",
   "mimetype": "text/x-python",
   "name": "python",
   "nbconvert_exporter": "python",
   "pygments_lexer": "ipython3",
   "version": "3.12.4"
  }
 },
 "nbformat": 4,
 "nbformat_minor": 5
}
