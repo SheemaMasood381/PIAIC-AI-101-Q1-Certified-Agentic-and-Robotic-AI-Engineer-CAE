{
 "cells": [
  {
   "cell_type": "markdown",
   "id": "95dacda2-4569-4130-ad3e-28eb9712df38",
   "metadata": {},
   "source": [
    "## a program which prompts the user for a temperature in Fahrenheit (this can be a number with decimal places!) and outputs the temperature converted to Celsius"
   ]
  },
  {
   "cell_type": "code",
   "execution_count": 2,
   "id": "16911eab-9612-4e4d-a3b3-712045c87c43",
   "metadata": {},
   "outputs": [
    {
     "name": "stdin",
     "output_type": "stream",
     "text": [
      "Enter temperature in Fahrenheit:  80\n"
     ]
    },
    {
     "name": "stdout",
     "output_type": "stream",
     "text": [
      "Temperature: 80.0F = 26.666666666666668C\n"
     ]
    }
   ],
   "source": [
    "def main():\n",
    "    # Prompt the user for a temperature in Fahrenheit\n",
    "    # We use the float() function to ensure that the input can handle decimal values.\n",
    "    fahrenheit = float(input(\"Enter temperature in Fahrenheit: \"))\n",
    "\n",
    "    # Convert the temperature to Celsius using the formula (Fahrenheit - 32) * 5/9\n",
    "    # This formula is derived from the relationship between the Fahrenheit and Celsius scales.\n",
    "    celsius = (fahrenheit - 32) * 5.0 / 9.0\n",
    "\n",
    "    # Output the temperature in both Fahrenheit and Celsius\n",
    "    # We use an f-string to format the output message, which includes the input temperature in Fahrenheit and the converted temperature in Celsius.\n",
    "    print(f\"Temperature: {fahrenheit}F = {celsius}C\")\n",
    "\n",
    "# This line is required at the end of the Python file to call the main() function.\n",
    "# It ensures that the main() function is executed when the script is run directly.\n",
    "if __name__ == '__main__':\n",
    "    main()"
   ]
  },
  {
   "cell_type": "code",
   "execution_count": null,
   "id": "bf136076-89bb-4d41-ac9a-fd89b246975c",
   "metadata": {},
   "outputs": [],
   "source": [
    "---------"
   ]
  }
 ],
 "metadata": {
  "kernelspec": {
   "display_name": "Python 3 (ipykernel)",
   "language": "python",
   "name": "python3"
  },
  "language_info": {
   "codemirror_mode": {
    "name": "ipython",
    "version": 3
   },
   "file_extension": ".py",
   "mimetype": "text/x-python",
   "name": "python",
   "nbconvert_exporter": "python",
   "pygments_lexer": "ipython3",
   "version": "3.12.4"
  }
 },
 "nbformat": 4,
 "nbformat_minor": 5
}
