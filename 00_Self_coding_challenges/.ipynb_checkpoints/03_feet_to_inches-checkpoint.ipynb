{
 "cells": [
  {
   "cell_type": "markdown",
   "id": "74dbbb99-2e7e-4eb2-8883-2a8961a94f89",
   "metadata": {},
   "source": [
    "## Converts feet to inches. Feet is an American unit of measurement. There are 12 inches per foot. Foot is the singular, and feet is the plural."
   ]
  },
  {
   "cell_type": "code",
   "execution_count": 1,
   "id": "6aec9701-d690-4925-a4a6-b09df99315d1",
   "metadata": {},
   "outputs": [
    {
     "name": "stdin",
     "output_type": "stream",
     "text": [
      "Enter number of feet:  5\n"
     ]
    },
    {
     "name": "stdout",
     "output_type": "stream",
     "text": [
      "That is 60.0 inches!\n"
     ]
    }
   ],
   "source": [
    "\"\"\"\n",
    "Program: Feet to Inches Converter\n",
    "---------------------------------\n",
    "This program converts a measurement in feet to inches.\n",
    "\"\"\"\n",
    "\n",
    "# Conversion factor: There are 12 inches in 1 foot.\n",
    "INCHES_IN_FOOT = 12\n",
    "\n",
    "def main():\n",
    "    # Prompt the user to enter the number of feet\n",
    "    feet = float(input(\"Enter number of feet: \"))\n",
    "    \n",
    "    # Perform the conversion from feet to inches\n",
    "    inches = feet * INCHES_IN_FOOT\n",
    "    \n",
    "    # Print the result with an appropriate message\n",
    "    print(f\"That is {inches} inches!\")\n",
    "\n",
    "# This provided line is required at the end of the Python file to call the main() function.\n",
    "if __name__ == '__main__':\n",
    "    main()"
   ]
  },
  {
   "cell_type": "markdown",
   "id": "fe00a8e2-eab8-4511-8712-3d69a7e13035",
   "metadata": {},
   "source": [
    "------------"
   ]
  },
  {
   "cell_type": "code",
   "execution_count": null,
   "id": "b80c4e94-68e8-4367-a24a-c5121fa6cc5c",
   "metadata": {},
   "outputs": [],
   "source": []
  }
 ],
 "metadata": {
  "kernelspec": {
   "display_name": "Python 3 (ipykernel)",
   "language": "python",
   "name": "python3"
  },
  "language_info": {
   "codemirror_mode": {
    "name": "ipython",
    "version": 3
   },
   "file_extension": ".py",
   "mimetype": "text/x-python",
   "name": "python",
   "nbconvert_exporter": "python",
   "pygments_lexer": "ipython3",
   "version": "3.12.4"
  }
 },
 "nbformat": 4,
 "nbformat_minor": 5
}
