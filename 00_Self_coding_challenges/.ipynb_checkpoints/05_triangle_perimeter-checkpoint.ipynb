{
 "cells": [
  {
   "cell_type": "markdown",
   "id": "dc48a160-4f9a-4216-bfe4-0e64b21d4dd0",
   "metadata": {},
   "source": [
    "## Prompt the user to enter the lengths of each side of a triangle and then calculate and print the perimeter of the triangle (the sum of all of the side lengths)."
   ]
  },
  {
   "cell_type": "code",
   "execution_count": 3,
   "id": "b1ee5f30-df99-4409-b3b3-8074136eee41",
   "metadata": {},
   "outputs": [
    {
     "name": "stdin",
     "output_type": "stream",
     "text": [
      "What is the length of side 1 (in cm)?  5\n",
      "What is the length of side 2 (in cm)?  5\n",
      "What is the length of side 3 (in cm)?  5\n"
     ]
    },
    {
     "name": "stdout",
     "output_type": "stream",
     "text": [
      "The perimeter of the triangle is 15.0 cm\n"
     ]
    }
   ],
   "source": [
    "def main():\n",
    "    # Prompt the user to enter the length of side 1 in centimeters\n",
    "    side1 = float(input(\"What is the length of side 1 (in cm)? \"))\n",
    "    \n",
    "    # Prompt the user to enter the length of side 2 in centimeters\n",
    "    side2 = float(input(\"What is the length of side 2 (in cm)? \"))\n",
    "    \n",
    "    # Prompt the user to enter the length of side 3 in centimeters\n",
    "    side3 = float(input(\"What is the length of side 3 (in cm)? \"))\n",
    "    \n",
    "    # Calculate the perimeter of the triangle\n",
    "    perimeter = side1 + side2 + side3\n",
    "    \n",
    "    # Print out the perimeter of the triangle with units\n",
    "    print(f\"The perimeter of the triangle is {perimeter} cm\")\n",
    "\n",
    "# This provided line is required at the end of the Python file to call the main() function.\n",
    "if __name__ == '__main__':\n",
    "    main()"
   ]
  },
  {
   "cell_type": "markdown",
   "id": "db81ff89-b698-427c-ac55-80473b7a2830",
   "metadata": {},
   "source": [
    "--------"
   ]
  },
  {
   "cell_type": "code",
   "execution_count": null,
   "id": "c28f1567-2918-48a8-90c9-050d7a44e5ae",
   "metadata": {},
   "outputs": [],
   "source": []
  }
 ],
 "metadata": {
  "kernelspec": {
   "display_name": "Python 3 (ipykernel)",
   "language": "python",
   "name": "python3"
  },
  "language_info": {
   "codemirror_mode": {
    "name": "ipython",
    "version": 3
   },
   "file_extension": ".py",
   "mimetype": "text/x-python",
   "name": "python",
   "nbconvert_exporter": "python",
   "pygments_lexer": "ipython3",
   "version": "3.12.4"
  }
 },
 "nbformat": 4,
 "nbformat_minor": 5
}
