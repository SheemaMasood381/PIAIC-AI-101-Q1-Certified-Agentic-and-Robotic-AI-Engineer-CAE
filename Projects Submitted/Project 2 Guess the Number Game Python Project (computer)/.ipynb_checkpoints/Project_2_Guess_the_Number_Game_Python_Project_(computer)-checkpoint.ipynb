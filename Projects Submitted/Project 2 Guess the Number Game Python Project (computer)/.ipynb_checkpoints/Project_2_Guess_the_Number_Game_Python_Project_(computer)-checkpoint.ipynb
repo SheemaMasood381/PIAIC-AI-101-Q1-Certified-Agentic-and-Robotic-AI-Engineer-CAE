{
 "cells": [
  {
   "cell_type": "markdown",
   "metadata": {
    "id": "j0e3EeBQieHG"
   },
   "source": [
    "## Project 02 : Guess the Number game (computer)\n",
    "This project is a simple \"Guess the Number\" game implemented in Python. The game involves the computer randomly selecting a number within a specified range, and the player trying to guess the number. The computer provides feedback on whether the guess is too high, too low, or correct.\n"
   ]
  },
  {
   "cell_type": "code",
   "execution_count": 2,
   "metadata": {
    "colab": {
     "base_uri": "https://localhost:8080/"
    },
    "id": "P4QkbQomh29f",
    "outputId": "ccadea1f-2cef-44f3-beda-07a5e9fbe1be"
   },
   "outputs": [
    {
     "name": "stdout",
     "output_type": "stream",
     "text": [
      "Welcome to the 'Guess the Number' game!\n",
      "I'm thinking of a number between 1 and 100.\n",
      "Enter your guess: 20\n",
      "Too high! Try again.\n",
      "Enter your guess: 10\n",
      "Too high! Try again.\n",
      "Enter your guess: 5\n",
      "Too high! Try again.\n",
      "Enter your guess: 1\n",
      "Too low! Try again.\n",
      "Enter your guess: 3\n",
      "Congratulations! You guessed the number 3 in 5 attempts.\n"
     ]
    }
   ],
   "source": [
    "import random\n",
    "\n",
    "def guess_the_number():\n",
    "    \"\"\"\n",
    "    Guess the Number Game\n",
    "\n",
    "    In this game, the computer randomly selects a number within a specified range, and the player tries to guess the number.\n",
    "    The computer provides feedback on whether the guess is too high, too low, or correct.\n",
    "\n",
    "    This project helps beginners learn:\n",
    "    - How to work with Python's random module.\n",
    "    - How to build functions.\n",
    "    - How to use while loops and conditionals.\n",
    "    - How to get user input.\n",
    "    \"\"\"\n",
    "    print(\"Welcome to the 'Guess the Number' game!\")\n",
    "    print(\"I'm thinking of a number between 1 and 100.\")\n",
    "\n",
    "    # Generate a random number between 1 and 100\n",
    "    number_to_guess = random.randint(1, 100)\n",
    "\n",
    "    # Initialize the number of attempts\n",
    "    attempts = 0\n",
    "\n",
    "    while True:\n",
    "        # Get the user's guess\n",
    "        guess = input(\"Enter your guess: \")\n",
    "\n",
    "        # Try to convert the user's input to an integer\n",
    "        try:\n",
    "            guess = int(guess)\n",
    "        except ValueError:\n",
    "            print(\"Please enter a valid number.\")\n",
    "            continue\n",
    "\n",
    "        # Increment the number of attempts\n",
    "        attempts += 1\n",
    "\n",
    "        # Provide feedback based on the user's guess\n",
    "        if guess < number_to_guess:\n",
    "            print(\"Too low! Try again.\")\n",
    "        elif guess > number_to_guess:\n",
    "            print(\"Too high! Try again.\")\n",
    "        else:\n",
    "            print(f\"Congratulations! You guessed the number {number_to_guess} in {attempts} attempts.\")\n",
    "            break\n",
    "\n",
    "if __name__ == \"__main__\":\n",
    "    guess_the_number()"
   ]
  },
  {
   "cell_type": "code",
   "execution_count": 3,
   "metadata": {
    "colab": {
     "base_uri": "https://localhost:8080/"
    },
    "id": "lUHIi_FKh747",
    "outputId": "990fdb44-a77a-4da8-b9ee-161457a532eb"
   },
   "outputs": [
    {
     "name": "stdout",
     "output_type": "stream",
     "text": [
      "Welcome to the 'Guess the Number' game!\n",
      "I'm thinking of a number between 1 and 100.\n",
      "Enter your guess: 50\n",
      "Too low! Try again.\n",
      "Enter your guess: 80\n",
      "Too high! Try again.\n",
      "Enter your guess: 65\n",
      "Too high! Try again.\n",
      "Enter your guess: 55\n",
      "Too low! Try again.\n",
      "Enter your guess: 60\n",
      "Too high! Try again.\n",
      "Enter your guess: 67\n",
      "Too high! Try again.\n",
      "Enter your guess: 66\n",
      "Too high! Try again.\n",
      "Enter your guess: 63\n",
      "Too high! Try again.\n",
      "Enter your guess: 32\n",
      "Too low! Try again.\n",
      "Enter your guess: 92\n",
      "Too high! Try again.\n",
      "Enter your guess: 61\n",
      "Too high! Try again.\n",
      "Enter your guess: 59\n",
      "Too high! Try again.\n",
      "Enter your guess: 56\n",
      "Too low! Try again.\n",
      "Enter your guess: 58\n",
      "Too high! Try again.\n",
      "Enter your guess: 57\n",
      "Congratulations! You guessed the number 57 in 15 attempts.\n"
     ]
    }
   ],
   "source": [
    "if __name__ == \"__main__\":\n",
    "    guess_the_number()"
   ]
  },
  {
   "cell_type": "markdown",
   "metadata": {
    "id": "ngxKRB-5kQG2"
   },
   "source": [
    "-----------------------"
   ]
  },
  {
   "cell_type": "code",
   "execution_count": null,
   "metadata": {
    "id": "r6eJesN1jCQL"
   },
   "outputs": [],
   "source": []
  }
 ],
 "metadata": {
  "colab": {
   "provenance": []
  },
  "kernelspec": {
   "display_name": "Python 3 (ipykernel)",
   "language": "python",
   "name": "python3"
  },
  "language_info": {
   "codemirror_mode": {
    "name": "ipython",
    "version": 3
   },
   "file_extension": ".py",
   "mimetype": "text/x-python",
   "name": "python",
   "nbconvert_exporter": "python",
   "pygments_lexer": "ipython3",
   "version": "3.12.4"
  }
 },
 "nbformat": 4,
 "nbformat_minor": 4
}
