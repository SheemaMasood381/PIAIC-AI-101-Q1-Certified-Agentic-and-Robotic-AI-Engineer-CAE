{
 "cells": [
  {
   "cell_type": "markdown",
   "metadata": {
    "id": "9zFklAUiAOgu"
   },
   "source": [
    "# Project 4 Rock, paper, scissors Python Project\n",
    "In this game, the user will play \"Rock, Paper, Scissors\" against the computer. The computer will randomly select one of the options, and the user will input their choice. The game will then determine the winner based on the rules of \"Rock, Paper, Scissors\"."
   ]
  },
  {
   "cell_type": "code",
   "execution_count": null,
   "metadata": {
    "colab": {
     "base_uri": "https://localhost:8080/"
    },
    "id": "c9rYPd8-_88g",
    "outputId": "6bc6463f-4599-4aff-ced1-1194172a22fb"
   },
   "outputs": [
    {
     "name": "stdout",
     "output_type": "stream",
     "text": [
      "Enter your choice (rock, paper, or scissors): rock\n",
      "Computer chose: paper\n",
      "You chose: rock\n",
      "You lose!\n"
     ]
    }
   ],
   "source": [
    "import random\n",
    "\n",
    "def play():\n",
    "    \"\"\"\n",
    "    Rock, Paper, Scissors Game\n",
    "\n",
    "    In this game, the user plays rock, paper, scissors against the computer.\n",
    "    The computer randomly selects one of the options, and the user inputs their choice.\n",
    "    The game determines the winner based on the rules of rock, paper, scissors.\n",
    "\n",
    "    This project helps beginners learn:\n",
    "    - How to use random.choice() to make random selections.\n",
    "    - How to build functions.\n",
    "    - How to use if statements to handle conditions.\n",
    "    - How to get user input.\n",
    "    \"\"\"\n",
    "    options = [\"rock\", \"paper\", \"scissors\"]\n",
    "    computer_choice = random.choice(options)\n",
    "    user_choice = input(\"Enter your choice (rock, paper, or scissors): \").lower()\n",
    "\n",
    "    if user_choice not in options:\n",
    "        print(\"Invalid choice. Please choose rock, paper, or scissors.\")\n",
    "        return\n",
    "\n",
    "    print(f\"Computer chose: {computer_choice}\")\n",
    "    print(f\"You chose: {user_choice}\")\n",
    "\n",
    "    if user_choice == computer_choice:\n",
    "        print(\"It's a tie!\")\n",
    "    elif (user_choice == \"rock\" and computer_choice == \"scissors\") or \\\n",
    "         (user_choice == \"paper\" and computer_choice == \"rock\") or \\\n",
    "         (user_choice == \"scissors\" and computer_choice == \"paper\"):\n",
    "        print(\"You win!\")\n",
    "    else:\n",
    "        print(\"You lose!\")\n",
    "\n",
    "if __name__ == \"__main__\":\n",
    "    play()"
   ]
  },
  {
   "cell_type": "code",
   "execution_count": null,
   "metadata": {
    "colab": {
     "base_uri": "https://localhost:8080/"
    },
    "id": "Pvq3oUIDAPVd",
    "outputId": "a3ab948e-b53a-4b58-a234-44472ce327f3"
   },
   "outputs": [
    {
     "name": "stdout",
     "output_type": "stream",
     "text": [
      "Enter your choice (rock, paper, or scissors): paper\n",
      "Computer chose: scissors\n",
      "You chose: paper\n",
      "You lose!\n"
     ]
    }
   ],
   "source": [
    "\n",
    "if __name__ == \"__main__\":\n",
    "    play()"
   ]
  },
  {
   "cell_type": "code",
   "execution_count": null,
   "metadata": {
    "colab": {
     "base_uri": "https://localhost:8080/"
    },
    "id": "ydJJCraIAZLH",
    "outputId": "bbfb4f34-2cb6-450b-9b7f-bd65e5a78a62"
   },
   "outputs": [
    {
     "name": "stdout",
     "output_type": "stream",
     "text": [
      "Enter your choice (rock, paper, or scissors): scissors\n",
      "Computer chose: scissors\n",
      "You chose: scissors\n",
      "It's a tie!\n"
     ]
    }
   ],
   "source": [
    "\n",
    "if __name__ == \"__main__\":\n",
    "    play()"
   ]
  },
  {
   "cell_type": "markdown",
   "metadata": {
    "id": "-mAVXBjXAiU1"
   },
   "source": [
    "----------------"
   ]
  }
 ],
 "metadata": {
  "colab": {
   "provenance": []
  },
  "kernelspec": {
   "display_name": "Python 3 (ipykernel)",
   "language": "python",
   "name": "python3"
  },
  "language_info": {
   "codemirror_mode": {
    "name": "ipython",
    "version": 3
   },
   "file_extension": ".py",
   "mimetype": "text/x-python",
   "name": "python",
   "nbconvert_exporter": "python",
   "pygments_lexer": "ipython3",
   "version": "3.12.4"
  }
 },
 "nbformat": 4,
 "nbformat_minor": 4
}
