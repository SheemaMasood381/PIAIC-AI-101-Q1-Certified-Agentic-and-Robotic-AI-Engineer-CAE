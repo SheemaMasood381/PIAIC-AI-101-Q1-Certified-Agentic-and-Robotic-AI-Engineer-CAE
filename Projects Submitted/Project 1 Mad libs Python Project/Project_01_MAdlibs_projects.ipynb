{
  "nbformat": 4,
  "nbformat_minor": 0,
  "metadata": {
    "colab": {
      "provenance": []
    },
    "kernelspec": {
      "name": "python3",
      "display_name": "Python 3"
    },
    "language_info": {
      "name": "python"
    }
  },
  "cells": [
    {
      "cell_type": "code",
      "execution_count": null,
      "metadata": {
        "colab": {
          "base_uri": "https://localhost:8080/"
        },
        "id": "IF5WMdtYfjZG",
        "outputId": "8d21d963-af20-4df8-d3b3-7a5eae2a5788"
      },
      "outputs": [
        {
          "output_type": "stream",
          "name": "stdout",
          "text": [
            "Select a project to run:\n",
            "1. Basic Madlibs\n",
            "2. Madlibs Randomizer\n",
            "Enter the number of the project you want to run: b\n",
            "Running Project 01 (b): Madlibs Randomizer\n",
            "Adjective: good\n",
            "Noun: food\n",
            "Verb: eat\n",
            "Place: karachi\n",
            "It was a good day at Hogwarts. Harry and his friends were eat in the karachi when they found a mysterious food.\n"
          ]
        }
      ],
      "source": [
        "import random\n",
        "\n",
        "def basic_madlib():\n",
        "    adj = input(\"Adjective: \")\n",
        "    verb1 = input(\"Verb: \")\n",
        "    verb2 = input(\"Verb: \")\n",
        "    famous_person = input(\"Famous person: \")\n",
        "\n",
        "    madlib = f\"Computer programming is so {adj}! It makes me so excited all the time because \\\n",
        "    I love to {verb1}. Stay hydrated and {verb2} like you are {famous_person}!\"\n",
        "\n",
        "    print(madlib)\n",
        "\n",
        "def code_madlib():\n",
        "    adj = input(\"Adjective: \")\n",
        "    verb1 = input(\"Verb: \")\n",
        "    verb2 = input(\"Verb: \")\n",
        "    famous_person = input(\"Famous person: \")\n",
        "\n",
        "    madlib = f\"Computer programming is so {adj}! It makes me so excited all the time because \\\n",
        "    I love to {verb1}. Stay hydrated and {verb2} like you are {famous_person}!\"\n",
        "\n",
        "    print(madlib)\n",
        "\n",
        "def hp_madlib():\n",
        "    adj = input(\"Adjective: \")\n",
        "    noun = input(\"Noun: \")\n",
        "    verb = input(\"Verb: \")\n",
        "    place = input(\"Place: \")\n",
        "\n",
        "    madlib = f\"It was a {adj} day at Hogwarts. Harry and his friends were {verb} in the {place} when they found a mysterious {noun}.\"\n",
        "\n",
        "    print(madlib)\n",
        "\n",
        "def hunger_games_madlib():\n",
        "    adj = input(\"Adjective: \")\n",
        "    noun = input(\"Noun: \")\n",
        "    past_verb = input(\"Past tense verb: \")\n",
        "    place = input(\"Place: \")\n",
        "\n",
        "    madlib = f\"In the {adj} world of Panem, a young tribute found a {noun} that changed everything. They {past_verb} through the {place} to survive.\"\n",
        "\n",
        "    print(madlib)\n",
        "\n",
        "def zombie_madlib():\n",
        "    adj = input(\"Adjective: \")\n",
        "    noun = input(\"Noun: \")\n",
        "    verb = input(\"Verb: \")\n",
        "    place = input(\"Place: \")\n",
        "\n",
        "    madlib = f\"During the {adj} zombie apocalypse, survivors needed to {verb} quickly. They found a safe house in the {place} with enough {noun} to last for weeks.\"\n",
        "\n",
        "    print(madlib)\n",
        "\n",
        "def random_madlib():\n",
        "    madlibs = [code_madlib, hp_madlib, hunger_games_madlib, zombie_madlib]\n",
        "    m = random.choice(madlibs)\n",
        "    m()\n",
        "\n",
        "if __name__ == \"__main__\":\n",
        "    print(\"Select a project to run:\")\n",
        "    print(\"1. Basic Madlibs\")\n",
        "    print(\"2. Madlibs Randomizer\")\n",
        "\n",
        "    choice = input(\"Enter the number of the project you want to run: \")\n",
        "\n",
        "    if choice == \"a\":\n",
        "        print(\"Running Project 01 (a): Basic Madlibs\")\n",
        "        basic_madlib()\n",
        "    elif choice == \"b\":\n",
        "        print(\"Running Project 01 (b): Madlibs Randomizer\")\n",
        "        random_madlib()\n",
        "    else:\n",
        "        print(\"Invalid choice. Please run the script again and select either a or b.\")"
      ]
    },
    {
      "cell_type": "markdown",
      "source": [
        "----------"
      ],
      "metadata": {
        "id": "fvFIuCWGsQeU"
      }
    },
    {
      "cell_type": "code",
      "source": [],
      "metadata": {
        "id": "D7g-nhqZfoGT"
      },
      "execution_count": null,
      "outputs": []
    }
  ]
}