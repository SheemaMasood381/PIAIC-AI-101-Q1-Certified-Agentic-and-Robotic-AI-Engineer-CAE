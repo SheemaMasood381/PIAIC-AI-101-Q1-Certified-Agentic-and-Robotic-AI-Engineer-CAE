{
 "cells": [
  {
   "cell_type": "markdown",
   "metadata": {
    "id": "sNe-pjDhE4bO"
   },
   "source": [
    "# Project 7: Password Generator Python Project\n",
    "In this project, you will create a password generator that:\n",
    "\n",
    "- Asks the user for the number of passwords they want to generate.\n",
    "- Asks the user for the length of each password.\n",
    "- Generates random passwords using a mix of letters, digits, and special characters.\n",
    "- Outputs the generated passwords."
   ]
  },
  {
   "cell_type": "code",
   "execution_count": 1,
   "metadata": {
    "colab": {
     "base_uri": "https://localhost:8080/"
    },
    "id": "8n_ldyv1Ezzc",
    "outputId": "a037cde4-885a-4132-aebc-c1bda20707fc"
   },
   "outputs": [
    {
     "name": "stdout",
     "output_type": "stream",
     "text": [
      "Enter the number of passwords to generate: 2\n",
      "Enter the length of each password: 8\n",
      "\n",
      "Generated Passwords:\n",
      "YFq\"bX!?\n",
      "Y8hH,CKv\n"
     ]
    }
   ],
   "source": [
    "import random\n",
    "import string\n",
    "\n",
    "def generate_password(length):\n",
    "    \"\"\"\n",
    "    Generate a random password of a given length.\n",
    "\n",
    "    The password will include a mix of uppercase letters, lowercase letters, digits, and special characters.\n",
    "    \"\"\"\n",
    "    characters = string.ascii_letters + string.digits + string.punctuation\n",
    "    password = ''.join(random.choice(characters) for i in range(length))\n",
    "    return password\n",
    "\n",
    "def main():\n",
    "    \"\"\"\n",
    "    Main function to generate multiple passwords based on user input.\n",
    "    \"\"\"\n",
    "    try:\n",
    "        num_passwords = int(input(\"Enter the number of passwords to generate: \"))\n",
    "        password_length = int(input(\"Enter the length of each password: \"))\n",
    "\n",
    "        print(\"\\nGenerated Passwords:\")\n",
    "        for _ in range(num_passwords):\n",
    "            print(generate_password(password_length))\n",
    "\n",
    "    except ValueError:\n",
    "        print(\"Please enter valid numbers for the number of passwords and their lengths.\")\n",
    "\n",
    "if __name__ == \"__main__\":\n",
    "    main()"
   ]
  },
  {
   "cell_type": "code",
   "execution_count": 2,
   "metadata": {
    "colab": {
     "base_uri": "https://localhost:8080/"
    },
    "id": "0dYfguX4Fofz",
    "outputId": "449499d4-d289-4009-a47f-918a5f6a156c"
   },
   "outputs": [
    {
     "name": "stdout",
     "output_type": "stream",
     "text": [
      "Enter the number of passwords to generate: 10\n",
      "Enter the length of each password: 15\n",
      "\n",
      "Generated Passwords:\n",
      "(=uuYo^@546}d$v\n",
      "Up!u{o)1nHL7#'&\n",
      "H52v>r%_\"IG%!Rb\n",
      "kc#c5<9L>2Hw5RR\n",
      "ichd#5x-?]U^}B7\n",
      "sc>B~9He)y,Jc1m\n",
      "&Hw!xS/\"Q!YlPwr\n",
      "Mi5NUO$D3?edhge\n",
      "TaIWn8i2m.!:Bk-\n",
      "!'S\\BT3(o7uW0,}\n"
     ]
    }
   ],
   "source": [
    "if __name__ == \"__main__\":\n",
    "    main()"
   ]
  },
  {
   "cell_type": "markdown",
   "metadata": {
    "id": "R5brc0O9F-e9"
   },
   "source": [
    "-------------"
   ]
  }
 ],
 "metadata": {
  "colab": {
   "provenance": []
  },
  "kernelspec": {
   "display_name": "Python 3 (ipykernel)",
   "language": "python",
   "name": "python3"
  },
  "language_info": {
   "codemirror_mode": {
    "name": "ipython",
    "version": 3
   },
   "file_extension": ".py",
   "mimetype": "text/x-python",
   "name": "python",
   "nbconvert_exporter": "python",
   "pygments_lexer": "ipython3",
   "version": "3.12.4"
  }
 },
 "nbformat": 4,
 "nbformat_minor": 4
}
