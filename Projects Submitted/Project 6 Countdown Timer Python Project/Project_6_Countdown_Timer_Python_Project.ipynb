{
 "cells": [
  {
   "cell_type": "markdown",
   "metadata": {
    "id": "4fJ_PF9qBNFN"
   },
   "source": [
    "# Project 6: Countdown Timer Python Project\n",
    "In this project, you will build a countdown timer that takes a specified amount of time (in seconds) as input and counts down to zero, displaying the remaining time at regular intervals."
   ]
  },
  {
   "cell_type": "code",
   "execution_count": 2,
   "metadata": {
    "colab": {
     "base_uri": "https://localhost:8080/"
    },
    "id": "gnXCEOW-H9gG",
    "outputId": "0fb2f69a-d287-46b5-8e26-6aafa52b9c4f"
   },
   "outputs": [
    {
     "name": "stdout",
     "output_type": "stream",
     "text": [
      "Enter the time in seconds: 2\n",
      "Time's up!\n"
     ]
    }
   ],
   "source": [
    "import time\n",
    "\n",
    "def countdown_timer(seconds):\n",
    "    \"\"\"\n",
    "    Countdown Timer\n",
    "\n",
    "    This function takes a specified amount of time (in seconds) as input and counts down to zero.\n",
    "    It displays the remaining time at regular intervals.\n",
    "\n",
    "    This project helps beginners learn:\n",
    "    - How to use the time module in Python.\n",
    "    - How to work with while loops.\n",
    "    - How to handle time-based operations.\n",
    "    \"\"\"\n",
    "    while seconds:\n",
    "        mins, secs = divmod(seconds, 60)\n",
    "        timer = f'{mins:02}:{secs:02}'\n",
    "        print(timer, end=\"\\r\")\n",
    "        time.sleep(1)\n",
    "        seconds -= 1\n",
    "\n",
    "    print(\"Time's up!\")\n",
    "\n",
    "if __name__ == \"__main__\":\n",
    "    # Input time in seconds\n",
    "    t = input(\"Enter the time in seconds: \")\n",
    "\n",
    "    # Check if the input is a valid number\n",
    "    if t.isdigit():\n",
    "        countdown_timer(int(t))\n",
    "    else:\n",
    "        print(\"Please enter a valid number.\")"
   ]
  },
  {
   "cell_type": "code",
   "execution_count": 3,
   "metadata": {
    "colab": {
     "base_uri": "https://localhost:8080/"
    },
    "id": "OaZwtm3vBi5g",
    "outputId": "a67c065c-0b76-4746-fc38-e1bc1b6812cd"
   },
   "outputs": [
    {
     "name": "stdout",
     "output_type": "stream",
     "text": [
      "Enter the time in seconds: 2\n",
      "Time's up!\n"
     ]
    }
   ],
   "source": [
    "if __name__ == \"__main__\":\n",
    "    # Input time in seconds\n",
    "    t = input(\"Enter the time in seconds: \")\n",
    "\n",
    "    # Check if the input is a valid number\n",
    "    if t.isdigit():\n",
    "        countdown_timer(int(t))\n",
    "    else:\n",
    "        print(\"Please enter a valid number.\")"
   ]
  },
  {
   "cell_type": "code",
   "execution_count": null,
   "metadata": {
    "colab": {
     "base_uri": "https://localhost:8080/"
    },
    "id": "LaPuQIV3CBFe",
    "outputId": "52d340eb-4210-4868-9578-1105959356cb"
   },
   "outputs": [
    {
     "name": "stdout",
     "output_type": "stream",
     "text": [
      "Enter the time in seconds: k\n",
      "Please enter a valid number.\n"
     ]
    }
   ],
   "source": [
    "if __name__ == \"__main__\":\n",
    "    # Input time in seconds\n",
    "    t = input(\"Enter the time in seconds: \")\n",
    "\n",
    "    # Check if the input is a valid number\n",
    "    if t.isdigit():\n",
    "        countdown_timer(int(t))\n",
    "    else:\n",
    "        print(\"Please enter a valid number.\")"
   ]
  },
  {
   "cell_type": "code",
   "execution_count": null,
   "metadata": {
    "colab": {
     "base_uri": "https://localhost:8080/"
    },
    "id": "0Ao6KPF-CFGq",
    "outputId": "ee2f505c-5138-43c0-ddf6-7f151ca2dc9f"
   },
   "outputs": [
    {
     "name": "stdout",
     "output_type": "stream",
     "text": [
      "Enter the time in seconds: 10\n",
      "Time's up!\n"
     ]
    }
   ],
   "source": [
    "if __name__ == \"__main__\":\n",
    "    # Input time in seconds\n",
    "    t = input(\"Enter the time in seconds: \")\n",
    "\n",
    "    # Check if the input is a valid number\n",
    "    if t.isdigit():\n",
    "        countdown_timer(int(t))\n",
    "    else:\n",
    "        print(\"Please enter a valid number.\")"
   ]
  },
  {
   "cell_type": "markdown",
   "metadata": {
    "id": "0893S-XeCV9V"
   },
   "source": [
    "---------------------"
   ]
  }
 ],
 "metadata": {
  "colab": {
   "provenance": []
  },
  "kernelspec": {
   "display_name": "Python 3 (ipykernel)",
   "language": "python",
   "name": "python3"
  },
  "language_info": {
   "codemirror_mode": {
    "name": "ipython",
    "version": 3
   },
   "file_extension": ".py",
   "mimetype": "text/x-python",
   "name": "python",
   "nbconvert_exporter": "python",
   "pygments_lexer": "ipython3",
   "version": "3.12.4"
  }
 },
 "nbformat": 4,
 "nbformat_minor": 4
}
