{
 "cells": [
  {
   "cell_type": "markdown",
   "metadata": {
    "id": "165LIlwD_D5q"
   },
   "source": [
    "# Project 03:  Guess the Number Game Python Project (user).\n",
    "In this game, the user thinks of a number within a specified range, and the computer tries to guess the number. The user provides feedback on whether the guess is too high, too low, or correct."
   ]
  },
  {
   "cell_type": "code",
   "execution_count": 2,
   "metadata": {
    "colab": {
     "base_uri": "https://localhost:8080/"
    },
    "id": "gOtbZdM--Cc7",
    "outputId": "0c84ef78-df6d-48dc-bd2c-33fabd7c07e7"
   },
   "outputs": [
    {
     "name": "stdout",
     "output_type": "stream",
     "text": [
      "Think of a number between 1 and 100. The computer will try to guess it!\n"
     ]
    },
    {
     "name": "stdin",
     "output_type": "stream",
     "text": [
      "Is 99 too high (H), too low (L), or correct (C)?  H\n",
      "Is 13 too high (H), too low (L), or correct (C)?  L\n",
      "Is 50 too high (H), too low (L), or correct (C)?  C\n"
     ]
    },
    {
     "name": "stdout",
     "output_type": "stream",
     "text": [
      "Yay! The computer guessed your number, 50, in 3 attempts!\n"
     ]
    }
   ],
   "source": [
    "import random\n",
    "\n",
    "def computer_guess(x):\n",
    "    \"\"\"\n",
    "    Computer Guesses the Number Game\n",
    "\n",
    "    In this game, the user thinks of a number within a specified range, and the computer tries to guess the number.\n",
    "    The user provides feedback on whether the guess is too high, too low, or correct.\n",
    "\n",
    "    This project helps beginners learn:\n",
    "    - How to work with Python's random module.\n",
    "    - How to build functions.\n",
    "    - How to use while loops and conditionals.\n",
    "    - How to get user input.\n",
    "    \"\"\"\n",
    "    low = 1\n",
    "    high = x\n",
    "    feedback = ''\n",
    "    attempts = 0\n",
    "\n",
    "    print(f\"Think of a number between {low} and {high}. The computer will try to guess it!\")\n",
    "\n",
    "    while feedback != 'c':\n",
    "        if low != high:\n",
    "            guess = random.randint(low, high)\n",
    "        else:\n",
    "            guess = low  # or high, since low == high\n",
    "        attempts += 1\n",
    "\n",
    "        feedback = input(f\"Is {guess} too high (H), too low (L), or correct (C)? \").lower()\n",
    "\n",
    "        if feedback == 'h':\n",
    "            high = guess - 1\n",
    "        elif feedback == 'l':\n",
    "            low = guess + 1\n",
    "        elif feedback == 'c':\n",
    "            print(f\"Yay! The computer guessed your number, {guess}, in {attempts} attempts!\")\n",
    "        else:\n",
    "            print(\"Please enter 'H', 'L', or 'C'.\")\n",
    "\n",
    "if __name__ == \"__main__\":\n",
    "    computer_guess(100)"
   ]
  },
  {
   "cell_type": "code",
   "execution_count": 3,
   "metadata": {},
   "outputs": [
    {
     "name": "stdout",
     "output_type": "stream",
     "text": [
      "Think of a number between 1 and 100. The computer will try to guess it!\n"
     ]
    },
    {
     "name": "stdin",
     "output_type": "stream",
     "text": [
      "Is 47 too high (H), too low (L), or correct (C)?  L\n",
      "Is 83 too high (H), too low (L), or correct (C)?  H\n",
      "Is 65 too high (H), too low (L), or correct (C)?  H\n",
      "Is 51 too high (H), too low (L), or correct (C)?  L\n",
      "Is 63 too high (H), too low (L), or correct (C)?  H\n",
      "Is 57 too high (H), too low (L), or correct (C)?  L\n",
      "Is 60 too high (H), too low (L), or correct (C)?  C\n"
     ]
    },
    {
     "name": "stdout",
     "output_type": "stream",
     "text": [
      "Yay! The computer guessed your number, 60, in 7 attempts!\n"
     ]
    }
   ],
   "source": [
    "if __name__ == \"__main__\":\n",
    "    computer_guess(100)"
   ]
  },
  {
   "cell_type": "markdown",
   "metadata": {
    "id": "XyROKKEd_W1G"
   },
   "source": [
    "-------------------"
   ]
  }
 ],
 "metadata": {
  "colab": {
   "provenance": []
  },
  "kernelspec": {
   "display_name": "Python 3 (ipykernel)",
   "language": "python",
   "name": "python3"
  },
  "language_info": {
   "codemirror_mode": {
    "name": "ipython",
    "version": 3
   },
   "file_extension": ".py",
   "mimetype": "text/x-python",
   "name": "python",
   "nbconvert_exporter": "python",
   "pygments_lexer": "ipython3",
   "version": "3.12.4"
  }
 },
 "nbformat": 4,
 "nbformat_minor": 4
}
