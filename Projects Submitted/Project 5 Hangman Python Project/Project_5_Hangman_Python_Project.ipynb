{
 "cells": [
  {
   "cell_type": "markdown",
   "metadata": {
    "id": "o3wk96yECxdf"
   },
   "source": [
    "# Project 5: Hangman Python Project\n",
    "In this project, you will create a simple Hangman game where the player has to guess a hidden word one letter at a time. The player has a limited number of incorrect guesses before the game is over."
   ]
  },
  {
   "cell_type": "code",
   "execution_count": 1,
   "metadata": {
    "colab": {
     "base_uri": "https://localhost:8080/"
    },
    "id": "AMZPOhPbCmRu",
    "outputId": "2451da19-5965-4247-d35d-80122cb49e7f"
   },
   "outputs": [
    {
     "name": "stdout",
     "output_type": "stream",
     "text": [
      "You have 6 lives left and you have used these letters:  \n",
      "Current word:  - - - - - - - -\n",
      "Guess a letter: a\n",
      "\n",
      "Your letter, A is not in the word.\n",
      "You have 5 lives left and you have used these letters:  A\n",
      "Current word:  - - - - - - - -\n",
      "Guess a letter: i\n",
      "You have 5 lives left and you have used these letters:  I A\n",
      "Current word:  - - - - - I - -\n",
      "Guess a letter: k\n",
      "\n",
      "Your letter, K is not in the word.\n",
      "You have 4 lives left and you have used these letters:  K I A\n",
      "Current word:  - - - - - I - -\n",
      "Guess a letter: g\n",
      "\n",
      "Your letter, G is not in the word.\n",
      "You have 3 lives left and you have used these letters:  K I G A\n",
      "Current word:  - - - - - I - -\n",
      "Guess a letter: h\n",
      "\n",
      "Your letter, H is not in the word.\n",
      "You have 2 lives left and you have used these letters:  I H K A G\n",
      "Current word:  - - - - - I - -\n",
      "Guess a letter: n\n",
      "You have 2 lives left and you have used these letters:  I N H K A G\n",
      "Current word:  - - N - - I - N\n",
      "Guess a letter: f\n",
      "You have 2 lives left and you have used these letters:  I N H K A G F\n",
      "Current word:  F - N - - I - N\n",
      "Guess a letter: function\n",
      "\n",
      "That is not a valid letter.\n",
      "You have 2 lives left and you have used these letters:  I N H K A G F\n",
      "Current word:  F - N - - I - N\n",
      "Guess a letter: u\n",
      "You have 2 lives left and you have used these letters:  U I N H K A G F\n",
      "Current word:  F U N - - I - N\n",
      "Guess a letter: c\n",
      "You have 2 lives left and you have used these letters:  U I N H K A C G F\n",
      "Current word:  F U N C - I - N\n",
      "Guess a letter: t\n",
      "You have 2 lives left and you have used these letters:  T U I N H K A C G F\n",
      "Current word:  F U N C T I - N\n",
      "Guess a letter: o\n",
      "YAY! You guessed the word FUNCTION!!\n"
     ]
    }
   ],
   "source": [
    "import random\n",
    "import string\n",
    "\n",
    "def get_valid_word(words):\n",
    "    word = random.choice(words)  # randomly chooses a word from the list\n",
    "    while '-' in word or ' ' in word:\n",
    "        word = random.choice(words)\n",
    "    return word.upper()\n",
    "\n",
    "def hangman():\n",
    "    words = [\"PYTHON\", \"DEVELOPER\", \"HANGMAN\", \"DEBUGGING\", \"FUNCTION\", \"VARIABLE\", \"DICTIONARY\", \"LIST\", \"TUPLE\"]\n",
    "    word = get_valid_word(words)\n",
    "    word_letters = set(word)  # letters in the word\n",
    "    alphabet = set(string.ascii_uppercase)\n",
    "    used_letters = set()  # what the user has guessed\n",
    "\n",
    "    lives = 6\n",
    "\n",
    "    # getting user input\n",
    "    while len(word_letters) > 0 and lives > 0:\n",
    "        # letters used\n",
    "        print('You have', lives, 'lives left and you have used these letters: ', ' '.join(used_letters))\n",
    "\n",
    "        # what current word is (i.e. W - R D)\n",
    "        word_list = [letter if letter in used_letters else '-' for letter in word]\n",
    "        print('Current word: ', ' '.join(word_list))\n",
    "\n",
    "        user_letter = input('Guess a letter: ').upper()\n",
    "        if user_letter in alphabet - used_letters:\n",
    "            used_letters.add(user_letter)\n",
    "            if user_letter in word_letters:\n",
    "                word_letters.remove(user_letter)\n",
    "            else:\n",
    "                lives -= 1  # takes away a life if wrong\n",
    "                print(f'\\nYour letter, {user_letter} is not in the word.')\n",
    "\n",
    "        elif user_letter in used_letters:\n",
    "            print('\\nYou have already used that letter. Guess another letter.')\n",
    "\n",
    "        else:\n",
    "            print('\\nThat is not a valid letter.')\n",
    "\n",
    "    # gets here when len(word_letters) == 0 or when lives == 0\n",
    "    if lives == 0:\n",
    "        print(f'Sorry, you died. The word was {word}.')\n",
    "    else:\n",
    "        print(f'YAY! You guessed the word {word}!!')\n",
    "\n",
    "if __name__ == \"__main__\":\n",
    "    hangman()"
   ]
  },
  {
   "cell_type": "code",
   "execution_count": null,
   "metadata": {
    "id": "IvBoznaWEdRQ"
   },
   "outputs": [],
   "source": []
  },
  {
   "cell_type": "code",
   "execution_count": 2,
   "metadata": {
    "colab": {
     "base_uri": "https://localhost:8080/"
    },
    "id": "szIsLHXFEQet",
    "outputId": "3e15d189-0f8d-4c3a-c035-8c476cc5ac7d"
   },
   "outputs": [
    {
     "name": "stdout",
     "output_type": "stream",
     "text": [
      "You have 6 lives left and you have used these letters:  \n",
      "Current word:  - - - - - - - - - -\n",
      "Guess a letter: d\n",
      "You have 6 lives left and you have used these letters:  D\n",
      "Current word:  D - - - - - - - - -\n",
      "Guess a letter: g\n",
      "\n",
      "Your letter, G is not in the word.\n",
      "You have 5 lives left and you have used these letters:  D G\n",
      "Current word:  D - - - - - - - - -\n",
      "Guess a letter: b\n",
      "\n",
      "Your letter, B is not in the word.\n",
      "You have 4 lives left and you have used these letters:  B D G\n",
      "Current word:  D - - - - - - - - -\n",
      "Guess a letter: e\n",
      "\n",
      "Your letter, E is not in the word.\n",
      "You have 3 lives left and you have used these letters:  B D E G\n",
      "Current word:  D - - - - - - - - -\n",
      "Guess a letter: a\n",
      "You have 3 lives left and you have used these letters:  B D A E G\n",
      "Current word:  D - - - - - - A - -\n",
      "Guess a letter: i\n",
      "You have 3 lives left and you have used these letters:  B D I A E G\n",
      "Current word:  D I - - I - - A - -\n",
      "Guess a letter: c\n",
      "You have 3 lives left and you have used these letters:  B D I A E C G\n",
      "Current word:  D I C - I - - A - -\n",
      "Guess a letter: t\n",
      "You have 3 lives left and you have used these letters:  T B D I A E C G\n",
      "Current word:  D I C T I - - A - -\n",
      "Guess a letter: o\n",
      "You have 3 lives left and you have used these letters:  T B D I O A E C G\n",
      "Current word:  D I C T I O - A - -\n",
      "Guess a letter: n\n",
      "You have 3 lives left and you have used these letters:  T B D I N O A E C G\n",
      "Current word:  D I C T I O N A - -\n",
      "Guess a letter: r\n",
      "You have 3 lives left and you have used these letters:  T B D I N R O A E C G\n",
      "Current word:  D I C T I O N A R -\n",
      "Guess a letter: y\n",
      "YAY! You guessed the word DICTIONARY!!\n"
     ]
    }
   ],
   "source": [
    "if __name__ == \"__main__\":\n",
    "    hangman()"
   ]
  },
  {
   "cell_type": "markdown",
   "metadata": {
    "id": "qT6uQSSfEMZs"
   },
   "source": [
    "--------------"
   ]
  }
 ],
 "metadata": {
  "colab": {
   "provenance": []
  },
  "kernelspec": {
   "display_name": "Python 3 (ipykernel)",
   "language": "python",
   "name": "python3"
  },
  "language_info": {
   "codemirror_mode": {
    "name": "ipython",
    "version": 3
   },
   "file_extension": ".py",
   "mimetype": "text/x-python",
   "name": "python",
   "nbconvert_exporter": "python",
   "pygments_lexer": "ipython3",
   "version": "3.12.4"
  }
 },
 "nbformat": 4,
 "nbformat_minor": 4
}
