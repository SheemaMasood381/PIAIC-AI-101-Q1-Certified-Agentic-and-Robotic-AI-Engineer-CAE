{
  "cells": [
    {
      "cell_type": "markdown",
      "metadata": {
        "id": "z_n6OcBlGgWV"
      },
      "source": [
        "# Project 8: Create a Python Streamlit BMI Calculator Web App in Just 6 Minutes\n",
        "In this project, you will create a simple BMI Calculator that takes the user's height and weight as inputs and calculates their BMI. The result will be displayed along with a message indicating the BMI category (e.g., underweight, normal weight, overweight, obesity)."
      ]
    },
    {
      "cell_type": "markdown",
      "metadata": {
        "id": "2zieNPLzNbcM"
      },
      "source": [
        "### Step 1: Setup Streamlit in Google Colab"
      ]
    },
    {
      "cell_type": "code",
      "execution_count": 1,
      "metadata": {
        "colab": {
          "base_uri": "https://localhost:8080/"
        },
        "id": "edNAVlyPGG0n",
        "outputId": "66e1eb69-dc41-4f65-d5a7-7a8942139b47"
      },
      "outputs": [
        {
          "output_type": "stream",
          "name": "stdout",
          "text": [
            "\u001b[2K     \u001b[90m━━━━━━━━━━━━━━━━━━━━━━━━━━━━━━━━━━━━━━━━\u001b[0m \u001b[32m44.3/44.3 kB\u001b[0m \u001b[31m1.8 MB/s\u001b[0m eta \u001b[36m0:00:00\u001b[0m\n",
            "\u001b[2K   \u001b[90m━━━━━━━━━━━━━━━━━━━━━━━━━━━━━━━━━━━━━━━━\u001b[0m \u001b[32m9.1/9.1 MB\u001b[0m \u001b[31m55.2 MB/s\u001b[0m eta \u001b[36m0:00:00\u001b[0m\n",
            "\u001b[2K   \u001b[90m━━━━━━━━━━━━━━━━━━━━━━━━━━━━━━━━━━━━━━━━\u001b[0m \u001b[32m6.9/6.9 MB\u001b[0m \u001b[31m91.4 MB/s\u001b[0m eta \u001b[36m0:00:00\u001b[0m\n",
            "\u001b[2K   \u001b[90m━━━━━━━━━━━━━━━━━━━━━━━━━━━━━━━━━━━━━━━━\u001b[0m \u001b[32m79.1/79.1 kB\u001b[0m \u001b[31m7.1 MB/s\u001b[0m eta \u001b[36m0:00:00\u001b[0m\n",
            "\u001b[?25h"
          ]
        }
      ],
      "source": [
        "!pip install streamlit -q\n",
        "!pip install pyngrok  -q   # This is used to tunnel the Streamlit app to a public URL"
      ]
    },
    {
      "cell_type": "markdown",
      "metadata": {
        "id": "aK42d94VNYO2"
      },
      "source": [
        "### Step 2: Write the Streamlit App\n",
        "Next, create a Python script for the Streamlit app.\n"
      ]
    },
    {
      "cell_type": "code",
      "execution_count": null,
      "metadata": {
        "id": "SEP_3HEXLlPo"
      },
      "outputs": [],
      "source": [
        "%%writefile bmi_calculator.py\n",
        "\n",
        "import streamlit as st\n",
        "\n",
        "outside_expander_area = st.container()\n",
        "\n",
        "state = st.session_state\n",
        "if 'WEIGHT' not in state:\n",
        "    state.WEIGHT = 52.0\n",
        "if 'HEIGHT' not in state:\n",
        "    state.HEIGHT = 1.54\n",
        "\n",
        "def _set_values_cb():\n",
        "    state.WEIGHT = state['weight']\n",
        "    state.HEIGHT = state['height']\n",
        "\n",
        "with outside_expander_area:\n",
        "    c1, c2 = st.columns([1,1])\n",
        "    with c1:\n",
        "        guage = st.empty()\n",
        "    with c2:\n",
        "        state.WEIGHT = st.number_input('Enter weight (kg)', min_value=50.0, max_value=150.0, value=state.WEIGHT, step=0.5, on_change=_set_values_cb, key='weight')\n",
        "        state.HEIGHT = st.number_input('Enter height (m)', min_value=1.0, max_value=2.5, value=state.HEIGHT, step=0.1, on_change=_set_values_cb, key='height')\n",
        "\n",
        "BMI = round(state.WEIGHT/(state.HEIGHT**2), 1)\n",
        "\n",
        "bmi_thresholds = [13, 18.5, 25, 30, 43]\n",
        "level_labels = ['Severe Underweight', 'Underweight','Normal','Overweight','Obesity', 'Severe Obesity']\n",
        "\n",
        "if BMI <= bmi_thresholds[0]:\n",
        "    level = level_labels[0]\n",
        "elif BMI <= bmi_thresholds[1]:\n",
        "    level = level_labels[1]\n",
        "elif BMI <= bmi_thresholds[2]:\n",
        "    level = level_labels[2]\n",
        "elif BMI <= bmi_thresholds[3]:\n",
        "    level = level_labels[3]\n",
        "elif BMI <= bmi_thresholds[4]:\n",
        "    level = level_labels[4]\n",
        "else:\n",
        "    level = level_labels[5]\n",
        "\n",
        "bmi_gauge_lower = 13\n",
        "bmi_gauge_upper = 43\n",
        "bmi_guage_range = (bmi_gauge_upper - bmi_gauge_lower)\n",
        "BMI_adjusted = BMI if (BMI >= bmi_gauge_lower and BMI <= bmi_gauge_upper) else (\n",
        "    bmi_gauge_lower if BMI < bmi_gauge_lower else bmi_gauge_upper\n",
        ")\n",
        "dial_rotation = round(((BMI_adjusted - bmi_gauge_lower) / bmi_guage_range) * 180.0, 1)\n",
        "\n",
        "html = f\"\"\"\n",
        "<html><body>\n",
        "<svg xmlns=\"http://www.w3.org/2000/svg\" xmlns:xlink=\"http://www.w3.org/1999/xlink\" width=\"300px\" height=\"163px\" viewBox=\"0 0 300 163\">\n",
        "<g transform=\"translate(18,18)\" style=\"font-family:arial,helvetica,sans-serif;font-size: 12px;\">\n",
        "    <defs>\n",
        "        <marker id=\"arrowhead\" markerWidth=\"10\" markerHeight=\"7\" refX=\"0\" refY=\"3.5\" orient=\"auto\">\n",
        "            <polygon points=\"0 0, 10 3.5, 0 7\"></polygon>\n",
        "        </marker>\n",
        "        <path id=\"curvetxt1\" d=\"M-4 140 A140 140, 0, 0, 1, 284 140\" style=\"fill: none;\"></path>\n",
        "        <path id=\"curvetxt2\" d=\"M33 43.6 A140 140, 0, 0, 1, 280 140\" style=\"fill: #none;\"></path>\n",
        "        <path id=\"curvetxt3\" d=\"M95 3 A140 140, 0, 0, 1, 284 140\" style=\"fill: #none;\"></path>\n",
        "        <path id=\"curvetxt4\" d=\"M235.4 33 A140 140, 0, 0, 1, 284 140\" style=\"fill: #none;\"></path>\n",
        "    </defs>\n",
        "    <path d=\"M0 140 A140 140, 0, 0, 1, 280 140 L140 140 Z\" fill=\"#bc2020\"></path>\n",
        "    <path d=\"M6.9 96.7 A140 140, 0, 0, 1, 280 140 L140 140 Z\" fill=\"#d38888\"></path>\n",
        "    <path d=\"M12.1 83.1 A140 140, 0, 0, 1, 280 140 L140 140 Z\" fill=\"#ffe400\"></path>\n",
        "    <path d=\"M22.6 63.8 A140 140, 0, 0, 1, 96.7 6.9 L140 140 Z\" fill=\"#008137\"></path>\n",
        "    <path d=\"M96.7 6.9 A140 140, 0, 0, 1, 280 140 L140 140 Z\" fill=\"#ffe400\"></path>\n",
        "    <path d=\"M169.1 3.1 A140 140, 0, 0, 1, 280 140 L140 140 Z\" fill=\"#d38888\"></path>\n",
        "    <path d=\"M233.7 36 A140 140, 0, 0, 1, 280 140 L140 140 Z\" fill=\"#bc2020\"></path>\n",
        "    <path d=\"M273.1 96.7 A140 140, 0, 0, 1, 280 140 L140 140 Z\" fill=\"#8a0101\"></path>\n",
        "    <path d=\"M45 140 A90 90, 0, 0, 1, 230 140 Z\" fill=\"#fff\"></path>\n",
        "    <circle cx=\"140\" cy=\"140\" r=\"5\" fill=\"#666\"></circle>\n",
        "\n",
        "    <g style=\"paint-order: stroke;stroke: #fff;stroke-width: 2px;\">\n",
        "        <text x=\"25\" y=\"111\" transform=\"rotate(-72, 25, 111)\">16</text>\n",
        "        <text x=\"30\" y=\"96\" transform=\"rotate(-66, 30, 96)\">17</text>\n",
        "        <text x=\"35\" y=\"83\" transform=\"rotate(-57, 35, 83)\">18.5</text>\n",
        "        <text x=\"97\" y=\"29\" transform=\"rotate(-18, 97, 29)\">25</text>\n",
        "        <text x=\"157\" y=\"20\" transform=\"rotate(12, 157, 20)\">30</text>\n",
        "        <text x=\"214\" y=\"45\" transform=\"rotate(42, 214, 45)\">35</text>\n",
        "        <text x=\"252\" y=\"95\" transform=\"rotate(72, 252, 95)\">40</text>\n",
        "    </g>\n",
        "\n",
        "    <g style=\"font-size: 14px;\">\n",
        "        <text><textPath xlink:href=\"#curvetxt1\">Underweight</textPath></text>\n",
        "        <text><textPath xlink:href=\"#curvetxt2\">Normal</textPath></text>\n",
        "        <text><textPath xlink:href=\"#curvetxt3\">Overweight</textPath></text>\n",
        "        <text><textPath xlink:href=\"#curvetxt4\">Obesity</textPath></text>\n",
        "    </g>\n",
        "\n",
        "    <line x1=\"140\" y1=\"140\" x2=\"65\" y2=\"140\" stroke=\"#666\" stroke-width=\"2\" marker-end=\"url(#arrowhead)\">\n",
        "        <animateTransform attributeName=\"transform\" attributeType=\"XML\" type=\"rotate\" from=\"0 140 140\" to=\"{dial_rotation} 140 140\" dur=\"1s\" fill=\"freeze\" repeatCount=\"1\"></animateTransform>\n",
        "    </line>\n",
        "\n",
        "    <text x=\"67\" y=\"120\" style=\"font-size: 30px;font-weight:bold;color:#000;\">BMI = {BMI}</text>\n",
        "</g>\n",
        "</svg>\n",
        "</body></html>\n",
        "\"\"\"\n",
        "\n",
        "with outside_expander_area:\n",
        "    import streamlit.components.v1 as components\n",
        "    with guage:\n",
        "        components.html(html.replace('\\n',''))\n",
        "\n",
        "    st.subheader(f'BMI level is {level} ({BMI})')\n",
        "\n",
        "st.markdown(\"\"\"\n",
        "<footer style='text-align: center; padding: 10px 0; font-size: 14px; color: gray;'>\n",
        "    <hr style='border: 1px solid #ddd;'>\n",
        "    Powered by Streamlit | Developed by Sheema Masood\n",
        "</footer>\n",
        "\"\"\", unsafe_allow_html=True)"
      ]
    },
    {
      "cell_type": "markdown",
      "metadata": {
        "id": "D8wPpfZDNxfc"
      },
      "source": [
        "### Step 3: Run the Streamlit App in Colab\n",
        "To run the Streamlit app in Google Colab, use the following commands in a new cell:"
      ]
    },
    {
      "cell_type": "code",
      "execution_count": null,
      "metadata": {
        "colab": {
          "base_uri": "https://localhost:8080/"
        },
        "id": "0Hg5p4WXNOBC",
        "outputId": "836dfec6-725c-4140-9cf5-0d7e3e25157e"
      },
      "outputs": [
        {
          "output_type": "stream",
          "name": "stdout",
          "text": [
            "\n",
            "Collecting usage statistics. To deactivate, set browser.gatherUsageStats to false.\n",
            "\u001b[0m\n",
            "\u001b[0m\n",
            "\u001b[34m\u001b[1m  You can now view your Streamlit app in your browser.\u001b[0m\n",
            "\u001b[0m\n",
            "\u001b[34m  Local URL: \u001b[0m\u001b[1mhttp://localhost:8501\u001b[0m\n",
            "\u001b[34m  Network URL: \u001b[0m\u001b[1mhttp://172.28.0.12:8501\u001b[0m\n",
            "\u001b[34m  External URL: \u001b[0m\u001b[1mhttp://34.106.208.150:8501\u001b[0m\n",
            "\u001b[0m\n"
          ]
        }
      ],
      "source": [
        "from pyngrok import ngrok\n",
        "\n",
        "# Terminate any existing tunnels\n",
        "ngrok.kill()\n",
        "\n",
        "# Run Streamlit app\n",
        "!streamlit run bmi_calculator.py &\n",
        "\n",
        "# Create a new ngrok tunnel\n",
        "public_url = ngrok.connect(port='8501')\n",
        "public_url"
      ]
    },
    {
      "cell_type": "markdown",
      "source": [
        "------------------------"
      ],
      "metadata": {
        "id": "PskMBja9jzXt"
      }
    },
    {
      "cell_type": "code",
      "execution_count": null,
      "metadata": {
        "id": "PKB-mJccXUIf"
      },
      "outputs": [],
      "source": []
    },
    {
      "cell_type": "markdown",
      "metadata": {
        "id": "IaSGMc9nQZHQ"
      },
      "source": [
        "------------------"
      ]
    }
  ],
  "metadata": {
    "colab": {
      "provenance": []
    },
    "kernelspec": {
      "display_name": "Python 3",
      "name": "python3"
    },
    "language_info": {
      "name": "python"
    }
  },
  "nbformat": 4,
  "nbformat_minor": 0
}